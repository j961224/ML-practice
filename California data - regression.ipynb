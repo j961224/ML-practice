{
  "nbformat": 4,
  "nbformat_minor": 0,
  "metadata": {
    "kernelspec": {
      "display_name": "Python 3",
      "language": "python",
      "name": "python3"
    },
    "language_info": {
      "codemirror_mode": {
        "name": "ipython",
        "version": 3
      },
      "file_extension": ".py",
      "mimetype": "text/x-python",
      "name": "python",
      "nbconvert_exporter": "python",
      "pygments_lexer": "ipython3",
      "version": "3.6.10"
    },
    "colab": {
      "name": "기계학습 homework6_data .ipynb",
      "provenance": [],
      "collapsed_sections": []
    }
  },
  "cells": [
    {
      "cell_type": "markdown",
      "metadata": {
        "id": "4Yr6xUAMa3QJ",
        "colab_type": "text"
      },
      "source": [
        "## california data (linear regression data)"
      ]
    },
    {
      "cell_type": "code",
      "metadata": {
        "scrolled": false,
        "id": "uWx80xRma3QM",
        "colab_type": "code",
        "colab": {
          "base_uri": "https://localhost:8080/",
          "height": 755
        },
        "outputId": "eb57121c-bb29-4b32-eea8-b56229f091b8"
      },
      "source": [
        "from sklearn.datasets import fetch_california_housing\n",
        "california = fetch_california_housing()\n",
        "print(california.DESCR)"
      ],
      "execution_count": 84,
      "outputs": [
        {
          "output_type": "stream",
          "text": [
            ".. _california_housing_dataset:\n",
            "\n",
            "California Housing dataset\n",
            "--------------------------\n",
            "\n",
            "**Data Set Characteristics:**\n",
            "\n",
            "    :Number of Instances: 20640\n",
            "\n",
            "    :Number of Attributes: 8 numeric, predictive attributes and the target\n",
            "\n",
            "    :Attribute Information:\n",
            "        - MedInc        median income in block\n",
            "        - HouseAge      median house age in block\n",
            "        - AveRooms      average number of rooms\n",
            "        - AveBedrms     average number of bedrooms\n",
            "        - Population    block population\n",
            "        - AveOccup      average house occupancy\n",
            "        - Latitude      house block latitude\n",
            "        - Longitude     house block longitude\n",
            "\n",
            "    :Missing Attribute Values: None\n",
            "\n",
            "This dataset was obtained from the StatLib repository.\n",
            "http://lib.stat.cmu.edu/datasets/\n",
            "\n",
            "The target variable is the median house value for California districts.\n",
            "\n",
            "This dataset was derived from the 1990 U.S. census, using one row per census\n",
            "block group. A block group is the smallest geographical unit for which the U.S.\n",
            "Census Bureau publishes sample data (a block group typically has a population\n",
            "of 600 to 3,000 people).\n",
            "\n",
            "It can be downloaded/loaded using the\n",
            ":func:`sklearn.datasets.fetch_california_housing` function.\n",
            "\n",
            ".. topic:: References\n",
            "\n",
            "    - Pace, R. Kelley and Ronald Barry, Sparse Spatial Autoregressions,\n",
            "      Statistics and Probability Letters, 33 (1997) 291-297\n",
            "\n"
          ],
          "name": "stdout"
        }
      ]
    },
    {
      "cell_type": "code",
      "metadata": {
        "id": "3bHlJkcza3QS",
        "colab_type": "code",
        "colab": {}
      },
      "source": [
        "from sklearn.model_selection import train_test_split\n",
        "x_train, x_test, y_train, y_test = train_test_split(california.data, california.target, test_size = 0.1)"
      ],
      "execution_count": 0,
      "outputs": []
    },
    {
      "cell_type": "markdown",
      "metadata": {
        "id": "B68FECbda3QW",
        "colab_type": "text"
      },
      "source": [
        "## Logistic regrssion 용 데이터"
      ]
    },
    {
      "cell_type": "code",
      "metadata": {
        "id": "oZ_kwxZea3QX",
        "colab_type": "code",
        "colab": {}
      },
      "source": [
        "#  해당 코드는 수정하지 마세요\n",
        "from sklearn.datasets import make_classification\n",
        "\n",
        "\n",
        "\n",
        "X, y = make_classification(n_features=8, n_informative=5,\n",
        "                           n_redundant=3, n_clusters_per_class=1, random_state=4, n_samples =1000 )"
      ],
      "execution_count": 0,
      "outputs": []
    },
    {
      "cell_type": "markdown",
      "metadata": {
        "id": "B39ejzywa3Qb",
        "colab_type": "text"
      },
      "source": [
        ""
      ]
    },
    {
      "cell_type": "code",
      "metadata": {
        "id": "da3rK-sga3Qc",
        "colab_type": "code",
        "colab": {}
      },
      "source": [
        "x_train, x_test, y_train, y_test = train_test_split(X, y, test_size = 0.1)"
      ],
      "execution_count": 0,
      "outputs": []
    },
    {
      "cell_type": "code",
      "metadata": {
        "id": "FQd53n6Za3Qg",
        "colab_type": "code",
        "colab": {
          "base_uri": "https://localhost:8080/",
          "height": 396
        },
        "outputId": "5bc27a43-9ff1-4e9d-db89-e76d2762d134"
      },
      "source": [
        "import matplotlib.pyplot as plt\n",
        "\n",
        "plt.figure(figsize=(20,20))\n",
        "plt.subplot(2,4,1)\n",
        "plt.scatter(x_train[:,0], y_train, marker='o', c=y_train,\n",
        "    s=100, edgecolor=\"k\", linewidth=2)\n",
        "plt.subplot(2,4,2)\n",
        "plt.scatter(x_train[:,1], y_train, marker='o', c=y_train,\n",
        "    s=100, edgecolor=\"k\", linewidth=2)\n",
        "plt.subplot(2,4,3)\n",
        "plt.scatter(x_train[:,2], y_train, marker='o', c=y_train,\n",
        "    s=100, edgecolor=\"k\", linewidth=2)\n",
        "plt.subplot(2,4,4)\n",
        "plt.scatter(x_train[:,3], y_train, marker='o', c=y_train,\n",
        "    s=100, edgecolor=\"k\", linewidth=2)\n",
        "plt.show()"
      ],
      "execution_count": 5,
      "outputs": [
        {
          "output_type": "display_data",
          "data": {
            "image/png": "[encoded data removed]",
            "text/plain": [
              "<Figure size 1440x1440 with 4 Axes>"
            ]
          },
          "metadata": {
            "tags": [],
            "needs_background": "light"
          }
        }
      ]
    },
    {
      "cell_type": "markdown",
      "metadata": {
        "id": "zewFz5clhXYS",
        "colab_type": "text"
      },
      "source": [
        "#1.\tCoefficient interpretation (logistic regression)"
      ]
    },
    {
      "cell_type": "markdown",
      "metadata": {
        "id": "Z7rix1_hiYay",
        "colab_type": "text"
      },
      "source": [
        "**A.\t주어진 데이터의 모든 feature에 대해서 correlation coefficient array를 구하고 이 중 correlation coefficient 가 높은 5개의 feature를 이용해 feature간의 correlation을 heatmap으로 그린다. **"
      ]
    },
    {
      "cell_type": "code",
      "metadata": {
        "id": "dYQtW3krgmlI",
        "colab_type": "code",
        "colab": {}
      },
      "source": [
        "#  해당 코드는 수정하지 마세요\n",
        "from sklearn.datasets import make_classification\n",
        "\n",
        "\n",
        "\n",
        "X, y = make_classification(n_features=8, n_informative=5,\n",
        "                           n_redundant=3, n_clusters_per_class=1, random_state=4, n_samples =1000 )"
      ],
      "execution_count": 0,
      "outputs": []
    },
    {
      "cell_type": "code",
      "metadata": {
        "id": "CwCzzLc-5Hj3",
        "colab_type": "code",
        "colab": {
          "base_uri": "https://localhost:8080/",
          "height": 297
        },
        "outputId": "cad8116f-fff9-43d7-d303-2f3907308ad5"
      },
      "source": [
        "import pandas as pd\n",
        "## correlation coefficient array 구하기\n",
        "df=pd.DataFrame(X)\n",
        "corr=df.corr()\n",
        "corr.columns=[\"MedInc\", \"HouseAge\", \"AveRooms\", \"AveBedrms\" ,\"Population\", \"AveOccup\", \"Latitude\", \"Longitude\" ]\n",
        "corr.index=[\"MedInc\", \"HouseAge\", \"AveRooms\", \"AveBedrms\" ,\"Population\", \"AveOccup\", \"Latitude\", \"Longitude\" ]\n",
        "corr\n",
        "#0.7이상이면 강한 양적 상관관계, -0.7이하면 강한 음적 상관관계"
      ],
      "execution_count": 37,
      "outputs": [
        {
          "output_type": "execute_result",
          "data": {
            "text/html": [
              "<div>\n",
              "<style scoped>\n",
              "    .dataframe tbody tr th:only-of-type {\n",
              "        vertical-align: middle;\n",
              "    }\n",
              "\n",
              "    .dataframe tbody tr th {\n",
              "        vertical-align: top;\n",
              "    }\n",
              "\n",
              "    .dataframe thead th {\n",
              "        text-align: right;\n",
              "    }\n",
              "</style>\n",
              "<table border=\"1\" class=\"dataframe\">\n",
              "  <thead>\n",
              "    <tr style=\"text-align: right;\">\n",
              "      <th></th>\n",
              "      <th>MedInc</th>\n",
              "      <th>HouseAge</th>\n",
              "      <th>AveRooms</th>\n",
              "      <th>AveBedrms</th>\n",
              "      <th>Population</th>\n",
              "      <th>AveOccup</th>\n",
              "      <th>Latitude</th>\n",
              "      <th>Longitude</th>\n",
              "    </tr>\n",
              "  </thead>\n",
              "  <tbody>\n",
              "    <tr>\n",
              "      <th>MedInc</th>\n",
              "      <td>1.000000</td>\n",
              "      <td>-0.478951</td>\n",
              "      <td>0.436902</td>\n",
              "      <td>0.864159</td>\n",
              "      <td>0.880861</td>\n",
              "      <td>-0.018816</td>\n",
              "      <td>-0.390682</td>\n",
              "      <td>0.215001</td>\n",
              "    </tr>\n",
              "    <tr>\n",
              "      <th>HouseAge</th>\n",
              "      <td>-0.478951</td>\n",
              "      <td>1.000000</td>\n",
              "      <td>-0.575351</td>\n",
              "      <td>-0.304146</td>\n",
              "      <td>-0.527124</td>\n",
              "      <td>-0.566431</td>\n",
              "      <td>-0.354715</td>\n",
              "      <td>-0.367063</td>\n",
              "    </tr>\n",
              "    <tr>\n",
              "      <th>AveRooms</th>\n",
              "      <td>0.436902</td>\n",
              "      <td>-0.575351</td>\n",
              "      <td>1.000000</td>\n",
              "      <td>0.403478</td>\n",
              "      <td>0.588714</td>\n",
              "      <td>0.290694</td>\n",
              "      <td>0.572638</td>\n",
              "      <td>0.948551</td>\n",
              "    </tr>\n",
              "    <tr>\n",
              "      <th>AveBedrms</th>\n",
              "      <td>0.864159</td>\n",
              "      <td>-0.304146</td>\n",
              "      <td>0.403478</td>\n",
              "      <td>1.000000</td>\n",
              "      <td>0.670715</td>\n",
              "      <td>-0.029360</td>\n",
              "      <td>-0.212808</td>\n",
              "      <td>0.315153</td>\n",
              "    </tr>\n",
              "    <tr>\n",
              "      <th>Population</th>\n",
              "      <td>0.880861</td>\n",
              "      <td>-0.527124</td>\n",
              "      <td>0.588714</td>\n",
              "      <td>0.670715</td>\n",
              "      <td>1.000000</td>\n",
              "      <td>-0.229822</td>\n",
              "      <td>-0.183234</td>\n",
              "      <td>0.371171</td>\n",
              "    </tr>\n",
              "    <tr>\n",
              "      <th>AveOccup</th>\n",
              "      <td>-0.018816</td>\n",
              "      <td>-0.566431</td>\n",
              "      <td>0.290694</td>\n",
              "      <td>-0.029360</td>\n",
              "      <td>-0.229822</td>\n",
              "      <td>1.000000</td>\n",
              "      <td>0.415417</td>\n",
              "      <td>0.242491</td>\n",
              "    </tr>\n",
              "    <tr>\n",
              "      <th>Latitude</th>\n",
              "      <td>-0.390682</td>\n",
              "      <td>-0.354715</td>\n",
              "      <td>0.572638</td>\n",
              "      <td>-0.212808</td>\n",
              "      <td>-0.183234</td>\n",
              "      <td>0.415417</td>\n",
              "      <td>1.000000</td>\n",
              "      <td>0.707985</td>\n",
              "    </tr>\n",
              "    <tr>\n",
              "      <th>Longitude</th>\n",
              "      <td>0.215001</td>\n",
              "      <td>-0.367063</td>\n",
              "      <td>0.948551</td>\n",
              "      <td>0.315153</td>\n",
              "      <td>0.371171</td>\n",
              "      <td>0.242491</td>\n",
              "      <td>0.707985</td>\n",
              "      <td>1.000000</td>\n",
              "    </tr>\n",
              "  </tbody>\n",
              "</table>\n",
              "</div>"
            ],
            "text/plain": [
              "              MedInc  HouseAge  AveRooms  ...  AveOccup  Latitude  Longitude\n",
              "MedInc      1.000000 -0.478951  0.436902  ... -0.018816 -0.390682   0.215001\n",
              "HouseAge   -0.478951  1.000000 -0.575351  ... -0.566431 -0.354715  -0.367063\n",
              "AveRooms    0.436902 -0.575351  1.000000  ...  0.290694  0.572638   0.948551\n",
              "AveBedrms   0.864159 -0.304146  0.403478  ... -0.029360 -0.212808   0.315153\n",
              "Population  0.880861 -0.527124  0.588714  ... -0.229822 -0.183234   0.371171\n",
              "AveOccup   -0.018816 -0.566431  0.290694  ...  1.000000  0.415417   0.242491\n",
              "Latitude   -0.390682 -0.354715  0.572638  ...  0.415417  1.000000   0.707985\n",
              "Longitude   0.215001 -0.367063  0.948551  ...  0.242491  0.707985   1.000000\n",
              "\n",
              "[8 rows x 8 columns]"
            ]
          },
          "metadata": {
            "tags": []
          },
          "execution_count": 37
        }
      ]
    },
    {
      "cell_type": "code",
      "metadata": {
        "id": "OtnfRS3Ghje9",
        "colab_type": "code",
        "colab": {
          "base_uri": "https://localhost:8080/",
          "height": 233
        },
        "outputId": "7087edb8-60ec-4f8a-8928-59008aaf3a5b"
      },
      "source": [
        "import scipy.stats as stats\n",
        "## coefficient 가 높은 부분의 coefficient와 p값 출력\n",
        "## 2개의 feature의 공분산\n",
        "corr4=stats.pearsonr(df[0],df[3])\n",
        "cov4 = np.cov(df[0], df[3])\n",
        "print(corr4)\n",
        "print(cov4)\n",
        "corr1=stats.pearsonr(df[0],df[4])\n",
        "cov1 = np.cov(df[0], df[4])\n",
        "print(corr1)\n",
        "print(cov1)\n",
        "corr2=stats.pearsonr(df[2],df[7])\n",
        "cov2 = np.cov(df[2], df[7])\n",
        "print(corr2)\n",
        "print(cov2)\n",
        "corr3=stats.pearsonr(df[6],df[7])\n",
        "cov3 = np.cov(df[6], df[7])\n",
        "print(corr3)\n",
        "print(cov3)"
      ],
      "execution_count": 12,
      "outputs": [
        {
          "output_type": "stream",
          "text": [
            "(0.8641594989388494, 6.579367060057393e-300)\n",
            "[[5.00356429 2.71002262]\n",
            " [2.71002262 1.96552482]]\n",
            "(0.880860912877387, 0.0)\n",
            "[[5.00356429 4.65628449]\n",
            " [4.65628449 5.58450715]]\n",
            "(0.948550981769553, 0.0)\n",
            "[[3.00080706 1.9142054 ]\n",
            " [1.9142054  1.35711811]]\n",
            "(0.7079852050576504, 6.286396493745635e-153)\n",
            "[[2.61596961 1.3339801 ]\n",
            " [1.3339801  1.35711811]]\n"
          ],
          "name": "stdout"
        }
      ]
    },
    {
      "cell_type": "code",
      "metadata": {
        "id": "ZRkdSkop3DfL",
        "colab_type": "code",
        "colab": {
          "base_uri": "https://localhost:8080/",
          "height": 125
        },
        "outputId": "28f458b4-de5e-4d0a-af22-2c2af43b63c0"
      },
      "source": [
        "import numpy as np\n",
        "import seaborn as sns \n",
        "## 높은 coefficient 추출 과정\n",
        "df=pd.DataFrame(corr)\n",
        "df=df.drop(['HouseAge', 'AveOccup','AveBedrms'], 1)\n",
        "df.drop(['HouseAge', 'AveOccup','AveBedrms'], inplace=True)\n",
        "print(df)"
      ],
      "execution_count": 57,
      "outputs": [
        {
          "output_type": "stream",
          "text": [
            "              MedInc  AveRooms  Population  Latitude  Longitude\n",
            "MedInc      1.000000  0.436902    0.880861 -0.390682   0.215001\n",
            "AveRooms    0.436902  1.000000    0.588714  0.572638   0.948551\n",
            "Population  0.880861  0.588714    1.000000 -0.183234   0.371171\n",
            "Latitude   -0.390682  0.572638   -0.183234  1.000000   0.707985\n",
            "Longitude   0.215001  0.948551    0.371171  0.707985   1.000000\n"
          ],
          "name": "stdout"
        }
      ]
    },
    {
      "cell_type": "code",
      "metadata": {
        "id": "-HSxevBKb2_7",
        "colab_type": "code",
        "colab": {
          "base_uri": "https://localhost:8080/",
          "height": 614
        },
        "outputId": "fed669f2-db91-4289-d4cd-5d8c3520eded"
      },
      "source": [
        "##correlation coefficient가 높은 5개의 feature를 이용한 heatmap\n",
        "import matplotlib.pyplot as plt\n",
        "\n",
        "plt.figure(figsize=(10,10))\n",
        "sns.heatmap(df, annot=True, \n",
        "fmt = '.2f', linewidths=.5, cmap='Blues')"
      ],
      "execution_count": 58,
      "outputs": [
        {
          "output_type": "execute_result",
          "data": {
            "text/plain": [
              "<matplotlib.axes._subplots.AxesSubplot at 0x7f4aa4dcfef0>"
            ]
          },
          "metadata": {
            "tags": []
          },
          "execution_count": 58
        },
        {
          "output_type": "display_data",
          "data": {
            "image/png": "[encoded data removed]",
            "text/plain": [
              "<Figure size 720x720 with 2 Axes>"
            ]
          },
          "metadata": {
            "tags": [],
            "needs_background": "light"
          }
        }
      ]
    },
    {
      "cell_type": "markdown",
      "metadata": {
        "id": "Lwyy90dQz4E5",
        "colab_type": "text"
      },
      "source": [
        "B.\t위에서 구한 correlation coefficient array를 바탕으로 multiple logistic regression 모델에서 사용할 feature를 정하고 90%의 데이터를 학습데이터로 사용하여 regression 모델 학습 후 10% 테스트 데이터에 대한 test acc를 출력한다"
      ]
    },
    {
      "cell_type": "code",
      "metadata": {
        "id": "ZsvfqxerDIA7",
        "colab_type": "code",
        "colab": {}
      },
      "source": [
        "#  해당 코드는 수정하지 마세요\n",
        "from sklearn.datasets import make_classification\n",
        "\n",
        "\n",
        "\n",
        "X, y = make_classification(n_features=8, n_informative=5,\n",
        "                           n_redundant=3, n_clusters_per_class=1, random_state=4, n_samples =1000 )"
      ],
      "execution_count": 0,
      "outputs": []
    },
    {
      "cell_type": "code",
      "metadata": {
        "id": "MFHMia4Ma3Ql",
        "colab_type": "code",
        "colab": {
          "base_uri": "https://localhost:8080/",
          "height": 419
        },
        "outputId": "16cc1ef7-4e9f-4b96-9e29-1235cebbd911"
      },
      "source": [
        "from sklearn.linear_model import LogisticRegression\n",
        "# 쓸려고 하는 feature값 남기기\n",
        "df=pd.DataFrame(X)\n",
        "X=df.drop([1,5,3],1)\n",
        "X"
      ],
      "execution_count": 60,
      "outputs": [
        {
          "output_type": "execute_result",
          "data": {
            "text/html": [
              "<div>\n",
              "<style scoped>\n",
              "    .dataframe tbody tr th:only-of-type {\n",
              "        vertical-align: middle;\n",
              "    }\n",
              "\n",
              "    .dataframe tbody tr th {\n",
              "        vertical-align: top;\n",
              "    }\n",
              "\n",
              "    .dataframe thead th {\n",
              "        text-align: right;\n",
              "    }\n",
              "</style>\n",
              "<table border=\"1\" class=\"dataframe\">\n",
              "  <thead>\n",
              "    <tr style=\"text-align: right;\">\n",
              "      <th></th>\n",
              "      <th>0</th>\n",
              "      <th>2</th>\n",
              "      <th>4</th>\n",
              "      <th>6</th>\n",
              "      <th>7</th>\n",
              "    </tr>\n",
              "  </thead>\n",
              "  <tbody>\n",
              "    <tr>\n",
              "      <th>0</th>\n",
              "      <td>2.448869</td>\n",
              "      <td>-0.392408</td>\n",
              "      <td>0.347317</td>\n",
              "      <td>-1.587549</td>\n",
              "      <td>-0.124382</td>\n",
              "    </tr>\n",
              "    <tr>\n",
              "      <th>1</th>\n",
              "      <td>-0.697755</td>\n",
              "      <td>-2.468210</td>\n",
              "      <td>-1.265119</td>\n",
              "      <td>-0.938171</td>\n",
              "      <td>-1.090520</td>\n",
              "    </tr>\n",
              "    <tr>\n",
              "      <th>2</th>\n",
              "      <td>-0.639334</td>\n",
              "      <td>-1.685357</td>\n",
              "      <td>-0.270319</td>\n",
              "      <td>-1.164062</td>\n",
              "      <td>-1.133899</td>\n",
              "    </tr>\n",
              "    <tr>\n",
              "      <th>3</th>\n",
              "      <td>3.004434</td>\n",
              "      <td>1.878130</td>\n",
              "      <td>2.789373</td>\n",
              "      <td>0.318288</td>\n",
              "      <td>1.115634</td>\n",
              "    </tr>\n",
              "    <tr>\n",
              "      <th>4</th>\n",
              "      <td>-0.597722</td>\n",
              "      <td>-0.074091</td>\n",
              "      <td>-1.426407</td>\n",
              "      <td>1.706594</td>\n",
              "      <td>0.087431</td>\n",
              "    </tr>\n",
              "    <tr>\n",
              "      <th>...</th>\n",
              "      <td>...</td>\n",
              "      <td>...</td>\n",
              "      <td>...</td>\n",
              "      <td>...</td>\n",
              "      <td>...</td>\n",
              "    </tr>\n",
              "    <tr>\n",
              "      <th>995</th>\n",
              "      <td>-1.111860</td>\n",
              "      <td>0.707488</td>\n",
              "      <td>-2.198669</td>\n",
              "      <td>1.362627</td>\n",
              "      <td>1.018958</td>\n",
              "    </tr>\n",
              "    <tr>\n",
              "      <th>996</th>\n",
              "      <td>0.599167</td>\n",
              "      <td>-1.272645</td>\n",
              "      <td>-0.049581</td>\n",
              "      <td>-0.676135</td>\n",
              "      <td>-0.614608</td>\n",
              "    </tr>\n",
              "    <tr>\n",
              "      <th>997</th>\n",
              "      <td>-1.471838</td>\n",
              "      <td>0.342600</td>\n",
              "      <td>-2.402739</td>\n",
              "      <td>2.042493</td>\n",
              "      <td>0.641093</td>\n",
              "    </tr>\n",
              "    <tr>\n",
              "      <th>998</th>\n",
              "      <td>3.808383</td>\n",
              "      <td>2.374526</td>\n",
              "      <td>4.112708</td>\n",
              "      <td>0.353089</td>\n",
              "      <td>1.287618</td>\n",
              "    </tr>\n",
              "    <tr>\n",
              "      <th>999</th>\n",
              "      <td>-2.747869</td>\n",
              "      <td>-0.290716</td>\n",
              "      <td>-3.528300</td>\n",
              "      <td>2.794174</td>\n",
              "      <td>0.030994</td>\n",
              "    </tr>\n",
              "  </tbody>\n",
              "</table>\n",
              "<p>1000 rows × 5 columns</p>\n",
              "</div>"
            ],
            "text/plain": [
              "            0         2         4         6         7\n",
              "0    2.448869 -0.392408  0.347317 -1.587549 -0.124382\n",
              "1   -0.697755 -2.468210 -1.265119 -0.938171 -1.090520\n",
              "2   -0.639334 -1.685357 -0.270319 -1.164062 -1.133899\n",
              "3    3.004434  1.878130  2.789373  0.318288  1.115634\n",
              "4   -0.597722 -0.074091 -1.426407  1.706594  0.087431\n",
              "..        ...       ...       ...       ...       ...\n",
              "995 -1.111860  0.707488 -2.198669  1.362627  1.018958\n",
              "996  0.599167 -1.272645 -0.049581 -0.676135 -0.614608\n",
              "997 -1.471838  0.342600 -2.402739  2.042493  0.641093\n",
              "998  3.808383  2.374526  4.112708  0.353089  1.287618\n",
              "999 -2.747869 -0.290716 -3.528300  2.794174  0.030994\n",
              "\n",
              "[1000 rows x 5 columns]"
            ]
          },
          "metadata": {
            "tags": []
          },
          "execution_count": 60
        }
      ]
    },
    {
      "cell_type": "code",
      "metadata": {
        "id": "7LF_LeiRulz4",
        "colab_type": "code",
        "colab": {}
      },
      "source": [
        "# 90%의 데이터를 학습데이터로 사용하고 10% 테스트 데이터로 사용\n",
        "from sklearn.model_selection import train_test_split\n",
        "\n",
        "x_train, x_test, y_train, y_test = train_test_split(X, y, test_size = 0.1)"
      ],
      "execution_count": 0,
      "outputs": []
    },
    {
      "cell_type": "code",
      "metadata": {
        "id": "4qzkTUdDDjLy",
        "colab_type": "code",
        "colab": {
          "base_uri": "https://localhost:8080/",
          "height": 107
        },
        "outputId": "6c166d9a-620c-43f7-f88d-c1eb70548b33"
      },
      "source": [
        "from sklearn.linear_model import LogisticRegression\n",
        "from sklearn import metrics\n",
        "\n",
        "logreg = LogisticRegression()\n",
        "logreg.fit(x_train, y_train)"
      ],
      "execution_count": 62,
      "outputs": [
        {
          "output_type": "execute_result",
          "data": {
            "text/plain": [
              "LogisticRegression(C=1.0, class_weight=None, dual=False, fit_intercept=True,\n",
              "                   intercept_scaling=1, l1_ratio=None, max_iter=100,\n",
              "                   multi_class='auto', n_jobs=None, penalty='l2',\n",
              "                   random_state=None, solver='lbfgs', tol=0.0001, verbose=0,\n",
              "                   warm_start=False)"
            ]
          },
          "metadata": {
            "tags": []
          },
          "execution_count": 62
        }
      ]
    },
    {
      "cell_type": "code",
      "metadata": {
        "id": "F2WxY_4OTJ18",
        "colab_type": "code",
        "colab": {
          "base_uri": "https://localhost:8080/",
          "height": 35
        },
        "outputId": "dd2a2ea3-0b0b-4661-9a69-27d6d914df28"
      },
      "source": [
        "#y_pred = logreg.predict(x_test)\n",
        "print('Accuracy of logistic regression classifier on test set: {:.2f}'.format(logreg.score(x_test, y_test)))"
      ],
      "execution_count": 63,
      "outputs": [
        {
          "output_type": "stream",
          "text": [
            "Accuracy of logistic regression classifier on test set: 0.96\n"
          ],
          "name": "stdout"
        }
      ]
    },
    {
      "cell_type": "markdown",
      "metadata": {
        "id": "Wyfy0sAzI5bj",
        "colab_type": "text"
      },
      "source": [
        "## 2.\tVariable selection (linear regression)"
      ]
    },
    {
      "cell_type": "markdown",
      "metadata": {
        "id": "snHtXs03JDNF",
        "colab_type": "text"
      },
      "source": [
        "A. Linear regression 모델의 variable 선택을 통한 모델을 비교하기 위해서 수업시간에 배운 Adjusted R^2을 기반으로 forward selection을 수행한 후 test R^2를 출력하고 x축은 선택한 variable의 개수, y축은 테스트 데이터의 Adjsted R^2과 학습데이터의 Adjusted R^2를 각각 다른 색으로 그래프를 이용해 출력한다."
      ]
    },
    {
      "cell_type": "markdown",
      "metadata": {
        "id": "P07WrMVVJsAs",
        "colab_type": "text"
      },
      "source": [
        "forward selection 을 이용하여 variable을 4개 까지 선택한다. (for 문 이용)"
      ]
    },
    {
      "cell_type": "markdown",
      "metadata": {
        "id": "GM9AZfy2efsf",
        "colab_type": "text"
      },
      "source": [
        "sklearn의 r2_score 함수에 기반하여 Adjusted R^2를 만든다. \n"
      ]
    },
    {
      "cell_type": "markdown",
      "metadata": {
        "id": "ZVUEomUW5C40",
        "colab_type": "text"
      },
      "source": [
        "#  Adjusted R_square을 기반한 forward selection을 수행하기"
      ]
    },
    {
      "cell_type": "code",
      "metadata": {
        "id": "s-GJWXKWUAXS",
        "colab_type": "code",
        "colab": {}
      },
      "source": [
        "from sklearn import linear_model\n",
        "from sklearn.metrics import mean_squared_error\n",
        "import pandas as pd\n",
        "import itertools\n",
        "import time\n",
        "import numpy as np\n",
        "#from sklearn import linear_model\n",
        "from sklearn.linear_model import LinearRegression\n",
        "\n",
        "\n",
        "#california.data, california.target\n",
        "\n",
        "#from sklearn.model_selection import train_test_split\n",
        "#x_train, x_test, y_train, y_test = train_test_split(california.data, california.target, test_size = 0.1)"
      ],
      "execution_count": 0,
      "outputs": []
    },
    {
      "cell_type": "code",
      "metadata": {
        "id": "49EtO882TyBm",
        "colab_type": "code",
        "colab": {}
      },
      "source": [
        "from sklearn.metrics import r2_score\n",
        "# r2_score를 기반으로 Adjusted R_square 구하기\n",
        "\n",
        "def fit_linear_reg(X,Y,i):\n",
        "  m=len(Y)\n",
        "  #linear regression model로 fit하고 RSS와 Adjusted R_square 값 return 하기\n",
        "  model_k = linear_model.LinearRegression(fit_intercept = True)\n",
        "  model_k.fit(X,Y)\n",
        "  RSS = mean_squared_error(Y,model_k.predict(X)) * len(Y)\n",
        "  R_squared = r2_score(Y,model_k.predict(X))\n",
        "  R_squared_adj=1-((1-R_squared)*(m-1)/(m-i-1))\n",
        "  return RSS, R_squared_adj"
      ],
      "execution_count": 0,
      "outputs": []
    },
    {
      "cell_type": "code",
      "metadata": {
        "id": "VF6mV9-hTyJU",
        "colab_type": "code",
        "colab": {}
      },
      "source": [
        "## variable 수를 늘리면서 forward selection을 하면서 feature 선택하는 과정\n",
        "from tqdm import tnrange, tqdm_notebook\n",
        "\n",
        "#변수 초기화\n",
        "Y = california.target\n",
        "X = california.data\n",
        "#8개의 feature 설정\n",
        "k = 8\n",
        "X=pd.DataFrame(X)\n",
        "X.columns=[\"MedInc\", \"HouseAge\", \"AveRooms\", \"AveBedrms\" ,\"Population\", \"AveOccup\", \"Latitude\", \"Longitude\" ]\n",
        "\n",
        "\n",
        "remaining_features = list(X.columns.values)\n",
        "features = []\n",
        "R_squared_adj_list, RSS_list = [np.inf], [np.inf] #loop의 1 indexing을 위해서\n",
        "features_list = dict()\n",
        "\n",
        "for i in range(1,k+1):\n",
        "    best_R_squared_adj = np.inf\n",
        "    \n",
        "    for combo in itertools.combinations(remaining_features,1):\n",
        "\n",
        "            R_squared_adj = fit_linear_reg(X[list(combo) + features],Y,i)   #temp 값 저장하기\n",
        "\n",
        "            if R_squared_adj[0] < best_R_squared_adj: # 비교 후 최고 값 걸러내기\n",
        "                best_R_squared_adj = R_squared_adj[0]\n",
        "                best_RSS = R_squared_adj[1] \n",
        "                best_feature = combo[0]\n",
        "\n",
        "    #다음 loop에 variable 저장\n",
        "    features.append(best_feature)\n",
        "    remaining_features.remove(best_feature)\n",
        "    \n",
        "    #plotting을 위해서 값 저장\n",
        "    R_squared_adj_list.append(best_R_squared_adj)\n",
        "    RSS_list.append(best_RSS)\n",
        "    features_list[i] = features.copy()"
      ],
      "execution_count": 0,
      "outputs": []
    },
    {
      "cell_type": "code",
      "metadata": {
        "id": "qClJC_tHTyQw",
        "colab_type": "code",
        "colab": {
          "base_uri": "https://localhost:8080/",
          "height": 125
        },
        "outputId": "1030e13a-4972-47ea-d335-38453552dc15"
      },
      "source": [
        "print('Forward stepwise subset selection')\n",
        "print('Number of features |', 'Features |')\n",
        "display([(i,features_list[i]) for i in range(1,5)])"
      ],
      "execution_count": 68,
      "outputs": [
        {
          "output_type": "stream",
          "text": [
            "Forward stepwise subset selection\n",
            "Number of features | Features |\n"
          ],
          "name": "stdout"
        },
        {
          "output_type": "display_data",
          "data": {
            "text/plain": [
              "[(1, ['MedInc']),\n",
              " (2, ['MedInc', 'HouseAge']),\n",
              " (3, ['MedInc', 'HouseAge', 'Latitude']),\n",
              " (4, ['MedInc', 'HouseAge', 'Latitude', 'Longitude'])]"
            ]
          },
          "metadata": {
            "tags": []
          }
        }
      ]
    },
    {
      "cell_type": "markdown",
      "metadata": {
        "id": "ZhSrvfFA9jVq",
        "colab_type": "text"
      },
      "source": [
        "# test R^2 구하기"
      ]
    },
    {
      "cell_type": "code",
      "metadata": {
        "id": "CWHtcpZ_GNZe",
        "colab_type": "code",
        "colab": {
          "base_uri": "https://localhost:8080/",
          "height": 358
        },
        "outputId": "bd737907-fa30-419f-e588-d06d21492f54"
      },
      "source": [
        "# 4개의 variable로 추리기\n",
        "california.data=pd.DataFrame(california.data)\n",
        "california.data=california.data.drop([2,3,4,5],1)\n",
        "california.data"
      ],
      "execution_count": 73,
      "outputs": [
        {
          "output_type": "error",
          "ename": "KeyError",
          "evalue": "ignored",
          "traceback": [
            "\u001b[0;31m---------------------------------------------------------------------------\u001b[0m",
            "\u001b[0;31mKeyError\u001b[0m                                  Traceback (most recent call last)",
            "\u001b[0;32m<ipython-input-73-1edf6fc91b1f>\u001b[0m in \u001b[0;36m<module>\u001b[0;34m()\u001b[0m\n\u001b[1;32m      1\u001b[0m \u001b[0mcalifornia\u001b[0m\u001b[0;34m.\u001b[0m\u001b[0mdata\u001b[0m\u001b[0;34m=\u001b[0m\u001b[0mpd\u001b[0m\u001b[0;34m.\u001b[0m\u001b[0mDataFrame\u001b[0m\u001b[0;34m(\u001b[0m\u001b[0mcalifornia\u001b[0m\u001b[0;34m.\u001b[0m\u001b[0mdata\u001b[0m\u001b[0;34m)\u001b[0m\u001b[0;34m\u001b[0m\u001b[0;34m\u001b[0m\u001b[0m\n\u001b[0;32m----> 2\u001b[0;31m \u001b[0mcalifornia\u001b[0m\u001b[0;34m.\u001b[0m\u001b[0mdata\u001b[0m\u001b[0;34m=\u001b[0m\u001b[0mcalifornia\u001b[0m\u001b[0;34m.\u001b[0m\u001b[0mdata\u001b[0m\u001b[0;34m.\u001b[0m\u001b[0mdrop\u001b[0m\u001b[0;34m(\u001b[0m\u001b[0;34m[\u001b[0m\u001b[0;36m2\u001b[0m\u001b[0;34m,\u001b[0m\u001b[0;36m3\u001b[0m\u001b[0;34m,\u001b[0m\u001b[0;36m4\u001b[0m\u001b[0;34m,\u001b[0m\u001b[0;36m5\u001b[0m\u001b[0;34m]\u001b[0m\u001b[0;34m,\u001b[0m\u001b[0;36m1\u001b[0m\u001b[0;34m)\u001b[0m\u001b[0;34m\u001b[0m\u001b[0;34m\u001b[0m\u001b[0m\n\u001b[0m\u001b[1;32m      3\u001b[0m \u001b[0mcalifornia\u001b[0m\u001b[0;34m.\u001b[0m\u001b[0mdata\u001b[0m\u001b[0;34m\u001b[0m\u001b[0;34m\u001b[0m\u001b[0m\n",
            "\u001b[0;32m/usr/local/lib/python3.6/dist-packages/pandas/core/frame.py\u001b[0m in \u001b[0;36mdrop\u001b[0;34m(self, labels, axis, index, columns, level, inplace, errors)\u001b[0m\n\u001b[1;32m   3995\u001b[0m             \u001b[0mlevel\u001b[0m\u001b[0;34m=\u001b[0m\u001b[0mlevel\u001b[0m\u001b[0;34m,\u001b[0m\u001b[0;34m\u001b[0m\u001b[0;34m\u001b[0m\u001b[0m\n\u001b[1;32m   3996\u001b[0m             \u001b[0minplace\u001b[0m\u001b[0;34m=\u001b[0m\u001b[0minplace\u001b[0m\u001b[0;34m,\u001b[0m\u001b[0;34m\u001b[0m\u001b[0;34m\u001b[0m\u001b[0m\n\u001b[0;32m-> 3997\u001b[0;31m             \u001b[0merrors\u001b[0m\u001b[0;34m=\u001b[0m\u001b[0merrors\u001b[0m\u001b[0;34m,\u001b[0m\u001b[0;34m\u001b[0m\u001b[0;34m\u001b[0m\u001b[0m\n\u001b[0m\u001b[1;32m   3998\u001b[0m         )\n\u001b[1;32m   3999\u001b[0m \u001b[0;34m\u001b[0m\u001b[0m\n",
            "\u001b[0;32m/usr/local/lib/python3.6/dist-packages/pandas/core/generic.py\u001b[0m in \u001b[0;36mdrop\u001b[0;34m(self, labels, axis, index, columns, level, inplace, errors)\u001b[0m\n\u001b[1;32m   3934\u001b[0m         \u001b[0;32mfor\u001b[0m \u001b[0maxis\u001b[0m\u001b[0;34m,\u001b[0m \u001b[0mlabels\u001b[0m \u001b[0;32min\u001b[0m \u001b[0maxes\u001b[0m\u001b[0;34m.\u001b[0m\u001b[0mitems\u001b[0m\u001b[0;34m(\u001b[0m\u001b[0;34m)\u001b[0m\u001b[0;34m:\u001b[0m\u001b[0;34m\u001b[0m\u001b[0;34m\u001b[0m\u001b[0m\n\u001b[1;32m   3935\u001b[0m             \u001b[0;32mif\u001b[0m \u001b[0mlabels\u001b[0m \u001b[0;32mis\u001b[0m \u001b[0;32mnot\u001b[0m \u001b[0;32mNone\u001b[0m\u001b[0;34m:\u001b[0m\u001b[0;34m\u001b[0m\u001b[0;34m\u001b[0m\u001b[0m\n\u001b[0;32m-> 3936\u001b[0;31m                 \u001b[0mobj\u001b[0m \u001b[0;34m=\u001b[0m \u001b[0mobj\u001b[0m\u001b[0;34m.\u001b[0m\u001b[0m_drop_axis\u001b[0m\u001b[0;34m(\u001b[0m\u001b[0mlabels\u001b[0m\u001b[0;34m,\u001b[0m \u001b[0maxis\u001b[0m\u001b[0;34m,\u001b[0m \u001b[0mlevel\u001b[0m\u001b[0;34m=\u001b[0m\u001b[0mlevel\u001b[0m\u001b[0;34m,\u001b[0m \u001b[0merrors\u001b[0m\u001b[0;34m=\u001b[0m\u001b[0merrors\u001b[0m\u001b[0;34m)\u001b[0m\u001b[0;34m\u001b[0m\u001b[0;34m\u001b[0m\u001b[0m\n\u001b[0m\u001b[1;32m   3937\u001b[0m \u001b[0;34m\u001b[0m\u001b[0m\n\u001b[1;32m   3938\u001b[0m         \u001b[0;32mif\u001b[0m \u001b[0minplace\u001b[0m\u001b[0;34m:\u001b[0m\u001b[0;34m\u001b[0m\u001b[0;34m\u001b[0m\u001b[0m\n",
            "\u001b[0;32m/usr/local/lib/python3.6/dist-packages/pandas/core/generic.py\u001b[0m in \u001b[0;36m_drop_axis\u001b[0;34m(self, labels, axis, level, errors)\u001b[0m\n\u001b[1;32m   3968\u001b[0m                 \u001b[0mnew_axis\u001b[0m \u001b[0;34m=\u001b[0m \u001b[0maxis\u001b[0m\u001b[0;34m.\u001b[0m\u001b[0mdrop\u001b[0m\u001b[0;34m(\u001b[0m\u001b[0mlabels\u001b[0m\u001b[0;34m,\u001b[0m \u001b[0mlevel\u001b[0m\u001b[0;34m=\u001b[0m\u001b[0mlevel\u001b[0m\u001b[0;34m,\u001b[0m \u001b[0merrors\u001b[0m\u001b[0;34m=\u001b[0m\u001b[0merrors\u001b[0m\u001b[0;34m)\u001b[0m\u001b[0;34m\u001b[0m\u001b[0;34m\u001b[0m\u001b[0m\n\u001b[1;32m   3969\u001b[0m             \u001b[0;32melse\u001b[0m\u001b[0;34m:\u001b[0m\u001b[0;34m\u001b[0m\u001b[0;34m\u001b[0m\u001b[0m\n\u001b[0;32m-> 3970\u001b[0;31m                 \u001b[0mnew_axis\u001b[0m \u001b[0;34m=\u001b[0m \u001b[0maxis\u001b[0m\u001b[0;34m.\u001b[0m\u001b[0mdrop\u001b[0m\u001b[0;34m(\u001b[0m\u001b[0mlabels\u001b[0m\u001b[0;34m,\u001b[0m \u001b[0merrors\u001b[0m\u001b[0;34m=\u001b[0m\u001b[0merrors\u001b[0m\u001b[0;34m)\u001b[0m\u001b[0;34m\u001b[0m\u001b[0;34m\u001b[0m\u001b[0m\n\u001b[0m\u001b[1;32m   3971\u001b[0m             \u001b[0mresult\u001b[0m \u001b[0;34m=\u001b[0m \u001b[0mself\u001b[0m\u001b[0;34m.\u001b[0m\u001b[0mreindex\u001b[0m\u001b[0;34m(\u001b[0m\u001b[0;34m**\u001b[0m\u001b[0;34m{\u001b[0m\u001b[0maxis_name\u001b[0m\u001b[0;34m:\u001b[0m \u001b[0mnew_axis\u001b[0m\u001b[0;34m}\u001b[0m\u001b[0;34m)\u001b[0m\u001b[0;34m\u001b[0m\u001b[0;34m\u001b[0m\u001b[0m\n\u001b[1;32m   3972\u001b[0m \u001b[0;34m\u001b[0m\u001b[0m\n",
            "\u001b[0;32m/usr/local/lib/python3.6/dist-packages/pandas/core/indexes/base.py\u001b[0m in \u001b[0;36mdrop\u001b[0;34m(self, labels, errors)\u001b[0m\n\u001b[1;32m   5015\u001b[0m         \u001b[0;32mif\u001b[0m \u001b[0mmask\u001b[0m\u001b[0;34m.\u001b[0m\u001b[0many\u001b[0m\u001b[0;34m(\u001b[0m\u001b[0;34m)\u001b[0m\u001b[0;34m:\u001b[0m\u001b[0;34m\u001b[0m\u001b[0;34m\u001b[0m\u001b[0m\n\u001b[1;32m   5016\u001b[0m             \u001b[0;32mif\u001b[0m \u001b[0merrors\u001b[0m \u001b[0;34m!=\u001b[0m \u001b[0;34m\"ignore\"\u001b[0m\u001b[0;34m:\u001b[0m\u001b[0;34m\u001b[0m\u001b[0;34m\u001b[0m\u001b[0m\n\u001b[0;32m-> 5017\u001b[0;31m                 \u001b[0;32mraise\u001b[0m \u001b[0mKeyError\u001b[0m\u001b[0;34m(\u001b[0m\u001b[0;34mf\"{labels[mask]} not found in axis\"\u001b[0m\u001b[0;34m)\u001b[0m\u001b[0;34m\u001b[0m\u001b[0;34m\u001b[0m\u001b[0m\n\u001b[0m\u001b[1;32m   5018\u001b[0m             \u001b[0mindexer\u001b[0m \u001b[0;34m=\u001b[0m \u001b[0mindexer\u001b[0m\u001b[0;34m[\u001b[0m\u001b[0;34m~\u001b[0m\u001b[0mmask\u001b[0m\u001b[0;34m]\u001b[0m\u001b[0;34m\u001b[0m\u001b[0;34m\u001b[0m\u001b[0m\n\u001b[1;32m   5019\u001b[0m         \u001b[0;32mreturn\u001b[0m \u001b[0mself\u001b[0m\u001b[0;34m.\u001b[0m\u001b[0mdelete\u001b[0m\u001b[0;34m(\u001b[0m\u001b[0mindexer\u001b[0m\u001b[0;34m)\u001b[0m\u001b[0;34m\u001b[0m\u001b[0;34m\u001b[0m\u001b[0m\n",
            "\u001b[0;31mKeyError\u001b[0m: '[2 3 4 5] not found in axis'"
          ]
        }
      ]
    },
    {
      "cell_type": "code",
      "metadata": {
        "id": "IjfUqL4W_NXa",
        "colab_type": "code",
        "colab": {}
      },
      "source": [
        "from sklearn.model_selection import train_test_split\n",
        "x_train, x_test, y_train, y_test = train_test_split(california.data, california.target, test_size = 0.1)"
      ],
      "execution_count": 0,
      "outputs": []
    },
    {
      "cell_type": "code",
      "metadata": {
        "id": "n3n7Tbv568H8",
        "colab_type": "code",
        "colab": {
          "base_uri": "https://localhost:8080/",
          "height": 53
        },
        "outputId": "978566ca-5642-4569-b2b2-45b7f65cf17d"
      },
      "source": [
        "# test R_square score\n",
        "from sklearn.linear_model import LinearRegression\n",
        "from sklearn.metrics import r2_score\n",
        "lm = LinearRegression(fit_intercept=True, normalize=True, n_jobs=None)\n",
        "lm.fit(x_train, y_train)\n",
        "\n",
        "\n",
        "R_square = r2_score(y_test,lm.predict(x_test))\n",
        "score= lm.score(x_test,y_test)\n",
        "print (\"Linear Regression test file accuracy: \"+str(R_square))\n",
        "print(\"Linear Regression test R^2: \"+ str(score))"
      ],
      "execution_count": 76,
      "outputs": [
        {
          "output_type": "stream",
          "text": [
            "Linear Regression test file accuracy: 0.5581245255368082\n",
            "Linear Regression test R^2: 0.5581245255368082\n"
          ],
          "name": "stdout"
        }
      ]
    },
    {
      "cell_type": "markdown",
      "metadata": {
        "id": "jdZdznC2OKXQ",
        "colab_type": "text"
      },
      "source": [
        "# x축은 선택한 variable의 개수, y축은 테스트 데이터의 Adjusted R^2와 학습데이터 Adjusted R^2 그래프"
      ]
    },
    {
      "cell_type": "markdown",
      "metadata": {
        "id": "HWuylxvkRm7N",
        "colab_type": "text"
      },
      "source": [
        "variable 수가 1개 일때"
      ]
    },
    {
      "cell_type": "code",
      "metadata": {
        "id": "7nABff122cpw",
        "colab_type": "code",
        "colab": {}
      },
      "source": [
        "from sklearn.datasets import fetch_california_housing\n",
        "california = fetch_california_housing()\n",
        "print(california.DESCR)"
      ],
      "execution_count": 0,
      "outputs": []
    },
    {
      "cell_type": "code",
      "metadata": {
        "id": "x9VYOk26Dys-",
        "colab_type": "code",
        "colab": {
          "base_uri": "https://localhost:8080/",
          "height": 419
        },
        "outputId": "c1c93efb-576d-4aca-a29a-c3cfc50ef845"
      },
      "source": [
        "california.data=pd.DataFrame(california.data)\n",
        "california.data=california.data.drop([1,6,7,2,3,4,5],1)\n",
        "california.data"
      ],
      "execution_count": 79,
      "outputs": [
        {
          "output_type": "execute_result",
          "data": {
            "text/html": [
              "<div>\n",
              "<style scoped>\n",
              "    .dataframe tbody tr th:only-of-type {\n",
              "        vertical-align: middle;\n",
              "    }\n",
              "\n",
              "    .dataframe tbody tr th {\n",
              "        vertical-align: top;\n",
              "    }\n",
              "\n",
              "    .dataframe thead th {\n",
              "        text-align: right;\n",
              "    }\n",
              "</style>\n",
              "<table border=\"1\" class=\"dataframe\">\n",
              "  <thead>\n",
              "    <tr style=\"text-align: right;\">\n",
              "      <th></th>\n",
              "      <th>0</th>\n",
              "    </tr>\n",
              "  </thead>\n",
              "  <tbody>\n",
              "    <tr>\n",
              "      <th>0</th>\n",
              "      <td>8.3252</td>\n",
              "    </tr>\n",
              "    <tr>\n",
              "      <th>1</th>\n",
              "      <td>8.3014</td>\n",
              "    </tr>\n",
              "    <tr>\n",
              "      <th>2</th>\n",
              "      <td>7.2574</td>\n",
              "    </tr>\n",
              "    <tr>\n",
              "      <th>3</th>\n",
              "      <td>5.6431</td>\n",
              "    </tr>\n",
              "    <tr>\n",
              "      <th>4</th>\n",
              "      <td>3.8462</td>\n",
              "    </tr>\n",
              "    <tr>\n",
              "      <th>...</th>\n",
              "      <td>...</td>\n",
              "    </tr>\n",
              "    <tr>\n",
              "      <th>20635</th>\n",
              "      <td>1.5603</td>\n",
              "    </tr>\n",
              "    <tr>\n",
              "      <th>20636</th>\n",
              "      <td>2.5568</td>\n",
              "    </tr>\n",
              "    <tr>\n",
              "      <th>20637</th>\n",
              "      <td>1.7000</td>\n",
              "    </tr>\n",
              "    <tr>\n",
              "      <th>20638</th>\n",
              "      <td>1.8672</td>\n",
              "    </tr>\n",
              "    <tr>\n",
              "      <th>20639</th>\n",
              "      <td>2.3886</td>\n",
              "    </tr>\n",
              "  </tbody>\n",
              "</table>\n",
              "<p>20640 rows × 1 columns</p>\n",
              "</div>"
            ],
            "text/plain": [
              "            0\n",
              "0      8.3252\n",
              "1      8.3014\n",
              "2      7.2574\n",
              "3      5.6431\n",
              "4      3.8462\n",
              "...       ...\n",
              "20635  1.5603\n",
              "20636  2.5568\n",
              "20637  1.7000\n",
              "20638  1.8672\n",
              "20639  2.3886\n",
              "\n",
              "[20640 rows x 1 columns]"
            ]
          },
          "metadata": {
            "tags": []
          },
          "execution_count": 79
        }
      ]
    },
    {
      "cell_type": "code",
      "metadata": {
        "id": "CjlFRbtGBK3m",
        "colab_type": "code",
        "colab": {}
      },
      "source": [
        "from sklearn.model_selection import train_test_split\n",
        "x_train, x_test, y_train, y_test = train_test_split(california.data, california.target, test_size = 0.1)"
      ],
      "execution_count": 0,
      "outputs": []
    },
    {
      "cell_type": "code",
      "metadata": {
        "id": "JHtEN5HpQ_Xn",
        "colab_type": "code",
        "colab": {}
      },
      "source": [
        "def fit_linear_reg(X,Y,i):\n",
        "  m=len(Y)\n",
        "  #linear regression model로 fit하고 RSS와 Adjusted R_square 값 return 하기\n",
        "  model_k = LinearRegression(fit_intercept=True, normalize=True, n_jobs=None)\n",
        "  model_k.fit(X,Y)\n",
        " \n",
        "  R_squared = r2_score(Y,model_k.predict(X))\n",
        "  R_squared_adj=1-((1-R_squared)*(m-1)/(m-i-1))\n",
        "  return R_squared_adj"
      ],
      "execution_count": 0,
      "outputs": []
    },
    {
      "cell_type": "code",
      "metadata": {
        "id": "NlAMMFIyRazl",
        "colab_type": "code",
        "colab": {
          "base_uri": "https://localhost:8080/",
          "height": 35
        },
        "outputId": "c33480f7-1c68-472d-fc48-51e4db1523fa"
      },
      "source": [
        "trainer1= fit_linear_reg(x_train,y_train,1)\n",
        "tester1= fit_linear_reg(x_test,y_test,1)\n",
        "print(trainer1, tester1)"
      ],
      "execution_count": 82,
      "outputs": [
        {
          "output_type": "stream",
          "text": [
            "0.4738554277463244 0.4697504700515067\n"
          ],
          "name": "stdout"
        }
      ]
    },
    {
      "cell_type": "markdown",
      "metadata": {
        "id": "S5wgO4AuSw0D",
        "colab_type": "text"
      },
      "source": [
        "variable 수가 2개 일 때"
      ]
    },
    {
      "cell_type": "code",
      "metadata": {
        "id": "Ull7rXc82a4F",
        "colab_type": "code",
        "colab": {}
      },
      "source": [
        "from sklearn.datasets import fetch_california_housing\n",
        "california = fetch_california_housing()\n",
        "print(california.DESCR)"
      ],
      "execution_count": 0,
      "outputs": []
    },
    {
      "cell_type": "code",
      "metadata": {
        "id": "E9fHKUHESI9n",
        "colab_type": "code",
        "colab": {
          "base_uri": "https://localhost:8080/",
          "height": 419
        },
        "outputId": "d6711f68-8500-4b38-eff6-fe87b9ba6fbd"
      },
      "source": [
        "california.data=pd.DataFrame(california.data)\n",
        "california.data=california.data.drop([6,7,2,3,4,5],1)\n",
        "california.data"
      ],
      "execution_count": 85,
      "outputs": [
        {
          "output_type": "execute_result",
          "data": {
            "text/html": [
              "<div>\n",
              "<style scoped>\n",
              "    .dataframe tbody tr th:only-of-type {\n",
              "        vertical-align: middle;\n",
              "    }\n",
              "\n",
              "    .dataframe tbody tr th {\n",
              "        vertical-align: top;\n",
              "    }\n",
              "\n",
              "    .dataframe thead th {\n",
              "        text-align: right;\n",
              "    }\n",
              "</style>\n",
              "<table border=\"1\" class=\"dataframe\">\n",
              "  <thead>\n",
              "    <tr style=\"text-align: right;\">\n",
              "      <th></th>\n",
              "      <th>0</th>\n",
              "      <th>1</th>\n",
              "    </tr>\n",
              "  </thead>\n",
              "  <tbody>\n",
              "    <tr>\n",
              "      <th>0</th>\n",
              "      <td>8.3252</td>\n",
              "      <td>41.0</td>\n",
              "    </tr>\n",
              "    <tr>\n",
              "      <th>1</th>\n",
              "      <td>8.3014</td>\n",
              "      <td>21.0</td>\n",
              "    </tr>\n",
              "    <tr>\n",
              "      <th>2</th>\n",
              "      <td>7.2574</td>\n",
              "      <td>52.0</td>\n",
              "    </tr>\n",
              "    <tr>\n",
              "      <th>3</th>\n",
              "      <td>5.6431</td>\n",
              "      <td>52.0</td>\n",
              "    </tr>\n",
              "    <tr>\n",
              "      <th>4</th>\n",
              "      <td>3.8462</td>\n",
              "      <td>52.0</td>\n",
              "    </tr>\n",
              "    <tr>\n",
              "      <th>...</th>\n",
              "      <td>...</td>\n",
              "      <td>...</td>\n",
              "    </tr>\n",
              "    <tr>\n",
              "      <th>20635</th>\n",
              "      <td>1.5603</td>\n",
              "      <td>25.0</td>\n",
              "    </tr>\n",
              "    <tr>\n",
              "      <th>20636</th>\n",
              "      <td>2.5568</td>\n",
              "      <td>18.0</td>\n",
              "    </tr>\n",
              "    <tr>\n",
              "      <th>20637</th>\n",
              "      <td>1.7000</td>\n",
              "      <td>17.0</td>\n",
              "    </tr>\n",
              "    <tr>\n",
              "      <th>20638</th>\n",
              "      <td>1.8672</td>\n",
              "      <td>18.0</td>\n",
              "    </tr>\n",
              "    <tr>\n",
              "      <th>20639</th>\n",
              "      <td>2.3886</td>\n",
              "      <td>16.0</td>\n",
              "    </tr>\n",
              "  </tbody>\n",
              "</table>\n",
              "<p>20640 rows × 2 columns</p>\n",
              "</div>"
            ],
            "text/plain": [
              "            0     1\n",
              "0      8.3252  41.0\n",
              "1      8.3014  21.0\n",
              "2      7.2574  52.0\n",
              "3      5.6431  52.0\n",
              "4      3.8462  52.0\n",
              "...       ...   ...\n",
              "20635  1.5603  25.0\n",
              "20636  2.5568  18.0\n",
              "20637  1.7000  17.0\n",
              "20638  1.8672  18.0\n",
              "20639  2.3886  16.0\n",
              "\n",
              "[20640 rows x 2 columns]"
            ]
          },
          "metadata": {
            "tags": []
          },
          "execution_count": 85
        }
      ]
    },
    {
      "cell_type": "code",
      "metadata": {
        "id": "lGYFQDqqStpM",
        "colab_type": "code",
        "colab": {}
      },
      "source": [
        "from sklearn.model_selection import train_test_split\n",
        "x_train, x_test, y_train, y_test = train_test_split(california.data, california.target, test_size = 0.1)"
      ],
      "execution_count": 0,
      "outputs": []
    },
    {
      "cell_type": "code",
      "metadata": {
        "id": "HuUG27dpS5Xf",
        "colab_type": "code",
        "colab": {}
      },
      "source": [
        "def fit_linear_reg(X,Y,i):\n",
        "  m=len(Y)\n",
        "  #linear regression model로 fit하고 RSS와 Adjusted R_square 값 return 하기\n",
        "  model_k = LinearRegression(fit_intercept=True, normalize=True, n_jobs=None)\n",
        "  model_k.fit(X,Y)\n",
        " \n",
        "  R_squared = r2_score(Y,model_k.predict(X))\n",
        "  R_squared_adj=1-((1-R_squared)*(m-1)/(m-i-1))\n",
        "  return R_squared_adj"
      ],
      "execution_count": 0,
      "outputs": []
    },
    {
      "cell_type": "code",
      "metadata": {
        "id": "PgGSAaQjS7O3",
        "colab_type": "code",
        "colab": {
          "base_uri": "https://localhost:8080/",
          "height": 35
        },
        "outputId": "35d35cf4-f366-45ca-b783-f52984d679be"
      },
      "source": [
        "trainer2= fit_linear_reg(x_train,y_train,2)\n",
        "tester2= fit_linear_reg(x_test,y_test,2)\n",
        "print(trainer2, tester2)"
      ],
      "execution_count": 88,
      "outputs": [
        {
          "output_type": "stream",
          "text": [
            "0.5098317850078955 0.5014926007851014\n"
          ],
          "name": "stdout"
        }
      ]
    },
    {
      "cell_type": "markdown",
      "metadata": {
        "id": "A_mm06vHTQdj",
        "colab_type": "text"
      },
      "source": [
        "variable이 3개 일 때"
      ]
    },
    {
      "cell_type": "code",
      "metadata": {
        "id": "XHtGOpzC2fPz",
        "colab_type": "code",
        "colab": {
          "base_uri": "https://localhost:8080/",
          "height": 755
        },
        "outputId": "cbd5aa62-1f25-4ee1-e29f-3d7c63683660"
      },
      "source": [
        "from sklearn.datasets import fetch_california_housing\n",
        "california = fetch_california_housing()\n",
        "print(california.DESCR)"
      ],
      "execution_count": 89,
      "outputs": [
        {
          "output_type": "stream",
          "text": [
            ".. _california_housing_dataset:\n",
            "\n",
            "California Housing dataset\n",
            "--------------------------\n",
            "\n",
            "**Data Set Characteristics:**\n",
            "\n",
            "    :Number of Instances: 20640\n",
            "\n",
            "    :Number of Attributes: 8 numeric, predictive attributes and the target\n",
            "\n",
            "    :Attribute Information:\n",
            "        - MedInc        median income in block\n",
            "        - HouseAge      median house age in block\n",
            "        - AveRooms      average number of rooms\n",
            "        - AveBedrms     average number of bedrooms\n",
            "        - Population    block population\n",
            "        - AveOccup      average house occupancy\n",
            "        - Latitude      house block latitude\n",
            "        - Longitude     house block longitude\n",
            "\n",
            "    :Missing Attribute Values: None\n",
            "\n",
            "This dataset was obtained from the StatLib repository.\n",
            "http://lib.stat.cmu.edu/datasets/\n",
            "\n",
            "The target variable is the median house value for California districts.\n",
            "\n",
            "This dataset was derived from the 1990 U.S. census, using one row per census\n",
            "block group. A block group is the smallest geographical unit for which the U.S.\n",
            "Census Bureau publishes sample data (a block group typically has a population\n",
            "of 600 to 3,000 people).\n",
            "\n",
            "It can be downloaded/loaded using the\n",
            ":func:`sklearn.datasets.fetch_california_housing` function.\n",
            "\n",
            ".. topic:: References\n",
            "\n",
            "    - Pace, R. Kelley and Ronald Barry, Sparse Spatial Autoregressions,\n",
            "      Statistics and Probability Letters, 33 (1997) 291-297\n",
            "\n"
          ],
          "name": "stdout"
        }
      ]
    },
    {
      "cell_type": "code",
      "metadata": {
        "id": "ZWBvOkLRS9ga",
        "colab_type": "code",
        "colab": {
          "base_uri": "https://localhost:8080/",
          "height": 419
        },
        "outputId": "b9bcce73-20fb-48ac-cbe5-eb622317aca0"
      },
      "source": [
        "california.data=pd.DataFrame(california.data)\n",
        "california.data=california.data.drop([7,2,3,4,5],1)\n",
        "california.data"
      ],
      "execution_count": 90,
      "outputs": [
        {
          "output_type": "execute_result",
          "data": {
            "text/html": [
              "<div>\n",
              "<style scoped>\n",
              "    .dataframe tbody tr th:only-of-type {\n",
              "        vertical-align: middle;\n",
              "    }\n",
              "\n",
              "    .dataframe tbody tr th {\n",
              "        vertical-align: top;\n",
              "    }\n",
              "\n",
              "    .dataframe thead th {\n",
              "        text-align: right;\n",
              "    }\n",
              "</style>\n",
              "<table border=\"1\" class=\"dataframe\">\n",
              "  <thead>\n",
              "    <tr style=\"text-align: right;\">\n",
              "      <th></th>\n",
              "      <th>0</th>\n",
              "      <th>1</th>\n",
              "      <th>6</th>\n",
              "    </tr>\n",
              "  </thead>\n",
              "  <tbody>\n",
              "    <tr>\n",
              "      <th>0</th>\n",
              "      <td>8.3252</td>\n",
              "      <td>41.0</td>\n",
              "      <td>37.88</td>\n",
              "    </tr>\n",
              "    <tr>\n",
              "      <th>1</th>\n",
              "      <td>8.3014</td>\n",
              "      <td>21.0</td>\n",
              "      <td>37.86</td>\n",
              "    </tr>\n",
              "    <tr>\n",
              "      <th>2</th>\n",
              "      <td>7.2574</td>\n",
              "      <td>52.0</td>\n",
              "      <td>37.85</td>\n",
              "    </tr>\n",
              "    <tr>\n",
              "      <th>3</th>\n",
              "      <td>5.6431</td>\n",
              "      <td>52.0</td>\n",
              "      <td>37.85</td>\n",
              "    </tr>\n",
              "    <tr>\n",
              "      <th>4</th>\n",
              "      <td>3.8462</td>\n",
              "      <td>52.0</td>\n",
              "      <td>37.85</td>\n",
              "    </tr>\n",
              "    <tr>\n",
              "      <th>...</th>\n",
              "      <td>...</td>\n",
              "      <td>...</td>\n",
              "      <td>...</td>\n",
              "    </tr>\n",
              "    <tr>\n",
              "      <th>20635</th>\n",
              "      <td>1.5603</td>\n",
              "      <td>25.0</td>\n",
              "      <td>39.48</td>\n",
              "    </tr>\n",
              "    <tr>\n",
              "      <th>20636</th>\n",
              "      <td>2.5568</td>\n",
              "      <td>18.0</td>\n",
              "      <td>39.49</td>\n",
              "    </tr>\n",
              "    <tr>\n",
              "      <th>20637</th>\n",
              "      <td>1.7000</td>\n",
              "      <td>17.0</td>\n",
              "      <td>39.43</td>\n",
              "    </tr>\n",
              "    <tr>\n",
              "      <th>20638</th>\n",
              "      <td>1.8672</td>\n",
              "      <td>18.0</td>\n",
              "      <td>39.43</td>\n",
              "    </tr>\n",
              "    <tr>\n",
              "      <th>20639</th>\n",
              "      <td>2.3886</td>\n",
              "      <td>16.0</td>\n",
              "      <td>39.37</td>\n",
              "    </tr>\n",
              "  </tbody>\n",
              "</table>\n",
              "<p>20640 rows × 3 columns</p>\n",
              "</div>"
            ],
            "text/plain": [
              "            0     1      6\n",
              "0      8.3252  41.0  37.88\n",
              "1      8.3014  21.0  37.86\n",
              "2      7.2574  52.0  37.85\n",
              "3      5.6431  52.0  37.85\n",
              "4      3.8462  52.0  37.85\n",
              "...       ...   ...    ...\n",
              "20635  1.5603  25.0  39.48\n",
              "20636  2.5568  18.0  39.49\n",
              "20637  1.7000  17.0  39.43\n",
              "20638  1.8672  18.0  39.43\n",
              "20639  2.3886  16.0  39.37\n",
              "\n",
              "[20640 rows x 3 columns]"
            ]
          },
          "metadata": {
            "tags": []
          },
          "execution_count": 90
        }
      ]
    },
    {
      "cell_type": "code",
      "metadata": {
        "id": "QEdaJI-jUhmP",
        "colab_type": "code",
        "colab": {}
      },
      "source": [
        "from sklearn.model_selection import train_test_split\n",
        "x_train, x_test, y_train, y_test = train_test_split(california.data, california.target, test_size = 0.1)"
      ],
      "execution_count": 0,
      "outputs": []
    },
    {
      "cell_type": "code",
      "metadata": {
        "id": "GYfIFdGBgDw6",
        "colab_type": "code",
        "colab": {
          "base_uri": "https://localhost:8080/",
          "height": 35
        },
        "outputId": "5fbf657d-ac64-4e04-9e62-63e354949dfb"
      },
      "source": [
        "trainer3= fit_linear_reg(x_train,y_train,3)\n",
        "tester3= fit_linear_reg(x_test,y_test,3)\n",
        "print(trainer3, tester3)"
      ],
      "execution_count": 92,
      "outputs": [
        {
          "output_type": "stream",
          "text": [
            "0.5155047470108205 0.5308690714945279\n"
          ],
          "name": "stdout"
        }
      ]
    },
    {
      "cell_type": "markdown",
      "metadata": {
        "id": "rilgvQV2gM5n",
        "colab_type": "text"
      },
      "source": [
        "variable이 4일 때"
      ]
    },
    {
      "cell_type": "code",
      "metadata": {
        "id": "vO2MJRof2hd9",
        "colab_type": "code",
        "colab": {
          "base_uri": "https://localhost:8080/",
          "height": 755
        },
        "outputId": "b928b1a9-ba99-4ff3-c99a-048ddf8fdf7a"
      },
      "source": [
        "from sklearn.datasets import fetch_california_housing\n",
        "california = fetch_california_housing()\n",
        "print(california.DESCR)"
      ],
      "execution_count": 93,
      "outputs": [
        {
          "output_type": "stream",
          "text": [
            ".. _california_housing_dataset:\n",
            "\n",
            "California Housing dataset\n",
            "--------------------------\n",
            "\n",
            "**Data Set Characteristics:**\n",
            "\n",
            "    :Number of Instances: 20640\n",
            "\n",
            "    :Number of Attributes: 8 numeric, predictive attributes and the target\n",
            "\n",
            "    :Attribute Information:\n",
            "        - MedInc        median income in block\n",
            "        - HouseAge      median house age in block\n",
            "        - AveRooms      average number of rooms\n",
            "        - AveBedrms     average number of bedrooms\n",
            "        - Population    block population\n",
            "        - AveOccup      average house occupancy\n",
            "        - Latitude      house block latitude\n",
            "        - Longitude     house block longitude\n",
            "\n",
            "    :Missing Attribute Values: None\n",
            "\n",
            "This dataset was obtained from the StatLib repository.\n",
            "http://lib.stat.cmu.edu/datasets/\n",
            "\n",
            "The target variable is the median house value for California districts.\n",
            "\n",
            "This dataset was derived from the 1990 U.S. census, using one row per census\n",
            "block group. A block group is the smallest geographical unit for which the U.S.\n",
            "Census Bureau publishes sample data (a block group typically has a population\n",
            "of 600 to 3,000 people).\n",
            "\n",
            "It can be downloaded/loaded using the\n",
            ":func:`sklearn.datasets.fetch_california_housing` function.\n",
            "\n",
            ".. topic:: References\n",
            "\n",
            "    - Pace, R. Kelley and Ronald Barry, Sparse Spatial Autoregressions,\n",
            "      Statistics and Probability Letters, 33 (1997) 291-297\n",
            "\n"
          ],
          "name": "stdout"
        }
      ]
    },
    {
      "cell_type": "code",
      "metadata": {
        "id": "VUSPsgFcgK3T",
        "colab_type": "code",
        "colab": {
          "base_uri": "https://localhost:8080/",
          "height": 419
        },
        "outputId": "b15c42b8-36d3-433e-f3f4-cff23e8bfaa8"
      },
      "source": [
        "california.data=pd.DataFrame(california.data)\n",
        "california.data=california.data.drop([2,3,4,5],1)\n",
        "california.data"
      ],
      "execution_count": 94,
      "outputs": [
        {
          "output_type": "execute_result",
          "data": {
            "text/html": [
              "<div>\n",
              "<style scoped>\n",
              "    .dataframe tbody tr th:only-of-type {\n",
              "        vertical-align: middle;\n",
              "    }\n",
              "\n",
              "    .dataframe tbody tr th {\n",
              "        vertical-align: top;\n",
              "    }\n",
              "\n",
              "    .dataframe thead th {\n",
              "        text-align: right;\n",
              "    }\n",
              "</style>\n",
              "<table border=\"1\" class=\"dataframe\">\n",
              "  <thead>\n",
              "    <tr style=\"text-align: right;\">\n",
              "      <th></th>\n",
              "      <th>0</th>\n",
              "      <th>1</th>\n",
              "      <th>6</th>\n",
              "      <th>7</th>\n",
              "    </tr>\n",
              "  </thead>\n",
              "  <tbody>\n",
              "    <tr>\n",
              "      <th>0</th>\n",
              "      <td>8.3252</td>\n",
              "      <td>41.0</td>\n",
              "      <td>37.88</td>\n",
              "      <td>-122.23</td>\n",
              "    </tr>\n",
              "    <tr>\n",
              "      <th>1</th>\n",
              "      <td>8.3014</td>\n",
              "      <td>21.0</td>\n",
              "      <td>37.86</td>\n",
              "      <td>-122.22</td>\n",
              "    </tr>\n",
              "    <tr>\n",
              "      <th>2</th>\n",
              "      <td>7.2574</td>\n",
              "      <td>52.0</td>\n",
              "      <td>37.85</td>\n",
              "      <td>-122.24</td>\n",
              "    </tr>\n",
              "    <tr>\n",
              "      <th>3</th>\n",
              "      <td>5.6431</td>\n",
              "      <td>52.0</td>\n",
              "      <td>37.85</td>\n",
              "      <td>-122.25</td>\n",
              "    </tr>\n",
              "    <tr>\n",
              "      <th>4</th>\n",
              "      <td>3.8462</td>\n",
              "      <td>52.0</td>\n",
              "      <td>37.85</td>\n",
              "      <td>-122.25</td>\n",
              "    </tr>\n",
              "    <tr>\n",
              "      <th>...</th>\n",
              "      <td>...</td>\n",
              "      <td>...</td>\n",
              "      <td>...</td>\n",
              "      <td>...</td>\n",
              "    </tr>\n",
              "    <tr>\n",
              "      <th>20635</th>\n",
              "      <td>1.5603</td>\n",
              "      <td>25.0</td>\n",
              "      <td>39.48</td>\n",
              "      <td>-121.09</td>\n",
              "    </tr>\n",
              "    <tr>\n",
              "      <th>20636</th>\n",
              "      <td>2.5568</td>\n",
              "      <td>18.0</td>\n",
              "      <td>39.49</td>\n",
              "      <td>-121.21</td>\n",
              "    </tr>\n",
              "    <tr>\n",
              "      <th>20637</th>\n",
              "      <td>1.7000</td>\n",
              "      <td>17.0</td>\n",
              "      <td>39.43</td>\n",
              "      <td>-121.22</td>\n",
              "    </tr>\n",
              "    <tr>\n",
              "      <th>20638</th>\n",
              "      <td>1.8672</td>\n",
              "      <td>18.0</td>\n",
              "      <td>39.43</td>\n",
              "      <td>-121.32</td>\n",
              "    </tr>\n",
              "    <tr>\n",
              "      <th>20639</th>\n",
              "      <td>2.3886</td>\n",
              "      <td>16.0</td>\n",
              "      <td>39.37</td>\n",
              "      <td>-121.24</td>\n",
              "    </tr>\n",
              "  </tbody>\n",
              "</table>\n",
              "<p>20640 rows × 4 columns</p>\n",
              "</div>"
            ],
            "text/plain": [
              "            0     1      6       7\n",
              "0      8.3252  41.0  37.88 -122.23\n",
              "1      8.3014  21.0  37.86 -122.22\n",
              "2      7.2574  52.0  37.85 -122.24\n",
              "3      5.6431  52.0  37.85 -122.25\n",
              "4      3.8462  52.0  37.85 -122.25\n",
              "...       ...   ...    ...     ...\n",
              "20635  1.5603  25.0  39.48 -121.09\n",
              "20636  2.5568  18.0  39.49 -121.21\n",
              "20637  1.7000  17.0  39.43 -121.22\n",
              "20638  1.8672  18.0  39.43 -121.32\n",
              "20639  2.3886  16.0  39.37 -121.24\n",
              "\n",
              "[20640 rows x 4 columns]"
            ]
          },
          "metadata": {
            "tags": []
          },
          "execution_count": 94
        }
      ]
    },
    {
      "cell_type": "code",
      "metadata": {
        "id": "krbi-CIzgRFR",
        "colab_type": "code",
        "colab": {}
      },
      "source": [
        "from sklearn.model_selection import train_test_split\n",
        "x_train, x_test, y_train, y_test = train_test_split(california.data, california.target, test_size = 0.1)"
      ],
      "execution_count": 0,
      "outputs": []
    },
    {
      "cell_type": "code",
      "metadata": {
        "id": "nXx5LH8FgVko",
        "colab_type": "code",
        "colab": {
          "base_uri": "https://localhost:8080/",
          "height": 35
        },
        "outputId": "bc0316f7-cb76-4926-b39c-a68efbf2abf1"
      },
      "source": [
        "trainer4= fit_linear_reg(x_train,y_train,4)\n",
        "tester4= fit_linear_reg(x_test,y_test,4)\n",
        "print(trainer4, tester4)"
      ],
      "execution_count": 96,
      "outputs": [
        {
          "output_type": "stream",
          "text": [
            "0.595558531853935 0.5801150721465737\n"
          ],
          "name": "stdout"
        }
      ]
    },
    {
      "cell_type": "code",
      "metadata": {
        "id": "8I-dcnVNgY58",
        "colab_type": "code",
        "colab": {
          "base_uri": "https://localhost:8080/",
          "height": 204
        },
        "outputId": "c8ec8eab-4acb-4b54-bd21-d87542b2e57a"
      },
      "source": [
        "from pandas import Series, DataFrame\n",
        "# variable의 개수, 테스트 데이터, 학습데이터 Adjusted R_square Dataframe\n",
        "data={'trainer': [0, trainer1, trainer2, trainer3, trainer4],\n",
        "      'tester': [0, tester1, tester2, tester3, tester4]\n",
        "      }\n",
        "\n",
        "data=DataFrame(data)\n",
        "data"
      ],
      "execution_count": 101,
      "outputs": [
        {
          "output_type": "execute_result",
          "data": {
            "text/html": [
              "<div>\n",
              "<style scoped>\n",
              "    .dataframe tbody tr th:only-of-type {\n",
              "        vertical-align: middle;\n",
              "    }\n",
              "\n",
              "    .dataframe tbody tr th {\n",
              "        vertical-align: top;\n",
              "    }\n",
              "\n",
              "    .dataframe thead th {\n",
              "        text-align: right;\n",
              "    }\n",
              "</style>\n",
              "<table border=\"1\" class=\"dataframe\">\n",
              "  <thead>\n",
              "    <tr style=\"text-align: right;\">\n",
              "      <th></th>\n",
              "      <th>trainer</th>\n",
              "      <th>tester</th>\n",
              "    </tr>\n",
              "  </thead>\n",
              "  <tbody>\n",
              "    <tr>\n",
              "      <th>0</th>\n",
              "      <td>0.000000</td>\n",
              "      <td>0.000000</td>\n",
              "    </tr>\n",
              "    <tr>\n",
              "      <th>1</th>\n",
              "      <td>0.473855</td>\n",
              "      <td>0.469750</td>\n",
              "    </tr>\n",
              "    <tr>\n",
              "      <th>2</th>\n",
              "      <td>0.509832</td>\n",
              "      <td>0.501493</td>\n",
              "    </tr>\n",
              "    <tr>\n",
              "      <th>3</th>\n",
              "      <td>0.515505</td>\n",
              "      <td>0.530869</td>\n",
              "    </tr>\n",
              "    <tr>\n",
              "      <th>4</th>\n",
              "      <td>0.595559</td>\n",
              "      <td>0.580115</td>\n",
              "    </tr>\n",
              "  </tbody>\n",
              "</table>\n",
              "</div>"
            ],
            "text/plain": [
              "    trainer    tester\n",
              "0  0.000000  0.000000\n",
              "1  0.473855  0.469750\n",
              "2  0.509832  0.501493\n",
              "3  0.515505  0.530869\n",
              "4  0.595559  0.580115"
            ]
          },
          "metadata": {
            "tags": []
          },
          "execution_count": 101
        }
      ]
    },
    {
      "cell_type": "code",
      "metadata": {
        "id": "OboTSRmGhj2o",
        "colab_type": "code",
        "colab": {
          "base_uri": "https://localhost:8080/",
          "height": 279
        },
        "outputId": "81a09dbc-9ab3-4a42-b799-d3cfbc58641c"
      },
      "source": [
        "# x축 variable 개수, y축 Adiusted R_square \n",
        "import matplotlib.pyplot as plt\n",
        "\n",
        "\n",
        "ax3=data.plot()\n",
        "ax3.set_xticks(data.index)\n",
        "plt.xlabel(\"variable number\")\n",
        "plt.ylabel(\"Adjusted R_square\")\n",
        "plt.show()"
      ],
      "execution_count": 102,
      "outputs": [
        {
          "output_type": "display_data",
          "data": {
            "image/png": "[encoded data removed]",
            "text/plain": [
              "<Figure size 432x288 with 1 Axes>"
            ]
          },
          "metadata": {
            "tags": [],
            "needs_background": "light"
          }
        }
      ]
    },
    {
      "cell_type": "markdown",
      "metadata": {
        "id": "GutbBilxk-ai",
        "colab_type": "text"
      },
      "source": [
        "# 3. Regularized linear model"
      ]
    },
    {
      "cell_type": "code",
      "metadata": {
        "id": "mo3xnhi0YSOl",
        "colab_type": "code",
        "colab": {
          "base_uri": "https://localhost:8080/",
          "height": 755
        },
        "outputId": "59be305b-df17-4966-d800-7291f0f9e185"
      },
      "source": [
        "from sklearn.datasets import fetch_california_housing\n",
        "california = fetch_california_housing()\n",
        "print(california.DESCR)"
      ],
      "execution_count": 107,
      "outputs": [
        {
          "output_type": "stream",
          "text": [
            ".. _california_housing_dataset:\n",
            "\n",
            "California Housing dataset\n",
            "--------------------------\n",
            "\n",
            "**Data Set Characteristics:**\n",
            "\n",
            "    :Number of Instances: 20640\n",
            "\n",
            "    :Number of Attributes: 8 numeric, predictive attributes and the target\n",
            "\n",
            "    :Attribute Information:\n",
            "        - MedInc        median income in block\n",
            "        - HouseAge      median house age in block\n",
            "        - AveRooms      average number of rooms\n",
            "        - AveBedrms     average number of bedrooms\n",
            "        - Population    block population\n",
            "        - AveOccup      average house occupancy\n",
            "        - Latitude      house block latitude\n",
            "        - Longitude     house block longitude\n",
            "\n",
            "    :Missing Attribute Values: None\n",
            "\n",
            "This dataset was obtained from the StatLib repository.\n",
            "http://lib.stat.cmu.edu/datasets/\n",
            "\n",
            "The target variable is the median house value for California districts.\n",
            "\n",
            "This dataset was derived from the 1990 U.S. census, using one row per census\n",
            "block group. A block group is the smallest geographical unit for which the U.S.\n",
            "Census Bureau publishes sample data (a block group typically has a population\n",
            "of 600 to 3,000 people).\n",
            "\n",
            "It can be downloaded/loaded using the\n",
            ":func:`sklearn.datasets.fetch_california_housing` function.\n",
            "\n",
            ".. topic:: References\n",
            "\n",
            "    - Pace, R. Kelley and Ronald Barry, Sparse Spatial Autoregressions,\n",
            "      Statistics and Probability Letters, 33 (1997) 291-297\n",
            "\n"
          ],
          "name": "stdout"
        }
      ]
    },
    {
      "cell_type": "code",
      "metadata": {
        "id": "UGFA0aEzjErW",
        "colab_type": "code",
        "colab": {}
      },
      "source": [
        "from sklearn.model_selection import train_test_split\n",
        "\n",
        "# 학습데이터는 90%를 차지하고 테스트데이터는 10%차지 \n",
        "\n",
        "x_train, x_test, y_train, y_test = train_test_split(california.data, california.target, test_size = 0.1)"
      ],
      "execution_count": 0,
      "outputs": []
    },
    {
      "cell_type": "code",
      "metadata": {
        "id": "z-FDSRcaBekR",
        "colab_type": "code",
        "colab": {
          "base_uri": "https://localhost:8080/",
          "height": 225
        },
        "outputId": "2566cae8-8307-4c88-fab6-9d2f8df1b265"
      },
      "source": [
        "import numpy as np\n",
        "from matplotlib import pyplot as plt\n",
        "from sklearn.linear_model import Ridge, Lasso\n",
        "from sklearn.model_selection import cross_val_score\n",
        "\n",
        "# Ridge와 Lasso는 hyper parameter가 늘수록 cross validation score의 상관관계를 보여준다.\n",
        "alphas = np.logspace(-3, -1, 30)\n",
        "\n",
        "plt.figure(figsize=(5, 3))\n",
        "\n",
        "for Model in [Lasso, Ridge]:\n",
        "    scores = [cross_val_score(Model(alpha), x_train, y_train, cv=5).mean()\n",
        "            for alpha in alphas]\n",
        "    plt.plot(alphas, scores, label=Model.__name__)\n",
        "\n",
        "plt.legend(loc='lower left')\n",
        "plt.xlabel('alpha')\n",
        "plt.ylabel('cross validation score')\n",
        "plt.tight_layout()\n",
        "plt.show()"
      ],
      "execution_count": 105,
      "outputs": [
        {
          "output_type": "display_data",
          "data": {
            "image/png": "[encoded data removed]",
            "text/plain": [
              "<Figure size 360x216 with 1 Axes>"
            ]
          },
          "metadata": {
            "tags": [],
            "needs_background": "light"
          }
        }
      ]
    },
    {
      "cell_type": "markdown",
      "metadata": {
        "id": "9obbvK2cYHkx",
        "colab_type": "text"
      },
      "source": [
        "Lasso의 optimal parameter 선택하기"
      ]
    },
    {
      "cell_type": "code",
      "metadata": {
        "id": "8ZT0n-B_QhSr",
        "colab_type": "code",
        "colab": {
          "base_uri": "https://localhost:8080/",
          "height": 1000
        },
        "outputId": "cde01565-4e44-4187-9d84-614e06ccc5ce"
      },
      "source": [
        "import numpy as np\n",
        "import pandas as pd\n",
        "\n",
        "from sklearn import model_selection\n",
        "from sklearn.linear_model import Lasso\n",
        "from sklearn.model_selection import GridSearchCV, KFold\n",
        "from sklearn import metrics\n",
        "from sklearn.linear_model import LinearRegression\n",
        "from sklearn.metrics import r2_score\n",
        "\n",
        "estimator = Lasso()\n",
        "#넣을 parameter 설정\n",
        "param_grid = {'alpha':[0,0.001,0.01,0.03,0.05,0.1,0.2,0.3,0.4,0.5,0.6,0.7,0.8,0.9,1,1.1,1.2,1.3,1.4,1.5,1.6,1.7,1.8,1.9,2]}\n",
        "# 5-Fold CV 설정\n",
        "cv=KFold(n_splits=5, random_state=1)\n",
        "#넣을 parameter와 5-Fold CV를 이용해서 최고 parameter 찾기\n",
        "grid = GridSearchCV(estimator, param_grid=param_grid, cv=cv, scoring='r2') #디폴트로 cv=3, 회귀에서 디폴트로 scoring='r2'\n",
        "grid.fit(x_train, y_train)\n",
        "# 각 파라미터 때의 값 Dataframe으로 만들기\n",
        "print(pd.DataFrame(grid.cv_results_).sort_values(by='param_alpha'))\n",
        "print(grid.best_score_)\n",
        "print(grid.best_params_)\n",
        "estimator = grid.best_estimator_\n",
        "score=grid.score(x_test,y_test)\n",
        "#교차 검증 점수\n",
        "print(np.mean(model_selection.cross_val_score(estimator, x_test, y_test, scoring='r2')))\n",
        "\n",
        "# test R_square 출력\n",
        "print('test R_square score: '+ str(score))"
      ],
      "execution_count": 109,
      "outputs": [
        {
          "output_type": "stream",
          "text": [
            "/usr/local/lib/python3.6/dist-packages/sklearn/model_selection/_split.py:296: FutureWarning: Setting a random_state has no effect since shuffle is False. This will raise an error in 0.24. You should leave random_state to its default (None), or set shuffle=True.\n",
            "  FutureWarning\n",
            "/usr/local/lib/python3.6/dist-packages/sklearn/model_selection/_validation.py:515: UserWarning: With alpha=0, this algorithm does not converge well. You are advised to use the LinearRegression estimator\n",
            "  estimator.fit(X_train, y_train, **fit_params)\n",
            "/usr/local/lib/python3.6/dist-packages/sklearn/linear_model/_coordinate_descent.py:476: UserWarning: Coordinate descent with no regularization may lead to unexpected results and is discouraged.\n",
            "  positive)\n",
            "/usr/local/lib/python3.6/dist-packages/sklearn/linear_model/_coordinate_descent.py:476: ConvergenceWarning: Objective did not converge. You might want to increase the number of iterations. Duality gap: 3811.747960396773, tolerance: 1.9608074754299618\n",
            "  positive)\n",
            "/usr/local/lib/python3.6/dist-packages/sklearn/model_selection/_validation.py:515: UserWarning: With alpha=0, this algorithm does not converge well. You are advised to use the LinearRegression estimator\n",
            "  estimator.fit(X_train, y_train, **fit_params)\n",
            "/usr/local/lib/python3.6/dist-packages/sklearn/linear_model/_coordinate_descent.py:476: UserWarning: Coordinate descent with no regularization may lead to unexpected results and is discouraged.\n",
            "  positive)\n",
            "/usr/local/lib/python3.6/dist-packages/sklearn/linear_model/_coordinate_descent.py:476: ConvergenceWarning: Objective did not converge. You might want to increase the number of iterations. Duality gap: 3979.585280827747, tolerance: 2.0027691280549544\n",
            "  positive)\n",
            "/usr/local/lib/python3.6/dist-packages/sklearn/model_selection/_validation.py:515: UserWarning: With alpha=0, this algorithm does not converge well. You are advised to use the LinearRegression estimator\n",
            "  estimator.fit(X_train, y_train, **fit_params)\n",
            "/usr/local/lib/python3.6/dist-packages/sklearn/linear_model/_coordinate_descent.py:476: UserWarning: Coordinate descent with no regularization may lead to unexpected results and is discouraged.\n",
            "  positive)\n",
            "/usr/local/lib/python3.6/dist-packages/sklearn/linear_model/_coordinate_descent.py:476: ConvergenceWarning: Objective did not converge. You might want to increase the number of iterations. Duality gap: 3934.520898264077, tolerance: 2.001992522927844\n",
            "  positive)\n",
            "/usr/local/lib/python3.6/dist-packages/sklearn/model_selection/_validation.py:515: UserWarning: With alpha=0, this algorithm does not converge well. You are advised to use the LinearRegression estimator\n",
            "  estimator.fit(X_train, y_train, **fit_params)\n",
            "/usr/local/lib/python3.6/dist-packages/sklearn/linear_model/_coordinate_descent.py:476: UserWarning: Coordinate descent with no regularization may lead to unexpected results and is discouraged.\n",
            "  positive)\n",
            "/usr/local/lib/python3.6/dist-packages/sklearn/linear_model/_coordinate_descent.py:476: ConvergenceWarning: Objective did not converge. You might want to increase the number of iterations. Duality gap: 3931.1772367028634, tolerance: 1.9722592944013349\n",
            "  positive)\n",
            "/usr/local/lib/python3.6/dist-packages/sklearn/model_selection/_validation.py:515: UserWarning: With alpha=0, this algorithm does not converge well. You are advised to use the LinearRegression estimator\n",
            "  estimator.fit(X_train, y_train, **fit_params)\n",
            "/usr/local/lib/python3.6/dist-packages/sklearn/linear_model/_coordinate_descent.py:476: UserWarning: Coordinate descent with no regularization may lead to unexpected results and is discouraged.\n",
            "  positive)\n",
            "/usr/local/lib/python3.6/dist-packages/sklearn/linear_model/_coordinate_descent.py:476: ConvergenceWarning: Objective did not converge. You might want to increase the number of iterations. Duality gap: 3871.1220583203476, tolerance: 1.9986825520259792\n",
            "  positive)\n"
          ],
          "name": "stderr"
        },
        {
          "output_type": "stream",
          "text": [
            "    mean_fit_time  std_fit_time  ...  std_test_score  rank_test_score\n",
            "0        0.178016      0.005301  ...        0.018181                2\n",
            "1        0.019779      0.001976  ...        0.018186                1\n",
            "2        0.014693      0.001811  ...        0.018890                3\n",
            "3        0.010107      0.001430  ...        0.019699                4\n",
            "4        0.008471      0.000170  ...        0.019935                5\n",
            "5        0.007442      0.000026  ...        0.020874                6\n",
            "6        0.005132      0.003882  ...        0.020432                7\n",
            "7        0.003775      0.001386  ...        0.018663                8\n",
            "8        0.002937      0.000032  ...        0.017419                9\n",
            "9        0.002868      0.000056  ...        0.016157               10\n",
            "10       0.002889      0.000063  ...        0.014779               11\n",
            "11       0.002821      0.000021  ...        0.013279               12\n",
            "12       0.002954      0.000046  ...        0.011696               13\n",
            "13       0.002793      0.000046  ...        0.010087               14\n",
            "14       0.002981      0.000108  ...        0.008477               15\n",
            "15       0.002899      0.000051  ...        0.007056               16\n",
            "16       0.003025      0.000065  ...        0.006113               17\n",
            "17       0.002953      0.000084  ...        0.006063               18\n",
            "18       0.002994      0.000047  ...        0.007090               19\n",
            "19       0.002920      0.000138  ...        0.006442               20\n",
            "20       0.002724      0.000039  ...        0.000576               21\n",
            "21       0.002693      0.000045  ...        0.000576               22\n",
            "22       0.002730      0.000056  ...        0.000576               23\n",
            "23       0.002676      0.000011  ...        0.000576               24\n",
            "24       0.002778      0.000051  ...        0.000575               25\n",
            "\n",
            "[25 rows x 14 columns]\n",
            "0.60395884316421\n",
            "{'alpha': 0.001}\n",
            "0.6338729114241732\n",
            "test R_square score: 0.5999497785551247\n"
          ],
          "name": "stdout"
        }
      ]
    },
    {
      "cell_type": "markdown",
      "metadata": {
        "id": "aLvdQj5gYF7E",
        "colab_type": "text"
      },
      "source": [
        ""
      ]
    },
    {
      "cell_type": "code",
      "metadata": {
        "id": "WFYwFwRDFLHa",
        "colab_type": "code",
        "colab": {}
      },
      "source": [
        ""
      ],
      "execution_count": 0,
      "outputs": []
    }
  ]
}