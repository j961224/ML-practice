{
  "nbformat": 4,
  "nbformat_minor": 0,
  "metadata": {
    "colab": {
      "name": "wine data 다중분류.ipynb",
      "provenance": [],
      "collapsed_sections": []
    },
    "kernelspec": {
      "name": "python3",
      "display_name": "Python 3"
    },
    "language_info": {
      "name": "python"
    }
  },
  "cells": [
    {
      "cell_type": "code",
      "metadata": {
        "id": "OIKzfx0RwXOn"
      },
      "source": [
        ""
      ],
      "execution_count": null,
      "outputs": []
    },
    {
      "cell_type": "markdown",
      "metadata": {
        "id": "4fBK3fgrx_ad"
      },
      "source": [
        "**tensorflow 분류에서 분류모델평가 부분에서 시작**"
      ]
    },
    {
      "cell_type": "markdown",
      "metadata": {
        "id": "h-FhAZnZzqPc"
      },
      "source": [
        "-> 그 전에 white와 red 나눌때 너무 정확도 잘 나와서 의심!\n",
        "(p96부터)\n"
      ]
    },
    {
      "cell_type": "code",
      "metadata": {
        "id": "xDFcMVxoosG3"
      },
      "source": [
        "import pandas as pd\n",
        "\n",
        "red = pd.read_csv('http://archive.ics.uci.edu/ml/machine-learning-databases/wine-quality/winequality-red.csv', sep=';')\n",
        "white = pd.read_csv('http://archive.ics.uci.edu/ml/machine-learning-databases/wine-quality/winequality-white.csv', sep=';')\n"
      ],
      "execution_count": 1,
      "outputs": []
    },
    {
      "cell_type": "code",
      "metadata": {
        "colab": {
          "base_uri": "https://localhost:8080/",
          "height": 265
        },
        "id": "ocPN6Bpgy_9U",
        "outputId": "4d7aa594-6a60-4ba8-a502-4c96c74d6ff2"
      },
      "source": [
        "import matplotlib.pyplot as plt\n",
        "\n",
        "plt.hist(white['quality'], bins=7)\n",
        "plt.show()"
      ],
      "execution_count": 2,
      "outputs": [
        {
          "output_type": "display_data",
          "data": {
            "image/png": "[encoded data removed]",
            "text/plain": [
              "<Figure size 432x288 with 1 Axes>"
            ]
          },
          "metadata": {
            "tags": [],
            "needs_background": "light"
          }
        }
      ]
    },
    {
      "cell_type": "code",
      "metadata": {
        "id": "kcsUPFkezMvt"
      },
      "source": [
        "red['type']=0\n",
        "white['type']=1\n",
        "wine=pd.concat([red,white])\n"
      ],
      "execution_count": 3,
      "outputs": []
    },
    {
      "cell_type": "code",
      "metadata": {
        "colab": {
          "base_uri": "https://localhost:8080/"
        },
        "id": "gr9_xCg1z1Vr",
        "outputId": "f10ab85f-aa5e-487a-dca8-4866ff3cbab3"
      },
      "source": [
        "wine.loc[wine['quality']<=5, 'new_quality']=0\n",
        "wine.loc[wine['quality']==6, 'new_quality']=1\n",
        "wine.loc[wine['quality']>=7, 'new_quality']=2\n",
        "\n",
        "print(wine['new_quality'].describe())\n",
        "print(wine['new_quality'].value_counts())"
      ],
      "execution_count": 4,
      "outputs": [
        {
          "output_type": "stream",
          "text": [
            "count    6497.000000\n",
            "mean        0.829614\n",
            "std         0.731124\n",
            "min         0.000000\n",
            "25%         0.000000\n",
            "50%         1.000000\n",
            "75%         1.000000\n",
            "max         2.000000\n",
            "Name: new_quality, dtype: float64\n",
            "1.0    2836\n",
            "0.0    2384\n",
            "2.0    1277\n",
            "Name: new_quality, dtype: int64\n"
          ],
          "name": "stdout"
        }
      ]
    },
    {
      "cell_type": "code",
      "metadata": {
        "id": "k7zG4RCo0Xna"
      },
      "source": [
        "del wine['quality']\n",
        "wine_norm=(wine - wine.min()) / (wine.max() - wine.min())\n",
        "wine_shuffle = wine_norm.sample(frac=1) # 데이터를 섞기 위해서 사용(1은 100%)\n",
        "wine_np = wine_shuffle.to_numpy() # array형식으로 바꾸기"
      ],
      "execution_count": 5,
      "outputs": []
    },
    {
      "cell_type": "code",
      "metadata": {
        "id": "syqeF8t31TTO"
      },
      "source": [
        "import tensorflow as tf\n",
        "\n",
        "train_idx=int(len(wine_np) * 0.8)\n",
        "\n",
        "train_X, train_Y = wine_np[:train_idx, :-1], wine_np[:train_idx, -1]\n",
        "test_X, test_Y = wine_np[train_idx:, :-1], wine_np[train_idx:, -1]\n",
        "\n",
        "train_Y = tf.keras.utils.to_categorical(train_Y, num_classes=3)\n",
        "test_Y=tf.keras.utils.to_categorical(test_Y, num_classes=3)\n",
        "# new quality가 3개 분류로 나뉘었으므로"
      ],
      "execution_count": 6,
      "outputs": []
    },
    {
      "cell_type": "code",
      "metadata": {
        "id": "GP6P2pGi1amF"
      },
      "source": [
        "model = tf.keras.Sequential([\n",
        "                             tf.keras.layers.Dense(units=48,activation='relu',input_shape=(12,)),\n",
        "                             tf.keras.layers.Dense(units=24,activation='relu'),\n",
        "                             tf.keras.layers.Dense(units=12,activation='relu'),\n",
        "                             tf.keras.layers.Dense(units=3,activation='softmax')\n",
        "])\n",
        "\n",
        "#softmax는 분류 문제나 RNN에서의 다음 토큰 예측, 강화학습에서 에이전트의 행동 확률을 구하는 등 결과값으로 확률이 필요한 다양한 분야에 사용\n"
      ],
      "execution_count": 7,
      "outputs": []
    },
    {
      "cell_type": "code",
      "metadata": {
        "id": "QFwATUak1-WQ"
      },
      "source": [
        "model.compile(optimizer=tf.keras.optimizers.Adam(lr=0.003),loss='categorical_crossentropy',metrics=['accuracy'])\n"
      ],
      "execution_count": 8,
      "outputs": []
    },
    {
      "cell_type": "code",
      "metadata": {
        "colab": {
          "base_uri": "https://localhost:8080/"
        },
        "id": "Pxii3USD2GGQ",
        "outputId": "e5b57659-7f38-489f-e1e3-9065d3bec976"
      },
      "source": [
        "#앤트로피: 확률의 역수에 로그를 취한 값 -> 불확실한 정보로 숫자로 정량화\n",
        "# -> 확률의 역수를 취해주는 이유는 확률이 높은 사건일수록 정보량이 적다고 판단\n",
        "history = model.fit(train_X, train_Y, epochs=25, batch_size=32, validation_split=0.25)\n",
        "#model.evaluate(test_X, test_Y)"
      ],
      "execution_count": 9,
      "outputs": [
        {
          "output_type": "stream",
          "text": [
            "Epoch 1/25\n",
            "122/122 [==============================] - 1s 5ms/step - loss: 0.6643 - accuracy: 0.7236 - val_loss: 0.4519 - val_accuracy: 0.7908\n",
            "Epoch 2/25\n",
            "122/122 [==============================] - 0s 2ms/step - loss: 0.4180 - accuracy: 0.8139 - val_loss: 0.4262 - val_accuracy: 0.8138\n",
            "Epoch 3/25\n",
            "122/122 [==============================] - 0s 2ms/step - loss: 0.4074 - accuracy: 0.8134 - val_loss: 0.4417 - val_accuracy: 0.7985\n",
            "Epoch 4/25\n",
            "122/122 [==============================] - 0s 2ms/step - loss: 0.3972 - accuracy: 0.8160 - val_loss: 0.4100 - val_accuracy: 0.8138\n",
            "Epoch 5/25\n",
            "122/122 [==============================] - 0s 2ms/step - loss: 0.3905 - accuracy: 0.8252 - val_loss: 0.4083 - val_accuracy: 0.8108\n",
            "Epoch 6/25\n",
            "122/122 [==============================] - 0s 2ms/step - loss: 0.3775 - accuracy: 0.8313 - val_loss: 0.4040 - val_accuracy: 0.8123\n",
            "Epoch 7/25\n",
            "122/122 [==============================] - 0s 2ms/step - loss: 0.3885 - accuracy: 0.8294 - val_loss: 0.4034 - val_accuracy: 0.8108\n",
            "Epoch 8/25\n",
            "122/122 [==============================] - 0s 2ms/step - loss: 0.3903 - accuracy: 0.8155 - val_loss: 0.4053 - val_accuracy: 0.8154\n",
            "Epoch 9/25\n",
            "122/122 [==============================] - 0s 2ms/step - loss: 0.3974 - accuracy: 0.8288 - val_loss: 0.4018 - val_accuracy: 0.8146\n",
            "Epoch 10/25\n",
            "122/122 [==============================] - 0s 2ms/step - loss: 0.3835 - accuracy: 0.8319 - val_loss: 0.3950 - val_accuracy: 0.8138\n",
            "Epoch 11/25\n",
            "122/122 [==============================] - 0s 2ms/step - loss: 0.3683 - accuracy: 0.8361 - val_loss: 0.3974 - val_accuracy: 0.8185\n",
            "Epoch 12/25\n",
            "122/122 [==============================] - 0s 2ms/step - loss: 0.3681 - accuracy: 0.8318 - val_loss: 0.3946 - val_accuracy: 0.8162\n",
            "Epoch 13/25\n",
            "122/122 [==============================] - 0s 2ms/step - loss: 0.3633 - accuracy: 0.8375 - val_loss: 0.3990 - val_accuracy: 0.8085\n",
            "Epoch 14/25\n",
            "122/122 [==============================] - 0s 2ms/step - loss: 0.3688 - accuracy: 0.8363 - val_loss: 0.3917 - val_accuracy: 0.8115\n",
            "Epoch 15/25\n",
            "122/122 [==============================] - 0s 2ms/step - loss: 0.3794 - accuracy: 0.8223 - val_loss: 0.4013 - val_accuracy: 0.8192\n",
            "Epoch 16/25\n",
            "122/122 [==============================] - 0s 2ms/step - loss: 0.3538 - accuracy: 0.8428 - val_loss: 0.4017 - val_accuracy: 0.8185\n",
            "Epoch 17/25\n",
            "122/122 [==============================] - 0s 2ms/step - loss: 0.3649 - accuracy: 0.8366 - val_loss: 0.3994 - val_accuracy: 0.8162\n",
            "Epoch 18/25\n",
            "122/122 [==============================] - 0s 2ms/step - loss: 0.3707 - accuracy: 0.8274 - val_loss: 0.3826 - val_accuracy: 0.8169\n",
            "Epoch 19/25\n",
            "122/122 [==============================] - 0s 2ms/step - loss: 0.3554 - accuracy: 0.8339 - val_loss: 0.3994 - val_accuracy: 0.8077\n",
            "Epoch 20/25\n",
            "122/122 [==============================] - 0s 2ms/step - loss: 0.3447 - accuracy: 0.8433 - val_loss: 0.3898 - val_accuracy: 0.8177\n",
            "Epoch 21/25\n",
            "122/122 [==============================] - 0s 2ms/step - loss: 0.3574 - accuracy: 0.8331 - val_loss: 0.3837 - val_accuracy: 0.8185\n",
            "Epoch 22/25\n",
            "122/122 [==============================] - 0s 2ms/step - loss: 0.3648 - accuracy: 0.8274 - val_loss: 0.4174 - val_accuracy: 0.8138\n",
            "Epoch 23/25\n",
            "122/122 [==============================] - 0s 2ms/step - loss: 0.3717 - accuracy: 0.8293 - val_loss: 0.3839 - val_accuracy: 0.8208\n",
            "Epoch 24/25\n",
            "122/122 [==============================] - 0s 2ms/step - loss: 0.3510 - accuracy: 0.8396 - val_loss: 0.4163 - val_accuracy: 0.8115\n",
            "Epoch 25/25\n",
            "122/122 [==============================] - 0s 2ms/step - loss: 0.3731 - accuracy: 0.8179 - val_loss: 0.3871 - val_accuracy: 0.8238\n"
          ],
          "name": "stdout"
        }
      ]
    },
    {
      "cell_type": "code",
      "metadata": {
        "colab": {
          "base_uri": "https://localhost:8080/",
          "height": 281
        },
        "id": "obkqbIwl2IdY",
        "outputId": "3f43e348-e5dc-4233-8816-42701f6a3a4b"
      },
      "source": [
        "# 다항 분류 모델 학습 결과 시각화\n",
        "import matplotlib.pyplot as plt\n",
        "plt.figure(figsize=(12, 4))\n",
        "plt.subplot(1, 2, 1)\n",
        "plt.plot(history.history['loss'], 'b-', label='loss')\n",
        "plt.plot(history.history['val_loss'], 'r--', label='val_loss')\n",
        "plt.xlabel('Epoch')\n",
        "plt.legend()\n",
        "plt.subplot(1, 2, 2)\n",
        "plt.plot(history.history['accuracy'], 'g-', label='accuracy')\n",
        "plt.plot(history.history['val_accuracy'], 'k--', label='val_accuracy')\n",
        "plt.xlabel('Epoch')\n",
        "plt.legend()\n",
        "plt.show()"
      ],
      "execution_count": 10,
      "outputs": [
        {
          "output_type": "display_data",
          "data": {
            "image/png": "[encoded data removed]",
            "text/plain": [
              "<Figure size 864x288 with 2 Axes>"
            ]
          },
          "metadata": {
            "tags": [],
            "needs_background": "light"
          }
        }
      ]
    }
  ]
}