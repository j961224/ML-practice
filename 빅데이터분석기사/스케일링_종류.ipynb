{
  "nbformat": 4,
  "nbformat_minor": 0,
  "metadata": {
    "colab": {
      "name": "스케일링 종류.ipynb",
      "provenance": [],
      "collapsed_sections": []
    },
    "kernelspec": {
      "name": "python3",
      "display_name": "Python 3"
    },
    "language_info": {
      "name": "python"
    }
  },
  "cells": [
    {
      "cell_type": "markdown",
      "metadata": {
        "id": "qb9VakbmISSt"
      },
      "source": [
        "# 스케일링 종류\n",
        "1. StandardScaler:\t기본 스케일. 평균과 표준편차 사용\n",
        "\n",
        "2.\tMinMaxScaler:\t최대/최소값이 각각 1, 0이 되도록 스케일링\n",
        "\n",
        "3.\tMaxAbsScaler:\t최대절대값과 0이 각각 1, 0이 되도록 스케일링\n",
        "\n",
        "4.\tRobustScaler:\t중앙값(median)과 IQR(interquartile range) 사용. 아웃라이어의 영향을 최소화"
      ]
    },
    {
      "cell_type": "markdown",
      "metadata": {
        "id": "utB8e46NImDZ"
      },
      "source": [
        "# **1. MinMaxScaler**"
      ]
    },
    {
      "cell_type": "code",
      "metadata": {
        "colab": {
          "base_uri": "https://localhost:8080/"
        },
        "id": "2oQdpDt59074",
        "outputId": "d7d8b696-cc51-4c79-b233-f15aaa10321b"
      },
      "source": [
        "import pandas as pd\n",
        "from sklearn.preprocessing import MinMaxScaler\n",
        "\n",
        "data = pd.read_csv('/content/mtcars.csv')\n",
        "\n",
        "s=pd.DataFrame(data['qsec'])\n",
        "\n",
        "scaler = MinMaxScaler()\n",
        "scaler.fit(s)\n",
        "\n",
        "s=scaler.transform(s)\n",
        "print(s)\n",
        "count=0\n",
        "for c in s:\n",
        "\tif c>0.5:\n",
        "\t\tcount+=1\n",
        "print(count)"
      ],
      "execution_count": 1,
      "outputs": [
        {
          "output_type": "stream",
          "text": [
            "[[0.23333333]\n",
            " [0.3       ]\n",
            " [0.48928571]\n",
            " [0.58809524]\n",
            " [0.3       ]\n",
            " [0.68095238]\n",
            " [0.15952381]\n",
            " [0.6547619 ]\n",
            " [1.        ]\n",
            " [0.45238095]\n",
            " [0.52380952]\n",
            " [0.3452381 ]\n",
            " [0.36904762]\n",
            " [0.41666667]\n",
            " [0.41428571]\n",
            " [0.3952381 ]\n",
            " [0.34761905]\n",
            " [0.59166667]\n",
            " [0.47857143]\n",
            " [0.64285714]\n",
            " [0.65595238]\n",
            " [0.28214286]\n",
            " [0.33333333]\n",
            " [0.10833333]\n",
            " [0.30357143]\n",
            " [0.52380952]\n",
            " [0.26190476]\n",
            " [0.28571429]\n",
            " [0.        ]\n",
            " [0.11904762]\n",
            " [0.01190476]\n",
            " [0.48809524]]\n",
            "9\n"
          ],
          "name": "stdout"
        }
      ]
    },
    {
      "cell_type": "markdown",
      "metadata": {
        "id": "oeem_E5bJM2q"
      },
      "source": [
        "# **2. MaxAbsScaler**"
      ]
    },
    {
      "cell_type": "code",
      "metadata": {
        "colab": {
          "base_uri": "https://localhost:8080/"
        },
        "id": "tWyHTQ7ZIrcB",
        "outputId": "ab7bb645-80d4-4414-bd95-b8af7ab7b33d"
      },
      "source": [
        "from sklearn.preprocessing import MaxAbsScaler\n",
        "#절대값이 0~1사이에 매핑되도록 한다. 즉 -1~1 사이로 재조정한다.\n",
        "scaler = MaxAbsScaler()\n",
        "\n",
        "z = pd.DataFrame(data['qsec'])\n",
        "\n",
        "scaler.fit(z)\n",
        "z=scaler.transform(z)\n",
        "\n",
        "print(z)"
      ],
      "execution_count": 2,
      "outputs": [
        {
          "output_type": "stream",
          "text": [
            "[[0.71877729]\n",
            " [0.74323144]\n",
            " [0.81266376]\n",
            " [0.8489083 ]\n",
            " [0.74323144]\n",
            " [0.88296943]\n",
            " [0.69170306]\n",
            " [0.87336245]\n",
            " [1.        ]\n",
            " [0.79912664]\n",
            " [0.82532751]\n",
            " [0.75982533]\n",
            " [0.76855895]\n",
            " [0.7860262 ]\n",
            " [0.78515284]\n",
            " [0.77816594]\n",
            " [0.76069869]\n",
            " [0.85021834]\n",
            " [0.80873362]\n",
            " [0.86899563]\n",
            " [0.87379913]\n",
            " [0.73668122]\n",
            " [0.75545852]\n",
            " [0.67292576]\n",
            " [0.74454148]\n",
            " [0.82532751]\n",
            " [0.72925764]\n",
            " [0.73799127]\n",
            " [0.63318777]\n",
            " [0.6768559 ]\n",
            " [0.63755459]\n",
            " [0.81222707]]\n"
          ],
          "name": "stdout"
        }
      ]
    },
    {
      "cell_type": "markdown",
      "metadata": {
        "id": "zo7ivzSzJQ1V"
      },
      "source": [
        "# **3. RobustScaler**"
      ]
    },
    {
      "cell_type": "markdown",
      "metadata": {
        "id": "5O3yxqh8JZbg"
      },
      "source": [
        "아웃라이어의 영향을 최소화한 기법이다. 중앙값(median)과 IQR(interquartile range)을 사용하기 때문에 StandardScaler와 비교해보면 표준화 후 동일한 값을 더 넓게 분포 시키고 있음을 확인 할 수 있다."
      ]
    },
    {
      "cell_type": "code",
      "metadata": {
        "colab": {
          "base_uri": "https://localhost:8080/"
        },
        "id": "Fc-JWCMsJEX8",
        "outputId": "323e4d3b-c8f0-4e8c-89c8-7e8e732aca0c"
      },
      "source": [
        "from sklearn.preprocessing import RobustScaler\n",
        "\n",
        "scaler = RobustScaler()\n",
        "\n",
        "z=pd.DataFrame(data['qsec'])\n",
        "scaler.fit(z)\n",
        "\n",
        "z=scaler.transform(z)\n",
        "print(z)"
      ],
      "execution_count": 3,
      "outputs": [
        {
          "output_type": "stream",
          "text": [
            "[[-0.62266501]\n",
            " [-0.34371108]\n",
            " [ 0.4483188 ]\n",
            " [ 0.86176837]\n",
            " [-0.34371108]\n",
            " [ 1.25031133]\n",
            " [-0.93150685]\n",
            " [ 1.14072229]\n",
            " [ 2.58530511]\n",
            " [ 0.29389788]\n",
            " [ 0.59277709]\n",
            " [-0.15442092]\n",
            " [-0.05479452]\n",
            " [ 0.14445828]\n",
            " [ 0.13449564]\n",
            " [ 0.05479452]\n",
            " [-0.14445828]\n",
            " [ 0.87671233]\n",
            " [ 0.40348692]\n",
            " [ 1.09090909]\n",
            " [ 1.14570361]\n",
            " [-0.41843088]\n",
            " [-0.20423412]\n",
            " [-1.14570361]\n",
            " [-0.32876712]\n",
            " [ 0.59277709]\n",
            " [-0.50311333]\n",
            " [-0.40348692]\n",
            " [-1.59900374]\n",
            " [-1.10087173]\n",
            " [-1.54919054]\n",
            " [ 0.44333748]]\n"
          ],
          "name": "stdout"
        }
      ]
    },
    {
      "cell_type": "markdown",
      "metadata": {
        "id": "77aVQsJ6J2nB"
      },
      "source": [
        "# **4. StandardScaler**"
      ]
    },
    {
      "cell_type": "code",
      "metadata": {
        "colab": {
          "base_uri": "https://localhost:8080/"
        },
        "id": "ls0WDpK9JmG7",
        "outputId": "c984c2aa-0949-4532-bb19-7a54cf9b0a98"
      },
      "source": [
        "from sklearn.preprocessing import StandardScaler\n",
        "\n",
        "scaler = StandardScaler()\n",
        "z=pd.DataFrame(data['qsec'])\n",
        "\n",
        "scaler.fit(z)\n",
        "z=scaler.transform(z)\n",
        "\n",
        "print(z)"
      ],
      "execution_count": 4,
      "outputs": [
        {
          "output_type": "stream",
          "text": [
            "[[-0.78960058]\n",
            " [-0.47120178]\n",
            " [ 0.43282336]\n",
            " [ 0.90473586]\n",
            " [-0.47120178]\n",
            " [ 1.34821989]\n",
            " [-1.14211353]\n",
            " [ 1.22313465]\n",
            " [ 2.87198554]\n",
            " [ 0.25656688]\n",
            " [ 0.59770845]\n",
            " [-0.25514546]\n",
            " [-0.14143161]\n",
            " [ 0.0859961 ]\n",
            " [ 0.07462472]\n",
            " [-0.01634637]\n",
            " [-0.24377408]\n",
            " [ 0.92179293]\n",
            " [ 0.38165212]\n",
            " [ 1.16627772]\n",
            " [ 1.22882034]\n",
            " [-0.55648718]\n",
            " [-0.31200239]\n",
            " [-1.38659831]\n",
            " [-0.45414471]\n",
            " [ 0.59770845]\n",
            " [-0.65314395]\n",
            " [-0.5394301 ]\n",
            " [-1.90399635]\n",
            " [-1.33542708]\n",
            " [-1.84713942]\n",
            " [ 0.42713767]]\n"
          ],
          "name": "stdout"
        }
      ]
    },
    {
      "cell_type": "code",
      "metadata": {
        "id": "85eNfTU-KFjf"
      },
      "source": [
        ""
      ],
      "execution_count": null,
      "outputs": []
    }
  ]
}