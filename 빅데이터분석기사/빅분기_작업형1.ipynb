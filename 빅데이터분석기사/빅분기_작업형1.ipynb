{
  "nbformat": 4,
  "nbformat_minor": 0,
  "metadata": {
    "colab": {
      "name": "빅분기-작업형1.ipynb",
      "provenance": [],
      "collapsed_sections": []
    },
    "kernelspec": {
      "name": "python3",
      "display_name": "Python 3"
    },
    "language_info": {
      "name": "python"
    }
  },
  "cells": [
    {
      "cell_type": "code",
      "metadata": {
        "id": "2oQdpDt59074"
      },
      "source": [
        "import pandas as pd\n",
        "from sklearn.preprocessing import MinMaxScaler\n",
        "\n",
        "data = pd.read_csv('data/mtcars.csv')\n",
        "\n",
        "s=pd.DataFrame(data['qsec'])\n",
        "\n",
        "scaler = MinMaxScaler()\n",
        "scaler.fit(s)\n",
        "\n",
        "s=scaler.transform(s)\n",
        "count=0\n",
        "for c in s:\n",
        "\tif c>0.5:\n",
        "\t\tcount+=1\n",
        "print(count)"
      ],
      "execution_count": null,
      "outputs": []
    }
  ]
}