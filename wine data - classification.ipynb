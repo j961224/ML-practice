{
  "nbformat": 4,
  "nbformat_minor": 0,
  "metadata": {
    "colab": {
      "name": "기계학습과제",
      "provenance": [],
      "collapsed_sections": []
    },
    "kernelspec": {
      "name": "python3",
      "display_name": "Python 3"
    }
  },
  "cells": [
    {
      "cell_type": "code",
      "metadata": {
        "id": "-LoFt1_O0KIS",
        "colab_type": "code",
        "outputId": "5be9c158-f15a-4fef-8311-12cbfd60919a",
        "colab": {
          "base_uri": "https://localhost:8080/",
          "height": 109
        }
      },
      "source": [
        "import numpy as np\n",
        "import matplotlib as mpl\n",
        "import matplotlib.pyplot as plt\n",
        "import pandas as pd\n",
        "import seaborn as sns\n",
        "from matplotlib.colors import ListedColormap, colorConverter, LinearSegmentedColormap\n",
        "from sklearn import preprocessing\n",
        "from sklearn.preprocessing import MinMaxScaler\n",
        "from mglearn.plots import plot_2d_separator\n",
        "\n",
        "\n",
        "\n",
        "\n"
      ],
      "execution_count": 8,
      "outputs": [
        {
          "output_type": "stream",
          "text": [
            "/usr/local/lib/python3.6/dist-packages/sklearn/externals/six.py:31: FutureWarning: The module is deprecated in version 0.21 and will be removed in version 0.23 since we've dropped support for Python 2.7. Please rely on the official version of six (https://pypi.org/project/six/).\n",
            "  \"(https://pypi.org/project/six/).\", FutureWarning)\n",
            "/usr/local/lib/python3.6/dist-packages/sklearn/externals/joblib/__init__.py:15: FutureWarning: sklearn.externals.joblib is deprecated in 0.21 and will be removed in 0.23. Please import this functionality directly from joblib, which can be installed with: pip install joblib. If this warning is raised when loading pickled models, you may need to re-serialize those models with scikit-learn 0.21+.\n",
            "  warnings.warn(msg, category=FutureWarning)\n"
          ],
          "name": "stderr"
        }
      ]
    },
    {
      "cell_type": "markdown",
      "metadata": {
        "id": "Rn17RuudQs_w",
        "colab_type": "text"
      },
      "source": [
        "##Wine Data"
      ]
    },
    {
      "cell_type": "code",
      "metadata": {
        "id": "-F--9OcM0LSP",
        "colab_type": "code",
        "outputId": "462eb390-9f3b-4dbd-d18e-92c97856df1d",
        "colab": {
          "base_uri": "https://localhost:8080/",
          "height": 1000
        }
      },
      "source": [
        "from sklearn.datasets import load_wine\n",
        "wine = load_wine()\n",
        "print(wine.DESCR)"
      ],
      "execution_count": 9,
      "outputs": [
        {
          "output_type": "stream",
          "text": [
            ".. _wine_dataset:\n",
            "\n",
            "Wine recognition dataset\n",
            "------------------------\n",
            "\n",
            "**Data Set Characteristics:**\n",
            "\n",
            "    :Number of Instances: 178 (50 in each of three classes)\n",
            "    :Number of Attributes: 13 numeric, predictive attributes and the class\n",
            "    :Attribute Information:\n",
            " \t\t- Alcohol\n",
            " \t\t- Malic acid\n",
            " \t\t- Ash\n",
            "\t\t- Alcalinity of ash  \n",
            " \t\t- Magnesium\n",
            "\t\t- Total phenols\n",
            " \t\t- Flavanoids\n",
            " \t\t- Nonflavanoid phenols\n",
            " \t\t- Proanthocyanins\n",
            "\t\t- Color intensity\n",
            " \t\t- Hue\n",
            " \t\t- OD280/OD315 of diluted wines\n",
            " \t\t- Proline\n",
            "\n",
            "    - class:\n",
            "            - class_0\n",
            "            - class_1\n",
            "            - class_2\n",
            "\t\t\n",
            "    :Summary Statistics:\n",
            "    \n",
            "    ============================= ==== ===== ======= =====\n",
            "                                   Min   Max   Mean     SD\n",
            "    ============================= ==== ===== ======= =====\n",
            "    Alcohol:                      11.0  14.8    13.0   0.8\n",
            "    Malic Acid:                   0.74  5.80    2.34  1.12\n",
            "    Ash:                          1.36  3.23    2.36  0.27\n",
            "    Alcalinity of Ash:            10.6  30.0    19.5   3.3\n",
            "    Magnesium:                    70.0 162.0    99.7  14.3\n",
            "    Total Phenols:                0.98  3.88    2.29  0.63\n",
            "    Flavanoids:                   0.34  5.08    2.03  1.00\n",
            "    Nonflavanoid Phenols:         0.13  0.66    0.36  0.12\n",
            "    Proanthocyanins:              0.41  3.58    1.59  0.57\n",
            "    Colour Intensity:              1.3  13.0     5.1   2.3\n",
            "    Hue:                          0.48  1.71    0.96  0.23\n",
            "    OD280/OD315 of diluted wines: 1.27  4.00    2.61  0.71\n",
            "    Proline:                       278  1680     746   315\n",
            "    ============================= ==== ===== ======= =====\n",
            "\n",
            "    :Missing Attribute Values: None\n",
            "    :Class Distribution: class_0 (59), class_1 (71), class_2 (48)\n",
            "    :Creator: R.A. Fisher\n",
            "    :Donor: Michael Marshall (MARSHALL%PLU@io.arc.nasa.gov)\n",
            "    :Date: July, 1988\n",
            "\n",
            "This is a copy of UCI ML Wine recognition datasets.\n",
            "https://archive.ics.uci.edu/ml/machine-learning-databases/wine/wine.data\n",
            "\n",
            "The data is the results of a chemical analysis of wines grown in the same\n",
            "region in Italy by three different cultivators. There are thirteen different\n",
            "measurements taken for different constituents found in the three types of\n",
            "wine.\n",
            "\n",
            "Original Owners: \n",
            "\n",
            "Forina, M. et al, PARVUS - \n",
            "An Extendible Package for Data Exploration, Classification and Correlation. \n",
            "Institute of Pharmaceutical and Food Analysis and Technologies,\n",
            "Via Brigata Salerno, 16147 Genoa, Italy.\n",
            "\n",
            "Citation:\n",
            "\n",
            "Lichman, M. (2013). UCI Machine Learning Repository\n",
            "[https://archive.ics.uci.edu/ml]. Irvine, CA: University of California,\n",
            "School of Information and Computer Science. \n",
            "\n",
            ".. topic:: References\n",
            "\n",
            "  (1) S. Aeberhard, D. Coomans and O. de Vel, \n",
            "  Comparison of Classifiers in High Dimensional Settings, \n",
            "  Tech. Rep. no. 92-02, (1992), Dept. of Computer Science and Dept. of  \n",
            "  Mathematics and Statistics, James Cook University of North Queensland. \n",
            "  (Also submitted to Technometrics). \n",
            "\n",
            "  The data was used with many others for comparing various \n",
            "  classifiers. The classes are separable, though only RDA \n",
            "  has achieved 100% correct classification. \n",
            "  (RDA : 100%, QDA 99.4%, LDA 98.9%, 1NN 96.1% (z-transformed data)) \n",
            "  (All results using the leave-one-out technique) \n",
            "\n",
            "  (2) S. Aeberhard, D. Coomans and O. de Vel, \n",
            "  \"THE CLASSIFICATION PERFORMANCE OF RDA\" \n",
            "  Tech. Rep. no. 92-01, (1992), Dept. of Computer Science and Dept. of \n",
            "  Mathematics and Statistics, James Cook University of North Queensland. \n",
            "  (Also submitted to Journal of Chemometrics).\n",
            "\n"
          ],
          "name": "stdout"
        }
      ]
    },
    {
      "cell_type": "code",
      "metadata": {
        "id": "z_OVGKpb0NbN",
        "colab_type": "code",
        "colab": {}
      },
      "source": [
        "from sklearn import model_selection\n",
        "from sklearn.svm import SVC\n",
        "from sklearn import metrics\n",
        "from sklearn.model_selection import train_test_split"
      ],
      "execution_count": 0,
      "outputs": []
    },
    {
      "cell_type": "code",
      "metadata": {
        "id": "B6eKQ9Qg0SSh",
        "colab_type": "code",
        "outputId": "a15c50a3-9e37-4050-cdf7-08c1cfea9c70",
        "colab": {
          "base_uri": "https://localhost:8080/",
          "height": 419
        }
      },
      "source": [
        "df = pd.DataFrame(wine.data, columns=wine.feature_names)\n",
        "sy = pd.Series(wine.target, dtype=\"category\")\n",
        "sy = sy.cat.rename_categories(wine.target_names)\n",
        "df['class'] = sy\n",
        "df"
      ],
      "execution_count": 11,
      "outputs": [
        {
          "output_type": "execute_result",
          "data": {
            "text/html": [
              "<div>\n",
              "<style scoped>\n",
              "    .dataframe tbody tr th:only-of-type {\n",
              "        vertical-align: middle;\n",
              "    }\n",
              "\n",
              "    .dataframe tbody tr th {\n",
              "        vertical-align: top;\n",
              "    }\n",
              "\n",
              "    .dataframe thead th {\n",
              "        text-align: right;\n",
              "    }\n",
              "</style>\n",
              "<table border=\"1\" class=\"dataframe\">\n",
              "  <thead>\n",
              "    <tr style=\"text-align: right;\">\n",
              "      <th></th>\n",
              "      <th>alcohol</th>\n",
              "      <th>malic_acid</th>\n",
              "      <th>ash</th>\n",
              "      <th>alcalinity_of_ash</th>\n",
              "      <th>magnesium</th>\n",
              "      <th>total_phenols</th>\n",
              "      <th>flavanoids</th>\n",
              "      <th>nonflavanoid_phenols</th>\n",
              "      <th>proanthocyanins</th>\n",
              "      <th>color_intensity</th>\n",
              "      <th>hue</th>\n",
              "      <th>od280/od315_of_diluted_wines</th>\n",
              "      <th>proline</th>\n",
              "      <th>class</th>\n",
              "    </tr>\n",
              "  </thead>\n",
              "  <tbody>\n",
              "    <tr>\n",
              "      <th>0</th>\n",
              "      <td>14.23</td>\n",
              "      <td>1.71</td>\n",
              "      <td>2.43</td>\n",
              "      <td>15.6</td>\n",
              "      <td>127.0</td>\n",
              "      <td>2.80</td>\n",
              "      <td>3.06</td>\n",
              "      <td>0.28</td>\n",
              "      <td>2.29</td>\n",
              "      <td>5.64</td>\n",
              "      <td>1.04</td>\n",
              "      <td>3.92</td>\n",
              "      <td>1065.0</td>\n",
              "      <td>class_0</td>\n",
              "    </tr>\n",
              "    <tr>\n",
              "      <th>1</th>\n",
              "      <td>13.20</td>\n",
              "      <td>1.78</td>\n",
              "      <td>2.14</td>\n",
              "      <td>11.2</td>\n",
              "      <td>100.0</td>\n",
              "      <td>2.65</td>\n",
              "      <td>2.76</td>\n",
              "      <td>0.26</td>\n",
              "      <td>1.28</td>\n",
              "      <td>4.38</td>\n",
              "      <td>1.05</td>\n",
              "      <td>3.40</td>\n",
              "      <td>1050.0</td>\n",
              "      <td>class_0</td>\n",
              "    </tr>\n",
              "    <tr>\n",
              "      <th>2</th>\n",
              "      <td>13.16</td>\n",
              "      <td>2.36</td>\n",
              "      <td>2.67</td>\n",
              "      <td>18.6</td>\n",
              "      <td>101.0</td>\n",
              "      <td>2.80</td>\n",
              "      <td>3.24</td>\n",
              "      <td>0.30</td>\n",
              "      <td>2.81</td>\n",
              "      <td>5.68</td>\n",
              "      <td>1.03</td>\n",
              "      <td>3.17</td>\n",
              "      <td>1185.0</td>\n",
              "      <td>class_0</td>\n",
              "    </tr>\n",
              "    <tr>\n",
              "      <th>3</th>\n",
              "      <td>14.37</td>\n",
              "      <td>1.95</td>\n",
              "      <td>2.50</td>\n",
              "      <td>16.8</td>\n",
              "      <td>113.0</td>\n",
              "      <td>3.85</td>\n",
              "      <td>3.49</td>\n",
              "      <td>0.24</td>\n",
              "      <td>2.18</td>\n",
              "      <td>7.80</td>\n",
              "      <td>0.86</td>\n",
              "      <td>3.45</td>\n",
              "      <td>1480.0</td>\n",
              "      <td>class_0</td>\n",
              "    </tr>\n",
              "    <tr>\n",
              "      <th>4</th>\n",
              "      <td>13.24</td>\n",
              "      <td>2.59</td>\n",
              "      <td>2.87</td>\n",
              "      <td>21.0</td>\n",
              "      <td>118.0</td>\n",
              "      <td>2.80</td>\n",
              "      <td>2.69</td>\n",
              "      <td>0.39</td>\n",
              "      <td>1.82</td>\n",
              "      <td>4.32</td>\n",
              "      <td>1.04</td>\n",
              "      <td>2.93</td>\n",
              "      <td>735.0</td>\n",
              "      <td>class_0</td>\n",
              "    </tr>\n",
              "    <tr>\n",
              "      <th>...</th>\n",
              "      <td>...</td>\n",
              "      <td>...</td>\n",
              "      <td>...</td>\n",
              "      <td>...</td>\n",
              "      <td>...</td>\n",
              "      <td>...</td>\n",
              "      <td>...</td>\n",
              "      <td>...</td>\n",
              "      <td>...</td>\n",
              "      <td>...</td>\n",
              "      <td>...</td>\n",
              "      <td>...</td>\n",
              "      <td>...</td>\n",
              "      <td>...</td>\n",
              "    </tr>\n",
              "    <tr>\n",
              "      <th>173</th>\n",
              "      <td>13.71</td>\n",
              "      <td>5.65</td>\n",
              "      <td>2.45</td>\n",
              "      <td>20.5</td>\n",
              "      <td>95.0</td>\n",
              "      <td>1.68</td>\n",
              "      <td>0.61</td>\n",
              "      <td>0.52</td>\n",
              "      <td>1.06</td>\n",
              "      <td>7.70</td>\n",
              "      <td>0.64</td>\n",
              "      <td>1.74</td>\n",
              "      <td>740.0</td>\n",
              "      <td>class_2</td>\n",
              "    </tr>\n",
              "    <tr>\n",
              "      <th>174</th>\n",
              "      <td>13.40</td>\n",
              "      <td>3.91</td>\n",
              "      <td>2.48</td>\n",
              "      <td>23.0</td>\n",
              "      <td>102.0</td>\n",
              "      <td>1.80</td>\n",
              "      <td>0.75</td>\n",
              "      <td>0.43</td>\n",
              "      <td>1.41</td>\n",
              "      <td>7.30</td>\n",
              "      <td>0.70</td>\n",
              "      <td>1.56</td>\n",
              "      <td>750.0</td>\n",
              "      <td>class_2</td>\n",
              "    </tr>\n",
              "    <tr>\n",
              "      <th>175</th>\n",
              "      <td>13.27</td>\n",
              "      <td>4.28</td>\n",
              "      <td>2.26</td>\n",
              "      <td>20.0</td>\n",
              "      <td>120.0</td>\n",
              "      <td>1.59</td>\n",
              "      <td>0.69</td>\n",
              "      <td>0.43</td>\n",
              "      <td>1.35</td>\n",
              "      <td>10.20</td>\n",
              "      <td>0.59</td>\n",
              "      <td>1.56</td>\n",
              "      <td>835.0</td>\n",
              "      <td>class_2</td>\n",
              "    </tr>\n",
              "    <tr>\n",
              "      <th>176</th>\n",
              "      <td>13.17</td>\n",
              "      <td>2.59</td>\n",
              "      <td>2.37</td>\n",
              "      <td>20.0</td>\n",
              "      <td>120.0</td>\n",
              "      <td>1.65</td>\n",
              "      <td>0.68</td>\n",
              "      <td>0.53</td>\n",
              "      <td>1.46</td>\n",
              "      <td>9.30</td>\n",
              "      <td>0.60</td>\n",
              "      <td>1.62</td>\n",
              "      <td>840.0</td>\n",
              "      <td>class_2</td>\n",
              "    </tr>\n",
              "    <tr>\n",
              "      <th>177</th>\n",
              "      <td>14.13</td>\n",
              "      <td>4.10</td>\n",
              "      <td>2.74</td>\n",
              "      <td>24.5</td>\n",
              "      <td>96.0</td>\n",
              "      <td>2.05</td>\n",
              "      <td>0.76</td>\n",
              "      <td>0.56</td>\n",
              "      <td>1.35</td>\n",
              "      <td>9.20</td>\n",
              "      <td>0.61</td>\n",
              "      <td>1.60</td>\n",
              "      <td>560.0</td>\n",
              "      <td>class_2</td>\n",
              "    </tr>\n",
              "  </tbody>\n",
              "</table>\n",
              "<p>178 rows × 14 columns</p>\n",
              "</div>"
            ],
            "text/plain": [
              "     alcohol  malic_acid   ash  ...  od280/od315_of_diluted_wines  proline    class\n",
              "0      14.23        1.71  2.43  ...                          3.92   1065.0  class_0\n",
              "1      13.20        1.78  2.14  ...                          3.40   1050.0  class_0\n",
              "2      13.16        2.36  2.67  ...                          3.17   1185.0  class_0\n",
              "3      14.37        1.95  2.50  ...                          3.45   1480.0  class_0\n",
              "4      13.24        2.59  2.87  ...                          2.93    735.0  class_0\n",
              "..       ...         ...   ...  ...                           ...      ...      ...\n",
              "173    13.71        5.65  2.45  ...                          1.74    740.0  class_2\n",
              "174    13.40        3.91  2.48  ...                          1.56    750.0  class_2\n",
              "175    13.27        4.28  2.26  ...                          1.56    835.0  class_2\n",
              "176    13.17        2.59  2.37  ...                          1.62    840.0  class_2\n",
              "177    14.13        4.10  2.74  ...                          1.60    560.0  class_2\n",
              "\n",
              "[178 rows x 14 columns]"
            ]
          },
          "metadata": {
            "tags": []
          },
          "execution_count": 11
        }
      ]
    },
    {
      "cell_type": "code",
      "metadata": {
        "id": "g4Pm5gpO0817",
        "colab_type": "code",
        "outputId": "b3f229cf-83f6-497b-870b-d14828ee1cba",
        "colab": {
          "base_uri": "https://localhost:8080/",
          "height": 750
        }
      },
      "source": [
        "sns.pairplot(vars=[\"alcohol\", \"alcalinity_of_ash\", \"total_phenols\", \"flavanoids\"], \n",
        "             hue=\"class\", data=df)\n",
        "plt.show()\n",
        "## 일부 특징값의 분포와 상관관계를 보는 히스토그램과 스캐터플롯\n",
        "## 선형으로는 구분하기 힘들 다는 것을 느낌."
      ],
      "execution_count": 12,
      "outputs": [
        {
          "output_type": "display_data",
          "data": {
            "image/png": "[encoded data removed]",
            "text/plain": [
              "<Figure size 792.375x720 with 20 Axes>"
            ]
          },
          "metadata": {
            "tags": [],
            "needs_background": "light"
          }
        }
      ]
    },
    {
      "cell_type": "markdown",
      "metadata": {
        "id": "ZHAyKZv_1SB5",
        "colab_type": "text"
      },
      "source": [
        "## 1. SVM"
      ]
    },
    {
      "cell_type": "code",
      "metadata": {
        "id": "B_AU7KcP0_sa",
        "colab_type": "code",
        "colab": {}
      },
      "source": [
        "from sklearn.metrics import classification_report, confusion_matrix  \n",
        "\n"
      ],
      "execution_count": 0,
      "outputs": []
    },
    {
      "cell_type": "code",
      "metadata": {
        "id": "Qkwp6bVniZVZ",
        "colab_type": "code",
        "colab": {}
      },
      "source": [
        "x_train, x_test, y_train, y_test = train_test_split( wine.data, wine.target, test_size=0.3)\n",
        "# test size 비율 0.3으로 했을 때 가정(꼭 0.1로 하라는 말씀이 없어서 test size= 0.3으로 했습니다.)"
      ],
      "execution_count": 0,
      "outputs": []
    },
    {
      "cell_type": "code",
      "metadata": {
        "id": "TCyg3pNL_PI3",
        "colab_type": "code",
        "outputId": "a1f2cc03-6a5d-49ec-cc75-96023d93519c",
        "colab": {
          "base_uri": "https://localhost:8080/",
          "height": 53
        }
      },
      "source": [
        "# 그냥 svm에 적용했을 때 \n",
        "\n",
        "svc = SVC(random_state=0) # default: C=1, kernel='rbf', gamme='auto'\n",
        "\n",
        "svc.fit(x_train, y_train) \n",
        "\n",
        "\n",
        "\n",
        "train_score = svc.score(x_train, y_train)\n",
        "\n",
        "test_score = svc.score(x_test, y_test)\n",
        "\n",
        "\n",
        "\n",
        "print('{:.3f}'.format(train_score))\n",
        "\n",
        "# 1.000\n",
        "\n",
        "\n",
        "\n",
        "print('{:.3f}'.format(test_score))\n",
        "\n",
        "# 0.422"
      ],
      "execution_count": 15,
      "outputs": [
        {
          "output_type": "stream",
          "text": [
            "0.677\n",
            "0.685\n"
          ],
          "name": "stdout"
        }
      ]
    },
    {
      "cell_type": "markdown",
      "metadata": {
        "id": "Ra82cnqZ77a-",
        "colab_type": "text"
      },
      "source": [
        "## 전처리 하기"
      ]
    },
    {
      "cell_type": "code",
      "metadata": {
        "id": "cFhhBYoBPMUt",
        "colab_type": "code",
        "colab": {}
      },
      "source": [
        "from sklearn import preprocessing\n",
        "\n",
        "## MinMax로 데이터 scale하기\n",
        "wine.data = preprocessing.MinMaxScaler().fit_transform(wine.data)\n",
        "x_train, x_test, y_train, y_test = train_test_split( wine.data, wine.target, test_size=0.3)\n",
        "\n"
      ],
      "execution_count": 0,
      "outputs": []
    },
    {
      "cell_type": "code",
      "metadata": {
        "id": "XnzIK2p8JsEs",
        "colab_type": "code",
        "outputId": "dc6118c4-53a6-4b55-9dbf-aff7516662c5",
        "colab": {
          "base_uri": "https://localhost:8080/",
          "height": 251
        }
      },
      "source": [
        "##cross-validation으로 부터 tuning한 Hyper-parameter 찾기\n",
        "from sklearn.model_selection import GridSearchCV\n",
        "param_grid = {'C': [1,100,10,0.1,0.01,0.001], 'gamma': [1,100,10,0.1,0.01,0.001],'kernel': ['rbf', 'poly', 'sigmoid']}\n",
        "grid = GridSearchCV(SVC(),param_grid,refit=True,cv=10)\n",
        "## 찾은 Hyper-parameter를 training하기\n",
        "grid.fit(x_train,y_train)"
      ],
      "execution_count": 27,
      "outputs": [
        {
          "output_type": "execute_result",
          "data": {
            "text/plain": [
              "GridSearchCV(cv=10, error_score=nan,\n",
              "             estimator=SVC(C=1.0, break_ties=False, cache_size=200,\n",
              "                           class_weight=None, coef0=0.0,\n",
              "                           decision_function_shape='ovr', degree=3,\n",
              "                           gamma='scale', kernel='rbf', max_iter=-1,\n",
              "                           probability=False, random_state=None, shrinking=True,\n",
              "                           tol=0.001, verbose=False),\n",
              "             iid='deprecated', n_jobs=None,\n",
              "             param_grid={'C': [1, 100, 10, 0.1, 0.01, 0.001],\n",
              "                         'gamma': [1, 100, 10, 0.1, 0.01, 0.001],\n",
              "                         'kernel': ['rbf', 'poly', 'sigmoid']},\n",
              "             pre_dispatch='2*n_jobs', refit=True, return_train_score=False,\n",
              "             scoring=None, verbose=0)"
            ]
          },
          "metadata": {
            "tags": []
          },
          "execution_count": 27
        }
      ]
    },
    {
      "cell_type": "code",
      "metadata": {
        "id": "YaJzrYbyKK4U",
        "colab_type": "code",
        "outputId": "ec5ab635-7a86-47fc-edd4-d41f6003fcfb",
        "colab": {
          "base_uri": "https://localhost:8080/",
          "height": 107
        }
      },
      "source": [
        "## optimal Hyper-parameter 찾은 것을 보여주고 optimal Hyper-parameter의 최고 점수 보여주기\n",
        "print(grid.best_estimator_)\n",
        "print(grid.best_score_)"
      ],
      "execution_count": 28,
      "outputs": [
        {
          "output_type": "stream",
          "text": [
            "SVC(C=1, break_ties=False, cache_size=200, class_weight=None, coef0=0.0,\n",
            "    decision_function_shape='ovr', degree=3, gamma=0.1, kernel='rbf',\n",
            "    max_iter=-1, probability=False, random_state=None, shrinking=True,\n",
            "    tol=0.001, verbose=False)\n",
            "0.9833333333333334\n"
          ],
          "name": "stdout"
        }
      ]
    },
    {
      "cell_type": "code",
      "metadata": {
        "id": "1ftEVDpdnb68",
        "colab_type": "code",
        "colab": {}
      },
      "source": [
        "#from sklearn.model_selection import cross_val_score\n",
        "#score = cross_val_score(grid, x_train, y_train, scoring='accuracy', cv=5)\n",
        "\n"
      ],
      "execution_count": 0,
      "outputs": []
    },
    {
      "cell_type": "code",
      "metadata": {
        "id": "Zb7ozvvVeC1M",
        "colab_type": "code",
        "outputId": "42ebf102-45b2-48be-a4af-543cb875efc7",
        "colab": {
          "base_uri": "https://localhost:8080/",
          "height": 89
        }
      },
      "source": [
        "from sklearn.metrics import classification_report, confusion_matrix, accuracy_score\n",
        "\n",
        "# 모델 평가하기\n",
        "grid_predictions = grid.predict(x_test)\n",
        "print(confusion_matrix(y_test,grid_predictions))\n",
        "print(accuracy_score(y_test, grid_predictions))\n",
        "\n"
      ],
      "execution_count": 29,
      "outputs": [
        {
          "output_type": "stream",
          "text": [
            "[[18  0  0]\n",
            " [ 1 21  0]\n",
            " [ 0  0 14]]\n",
            "0.9814814814814815\n"
          ],
          "name": "stdout"
        }
      ]
    },
    {
      "cell_type": "code",
      "metadata": {
        "id": "0sGUg9ZffbYY",
        "colab_type": "code",
        "outputId": "4c6f7f9f-5588-49eb-92ff-df47c3a680f3",
        "colab": {
          "base_uri": "https://localhost:8080/",
          "height": 197
        }
      },
      "source": [
        "## 평가하기 위한 지표 accuracy와 f1-score 구하기\n",
        "print(classification_report(grid_predictions,y_test))"
      ],
      "execution_count": 31,
      "outputs": [
        {
          "output_type": "stream",
          "text": [
            "              precision    recall  f1-score   support\n",
            "\n",
            "           0       1.00      0.95      0.97        19\n",
            "           1       0.95      1.00      0.98        21\n",
            "           2       1.00      1.00      1.00        14\n",
            "\n",
            "    accuracy                           0.98        54\n",
            "   macro avg       0.98      0.98      0.98        54\n",
            "weighted avg       0.98      0.98      0.98        54\n",
            "\n"
          ],
          "name": "stdout"
        }
      ]
    },
    {
      "cell_type": "code",
      "metadata": {
        "id": "ZFQUZNPqdTfF",
        "colab_type": "code",
        "outputId": "c4d4c8a6-2bad-4502-ab8b-96fafd364911",
        "colab": {
          "base_uri": "https://localhost:8080/",
          "height": 71
        }
      },
      "source": [
        "## ROC curve 를 통한 AUC score 구하기\n",
        "from sklearn.metrics import roc_curve\n",
        "from sklearn.metrics import roc_auc_score\n",
        "from sklearn import preprocessing\n",
        "\n",
        "def multiclass_roc_auc_score(y_test, y_pred, average=\"macro\"):\n",
        "  lb = preprocessing.LabelBinarizer()\n",
        "  lb.fit(y_test)\n",
        "  y_test = lb.transform(y_test)\n",
        "  y_pred = lb.transform(y_pred)\n",
        "  return roc_auc_score(y_test, y_pred, average=average)\n",
        "\n",
        "a1=multiclass_roc_auc_score(y_test,grid_predictions)\n",
        "a2=(0.97+0.98+1.0)/3\n",
        "a3=accuracy_score(y_test, grid_predictions)\n",
        "\n",
        "## SVM model의 accuracy, f1- score, auc score 나타낸 결과\n",
        "print('SVM model roc curve score :' ,a1)\n",
        "print('SVM model f1-score :' ,a2)\n",
        "print('SVM model accuracy :' ,a3)\n"
      ],
      "execution_count": 43,
      "outputs": [
        {
          "output_type": "stream",
          "text": [
            "SVM model roc curve score : 0.9877946127946128\n",
            "SVM model f1-score : 0.9833333333333334\n",
            "SVM model accuracy : 0.9814814814814815\n"
          ],
          "name": "stdout"
        }
      ]
    },
    {
      "cell_type": "markdown",
      "metadata": {
        "id": "6Fnx35HsBJuA",
        "colab_type": "text"
      },
      "source": [
        "F1 score는 데이터 label이 불균형 구조일 때, 모델의 성능을 정확하게 평가할 수 있으며, 성능을 하나의 숫자로 표현할 수 있다.(imbalance의 척도)\n",
        "\n",
        "AUC(Area Under Curve)는 최대값은 1이며 좋은 모델(즉, Fall-out에 비해 Recall 값이 클수록) 1에 가까운 값(classification 전반적인 성능 평가)"
      ]
    },
    {
      "cell_type": "markdown",
      "metadata": {
        "id": "OOoL9RY1nuyi",
        "colab_type": "text"
      },
      "source": [
        "## 2. KNN classification"
      ]
    },
    {
      "cell_type": "code",
      "metadata": {
        "id": "xCRCM8I0hXV1",
        "colab_type": "code",
        "outputId": "b8a56c38-d3d9-4ac6-b250-88889094709e",
        "colab": {
          "base_uri": "https://localhost:8080/",
          "height": 1000
        }
      },
      "source": [
        "from sklearn.datasets import load_wine\n",
        "import matplotlib.pyplot as plt\n",
        "import pandas as pd\n",
        "import numpy as np\n",
        "import matplotlib as mpl\n",
        "import matplotlib.pyplot as plt\n",
        "import pandas as pd\n",
        "import seaborn as sns\n",
        "from matplotlib.colors import ListedColormap, colorConverter, LinearSegmentedColormap\n",
        "from sklearn import preprocessing\n",
        "from sklearn.preprocessing import MinMaxScaler\n",
        "from mglearn.plots import plot_2d_separator\n",
        "from sklearn import model_selection\n",
        "from sklearn.svm import SVC\n",
        "from sklearn import metrics\n",
        "from sklearn.model_selection import train_test_split\n",
        "\n",
        "\n",
        "\n",
        "wine = load_wine()\n",
        "print(wine.DESCR)"
      ],
      "execution_count": 44,
      "outputs": [
        {
          "output_type": "stream",
          "text": [
            ".. _wine_dataset:\n",
            "\n",
            "Wine recognition dataset\n",
            "------------------------\n",
            "\n",
            "**Data Set Characteristics:**\n",
            "\n",
            "    :Number of Instances: 178 (50 in each of three classes)\n",
            "    :Number of Attributes: 13 numeric, predictive attributes and the class\n",
            "    :Attribute Information:\n",
            " \t\t- Alcohol\n",
            " \t\t- Malic acid\n",
            " \t\t- Ash\n",
            "\t\t- Alcalinity of ash  \n",
            " \t\t- Magnesium\n",
            "\t\t- Total phenols\n",
            " \t\t- Flavanoids\n",
            " \t\t- Nonflavanoid phenols\n",
            " \t\t- Proanthocyanins\n",
            "\t\t- Color intensity\n",
            " \t\t- Hue\n",
            " \t\t- OD280/OD315 of diluted wines\n",
            " \t\t- Proline\n",
            "\n",
            "    - class:\n",
            "            - class_0\n",
            "            - class_1\n",
            "            - class_2\n",
            "\t\t\n",
            "    :Summary Statistics:\n",
            "    \n",
            "    ============================= ==== ===== ======= =====\n",
            "                                   Min   Max   Mean     SD\n",
            "    ============================= ==== ===== ======= =====\n",
            "    Alcohol:                      11.0  14.8    13.0   0.8\n",
            "    Malic Acid:                   0.74  5.80    2.34  1.12\n",
            "    Ash:                          1.36  3.23    2.36  0.27\n",
            "    Alcalinity of Ash:            10.6  30.0    19.5   3.3\n",
            "    Magnesium:                    70.0 162.0    99.7  14.3\n",
            "    Total Phenols:                0.98  3.88    2.29  0.63\n",
            "    Flavanoids:                   0.34  5.08    2.03  1.00\n",
            "    Nonflavanoid Phenols:         0.13  0.66    0.36  0.12\n",
            "    Proanthocyanins:              0.41  3.58    1.59  0.57\n",
            "    Colour Intensity:              1.3  13.0     5.1   2.3\n",
            "    Hue:                          0.48  1.71    0.96  0.23\n",
            "    OD280/OD315 of diluted wines: 1.27  4.00    2.61  0.71\n",
            "    Proline:                       278  1680     746   315\n",
            "    ============================= ==== ===== ======= =====\n",
            "\n",
            "    :Missing Attribute Values: None\n",
            "    :Class Distribution: class_0 (59), class_1 (71), class_2 (48)\n",
            "    :Creator: R.A. Fisher\n",
            "    :Donor: Michael Marshall (MARSHALL%PLU@io.arc.nasa.gov)\n",
            "    :Date: July, 1988\n",
            "\n",
            "This is a copy of UCI ML Wine recognition datasets.\n",
            "https://archive.ics.uci.edu/ml/machine-learning-databases/wine/wine.data\n",
            "\n",
            "The data is the results of a chemical analysis of wines grown in the same\n",
            "region in Italy by three different cultivators. There are thirteen different\n",
            "measurements taken for different constituents found in the three types of\n",
            "wine.\n",
            "\n",
            "Original Owners: \n",
            "\n",
            "Forina, M. et al, PARVUS - \n",
            "An Extendible Package for Data Exploration, Classification and Correlation. \n",
            "Institute of Pharmaceutical and Food Analysis and Technologies,\n",
            "Via Brigata Salerno, 16147 Genoa, Italy.\n",
            "\n",
            "Citation:\n",
            "\n",
            "Lichman, M. (2013). UCI Machine Learning Repository\n",
            "[https://archive.ics.uci.edu/ml]. Irvine, CA: University of California,\n",
            "School of Information and Computer Science. \n",
            "\n",
            ".. topic:: References\n",
            "\n",
            "  (1) S. Aeberhard, D. Coomans and O. de Vel, \n",
            "  Comparison of Classifiers in High Dimensional Settings, \n",
            "  Tech. Rep. no. 92-02, (1992), Dept. of Computer Science and Dept. of  \n",
            "  Mathematics and Statistics, James Cook University of North Queensland. \n",
            "  (Also submitted to Technometrics). \n",
            "\n",
            "  The data was used with many others for comparing various \n",
            "  classifiers. The classes are separable, though only RDA \n",
            "  has achieved 100% correct classification. \n",
            "  (RDA : 100%, QDA 99.4%, LDA 98.9%, 1NN 96.1% (z-transformed data)) \n",
            "  (All results using the leave-one-out technique) \n",
            "\n",
            "  (2) S. Aeberhard, D. Coomans and O. de Vel, \n",
            "  \"THE CLASSIFICATION PERFORMANCE OF RDA\" \n",
            "  Tech. Rep. no. 92-01, (1992), Dept. of Computer Science and Dept. of \n",
            "  Mathematics and Statistics, James Cook University of North Queensland. \n",
            "  (Also submitted to Journal of Chemometrics).\n",
            "\n"
          ],
          "name": "stdout"
        }
      ]
    },
    {
      "cell_type": "code",
      "metadata": {
        "id": "KMQ0-aA_n3t2",
        "colab_type": "code",
        "outputId": "c8ef0199-7653-45f6-d030-962f48b64af3",
        "colab": {
          "base_uri": "https://localhost:8080/",
          "height": 251
        }
      },
      "source": [
        "## wine data feature 종류\n",
        "for i in range(len(wine.feature_names)):\n",
        "\n",
        "    print('{}:{}'.format(i, wine.feature_names[i]))"
      ],
      "execution_count": 45,
      "outputs": [
        {
          "output_type": "stream",
          "text": [
            "0:alcohol\n",
            "1:malic_acid\n",
            "2:ash\n",
            "3:alcalinity_of_ash\n",
            "4:magnesium\n",
            "5:total_phenols\n",
            "6:flavanoids\n",
            "7:nonflavanoid_phenols\n",
            "8:proanthocyanins\n",
            "9:color_intensity\n",
            "10:hue\n",
            "11:od280/od315_of_diluted_wines\n",
            "12:proline\n"
          ],
          "name": "stdout"
        }
      ]
    },
    {
      "cell_type": "code",
      "metadata": {
        "id": "pqbpEUX1pqPn",
        "colab_type": "code",
        "outputId": "7ef9b9b5-f925-4694-d1e1-7ede6cce008f",
        "colab": {
          "base_uri": "https://localhost:8080/",
          "height": 289
        }
      },
      "source": [
        "\n",
        "## 데이터 구조 확인\n",
        "from pandas.plotting import scatter_matrix\n",
        "\n",
        "wine_df = pd.DataFrame(wine.data, columns=range(len(wine.feature_names)))\n",
        "\n",
        "scatter_matrix(wine_df, # dataframe\n",
        "\n",
        "                  c=wine.target, # color\n",
        "\n",
        "                  hist_kwds={'bins':30}, # hist kwords\n",
        "\n",
        "                  s=10, # size\n",
        "\n",
        "                  alpha=0.5, # alpha\n",
        "\n",
        "                  marker='o') # marker\n",
        "\n",
        "plt.show()"
      ],
      "execution_count": 46,
      "outputs": [
        {
          "output_type": "display_data",
          "data": {
            "image/png": "[encoded data removed]",
            "text/plain": [
              "<Figure size 432x288 with 169 Axes>"
            ]
          },
          "metadata": {
            "tags": [],
            "needs_background": "light"
          }
        }
      ]
    },
    {
      "cell_type": "code",
      "metadata": {
        "id": "zw3XouMuwsFH",
        "colab_type": "code",
        "colab": {}
      },
      "source": [
        "from sklearn.model_selection import train_test_split\n",
        "## test size를 0.3으로 가정\n",
        "x_train, x_test, y_train, y_test = model_selection.train_test_split(wine.data, wine.target, test_size=0.3)"
      ],
      "execution_count": 0,
      "outputs": []
    },
    {
      "cell_type": "markdown",
      "metadata": {
        "id": "IqekdbJgEG0R",
        "colab_type": "text"
      },
      "source": [
        "## 전처리 전 데이터를 KNN 모델에 적용 "
      ]
    },
    {
      "cell_type": "code",
      "metadata": {
        "id": "CDWWlHIfqjLI",
        "colab_type": "code",
        "outputId": "39c90828-02f3-4bf8-b2ab-7ebd25438946",
        "colab": {
          "base_uri": "https://localhost:8080/",
          "height": 71
        }
      },
      "source": [
        "## K=5 일 때 KNN 알고리즘을 돌릴 때\n",
        "from sklearn.neighbors import KNeighborsClassifier\n",
        "from sklearn.model_selection import train_test_split\n",
        "\n",
        "knn = KNeighborsClassifier(n_neighbors=5) \n",
        "\n",
        "knn_model1=knn.fit(x_train, y_train)\n",
        "\n",
        "y_predict = knn_model1.predict(x_train)\n",
        "score = metrics.accuracy_score(y_train,y_predict)\n",
        "print(score)\n",
        "\n",
        "y_predict=knn_model1.predict(x_test)\n",
        "score = metrics.accuracy_score(y_test,y_predict)\n",
        "print(score)\n",
        "\n",
        "print('{:.3f}'.format(knn_model1.score(x_test, y_test)))\n",
        "\n"
      ],
      "execution_count": 50,
      "outputs": [
        {
          "output_type": "stream",
          "text": [
            "0.7903225806451613\n",
            "0.6851851851851852\n",
            "0.685\n"
          ],
          "name": "stdout"
        }
      ]
    },
    {
      "cell_type": "code",
      "metadata": {
        "id": "ozIfnMjpMlW0",
        "colab_type": "code",
        "outputId": "09c79547-c7f6-44f2-b9ad-8338e41602c7",
        "colab": {
          "base_uri": "https://localhost:8080/",
          "height": 269
        }
      },
      "source": [
        "from sklearn.metrics import classification_report, confusion_matrix, accuracy_score\n",
        "y_true, y_pred = y_test, knn_model1.predict(x_test)\n",
        "print(confusion_matrix(y_true,y_pred))\n",
        "print(classification_report(y_true, y_pred))\n",
        "print(accuracy_score(y_true, y_pred))"
      ],
      "execution_count": 51,
      "outputs": [
        {
          "output_type": "stream",
          "text": [
            "[[14  0  0]\n",
            " [ 3 15  5]\n",
            " [ 4  5  8]]\n",
            "              precision    recall  f1-score   support\n",
            "\n",
            "           0       0.67      1.00      0.80        14\n",
            "           1       0.75      0.65      0.70        23\n",
            "           2       0.62      0.47      0.53        17\n",
            "\n",
            "    accuracy                           0.69        54\n",
            "   macro avg       0.68      0.71      0.68        54\n",
            "weighted avg       0.69      0.69      0.67        54\n",
            "\n",
            "0.6851851851851852\n"
          ],
          "name": "stdout"
        }
      ]
    },
    {
      "cell_type": "markdown",
      "metadata": {
        "id": "ia35ecP_RAOC",
        "colab_type": "text"
      },
      "source": [
        "## 전 처리후 Hyper- parameter tuning 후 KNN 측정"
      ]
    },
    {
      "cell_type": "code",
      "metadata": {
        "id": "jvDOgqy7QlPo",
        "colab_type": "code",
        "outputId": "61281c4e-3cad-4216-ecad-67ea322edcf7",
        "colab": {
          "base_uri": "https://localhost:8080/",
          "height": 1000
        }
      },
      "source": [
        "from sklearn.datasets import load_wine\n",
        "import matplotlib.pyplot as plt\n",
        "import pandas as pd\n",
        "import numpy as np\n",
        "import matplotlib as mpl\n",
        "import matplotlib.pyplot as plt\n",
        "import pandas as pd\n",
        "import seaborn as sns\n",
        "from matplotlib.colors import ListedColormap, colorConverter, LinearSegmentedColormap\n",
        "from sklearn import preprocessing\n",
        "from sklearn.preprocessing import MinMaxScaler\n",
        "from mglearn.plots import plot_2d_separator\n",
        "from sklearn import model_selection\n",
        "from sklearn.svm import SVC\n",
        "from sklearn import metrics\n",
        "from sklearn.model_selection import train_test_split\n",
        "\n",
        "\n",
        "\n",
        "wine = load_wine()\n",
        "print(wine.DESCR)"
      ],
      "execution_count": 53,
      "outputs": [
        {
          "output_type": "stream",
          "text": [
            ".. _wine_dataset:\n",
            "\n",
            "Wine recognition dataset\n",
            "------------------------\n",
            "\n",
            "**Data Set Characteristics:**\n",
            "\n",
            "    :Number of Instances: 178 (50 in each of three classes)\n",
            "    :Number of Attributes: 13 numeric, predictive attributes and the class\n",
            "    :Attribute Information:\n",
            " \t\t- Alcohol\n",
            " \t\t- Malic acid\n",
            " \t\t- Ash\n",
            "\t\t- Alcalinity of ash  \n",
            " \t\t- Magnesium\n",
            "\t\t- Total phenols\n",
            " \t\t- Flavanoids\n",
            " \t\t- Nonflavanoid phenols\n",
            " \t\t- Proanthocyanins\n",
            "\t\t- Color intensity\n",
            " \t\t- Hue\n",
            " \t\t- OD280/OD315 of diluted wines\n",
            " \t\t- Proline\n",
            "\n",
            "    - class:\n",
            "            - class_0\n",
            "            - class_1\n",
            "            - class_2\n",
            "\t\t\n",
            "    :Summary Statistics:\n",
            "    \n",
            "    ============================= ==== ===== ======= =====\n",
            "                                   Min   Max   Mean     SD\n",
            "    ============================= ==== ===== ======= =====\n",
            "    Alcohol:                      11.0  14.8    13.0   0.8\n",
            "    Malic Acid:                   0.74  5.80    2.34  1.12\n",
            "    Ash:                          1.36  3.23    2.36  0.27\n",
            "    Alcalinity of Ash:            10.6  30.0    19.5   3.3\n",
            "    Magnesium:                    70.0 162.0    99.7  14.3\n",
            "    Total Phenols:                0.98  3.88    2.29  0.63\n",
            "    Flavanoids:                   0.34  5.08    2.03  1.00\n",
            "    Nonflavanoid Phenols:         0.13  0.66    0.36  0.12\n",
            "    Proanthocyanins:              0.41  3.58    1.59  0.57\n",
            "    Colour Intensity:              1.3  13.0     5.1   2.3\n",
            "    Hue:                          0.48  1.71    0.96  0.23\n",
            "    OD280/OD315 of diluted wines: 1.27  4.00    2.61  0.71\n",
            "    Proline:                       278  1680     746   315\n",
            "    ============================= ==== ===== ======= =====\n",
            "\n",
            "    :Missing Attribute Values: None\n",
            "    :Class Distribution: class_0 (59), class_1 (71), class_2 (48)\n",
            "    :Creator: R.A. Fisher\n",
            "    :Donor: Michael Marshall (MARSHALL%PLU@io.arc.nasa.gov)\n",
            "    :Date: July, 1988\n",
            "\n",
            "This is a copy of UCI ML Wine recognition datasets.\n",
            "https://archive.ics.uci.edu/ml/machine-learning-databases/wine/wine.data\n",
            "\n",
            "The data is the results of a chemical analysis of wines grown in the same\n",
            "region in Italy by three different cultivators. There are thirteen different\n",
            "measurements taken for different constituents found in the three types of\n",
            "wine.\n",
            "\n",
            "Original Owners: \n",
            "\n",
            "Forina, M. et al, PARVUS - \n",
            "An Extendible Package for Data Exploration, Classification and Correlation. \n",
            "Institute of Pharmaceutical and Food Analysis and Technologies,\n",
            "Via Brigata Salerno, 16147 Genoa, Italy.\n",
            "\n",
            "Citation:\n",
            "\n",
            "Lichman, M. (2013). UCI Machine Learning Repository\n",
            "[https://archive.ics.uci.edu/ml]. Irvine, CA: University of California,\n",
            "School of Information and Computer Science. \n",
            "\n",
            ".. topic:: References\n",
            "\n",
            "  (1) S. Aeberhard, D. Coomans and O. de Vel, \n",
            "  Comparison of Classifiers in High Dimensional Settings, \n",
            "  Tech. Rep. no. 92-02, (1992), Dept. of Computer Science and Dept. of  \n",
            "  Mathematics and Statistics, James Cook University of North Queensland. \n",
            "  (Also submitted to Technometrics). \n",
            "\n",
            "  The data was used with many others for comparing various \n",
            "  classifiers. The classes are separable, though only RDA \n",
            "  has achieved 100% correct classification. \n",
            "  (RDA : 100%, QDA 99.4%, LDA 98.9%, 1NN 96.1% (z-transformed data)) \n",
            "  (All results using the leave-one-out technique) \n",
            "\n",
            "  (2) S. Aeberhard, D. Coomans and O. de Vel, \n",
            "  \"THE CLASSIFICATION PERFORMANCE OF RDA\" \n",
            "  Tech. Rep. no. 92-01, (1992), Dept. of Computer Science and Dept. of \n",
            "  Mathematics and Statistics, James Cook University of North Queensland. \n",
            "  (Also submitted to Journal of Chemometrics).\n",
            "\n"
          ],
          "name": "stdout"
        }
      ]
    },
    {
      "cell_type": "code",
      "metadata": {
        "id": "kDlyRhSRZH1s",
        "colab_type": "code",
        "colab": {}
      },
      "source": [
        "import numpy as np\n",
        "from sklearn.model_selection import train_test_split\n",
        "from sklearn import preprocessing\n",
        "## 데이터 전처리\n",
        "\n",
        "wine_df = load_wine()\n",
        "Data, target = wine_df.data, wine_df.target\n",
        "\n",
        "Data = preprocessing.MinMaxScaler().fit_transform(Data)\n",
        "\n",
        "\n",
        "D_train, D_test, t_train, t_test = train_test_split(Data, target, test_size = 0.3)"
      ],
      "execution_count": 0,
      "outputs": []
    },
    {
      "cell_type": "code",
      "metadata": {
        "id": "PcKf24Z5ZysH",
        "colab_type": "code",
        "colab": {}
      },
      "source": [
        "from sklearn.neighbors import KNeighborsClassifier\n",
        "from sklearn.model_selection import RepeatedStratifiedKFold, GridSearchCV\n",
        "## Hyper - parameter 찾기 위한 cv_method 정의\n",
        "\n",
        "cv_method = RepeatedStratifiedKFold(n_splits=5, \n",
        "                                    n_repeats=3)"
      ],
      "execution_count": 0,
      "outputs": []
    },
    {
      "cell_type": "code",
      "metadata": {
        "id": "ARsg_augZ5UQ",
        "colab_type": "code",
        "colab": {}
      },
      "source": [
        "model_KNN = KNeighborsClassifier()\n",
        "params_KNN = {'n_neighbors': [1, 2, 3, 4, 5, 6, 7], \n",
        "              'p': [1, 2, 5]}\n",
        "## KNN에 optimal parameter 찾기\n",
        "gs_KNN = GridSearchCV(estimator=model_KNN, \n",
        "                      param_grid=params_KNN, \n",
        "                      cv=cv_method,\n",
        "                      verbose=10, \n",
        "                      scoring='accuracy',\n",
        "                      return_train_score=True)\n"
      ],
      "execution_count": 0,
      "outputs": []
    },
    {
      "cell_type": "code",
      "metadata": {
        "id": "8WkgokrMZ-Lo",
        "colab_type": "code",
        "outputId": "93947714-8113-464d-d4a6-6d24dc607e6e",
        "colab": {
          "base_uri": "https://localhost:8080/",
          "height": 1000
        }
      },
      "source": [
        "gs_KNN.fit(D_train, t_train);\n",
        "## 찾은 optimal parameter를 training data에 적용"
      ],
      "execution_count": 60,
      "outputs": [
        {
          "output_type": "stream",
          "text": [
            "Fitting 15 folds for each of 21 candidates, totalling 315 fits\n",
            "[CV] n_neighbors=1, p=1 ..............................................\n",
            "[CV]  n_neighbors=1, p=1, score=(train=1.000, test=0.960), total=   0.0s\n",
            "[CV] n_neighbors=1, p=1 ..............................................\n",
            "[CV]  n_neighbors=1, p=1, score=(train=1.000, test=1.000), total=   0.0s\n",
            "[CV] n_neighbors=1, p=1 ..............................................\n",
            "[CV]  n_neighbors=1, p=1, score=(train=1.000, test=1.000), total=   0.0s\n",
            "[CV] n_neighbors=1, p=1 ..............................................\n",
            "[CV]  n_neighbors=1, p=1, score=(train=1.000, test=0.960), total=   0.0s\n",
            "[CV] n_neighbors=1, p=1 ..............................................\n",
            "[CV]  n_neighbors=1, p=1, score=(train=1.000, test=0.958), total=   0.0s\n",
            "[CV] n_neighbors=1, p=1 ..............................................\n",
            "[CV]  n_neighbors=1, p=1, score=(train=1.000, test=1.000), total=   0.0s\n",
            "[CV] n_neighbors=1, p=1 ..............................................\n",
            "[CV]  n_neighbors=1, p=1, score=(train=1.000, test=1.000), total=   0.0s\n",
            "[CV] n_neighbors=1, p=1 ..............................................\n",
            "[CV]  n_neighbors=1, p=1, score=(train=1.000, test=0.920), total=   0.0s\n",
            "[CV] n_neighbors=1, p=1 ..............................................\n",
            "[CV]  n_neighbors=1, p=1, score=(train=1.000, test=1.000), total=   0.0s\n",
            "[CV] n_neighbors=1, p=1 ..............................................\n",
            "[CV]  n_neighbors=1, p=1, score=(train=1.000, test=0.917), total=   0.0s\n",
            "[CV] n_neighbors=1, p=1 ..............................................\n",
            "[CV]  n_neighbors=1, p=1, score=(train=1.000, test=0.960), total=   0.0s\n",
            "[CV] n_neighbors=1, p=1 ..............................................\n",
            "[CV]  n_neighbors=1, p=1, score=(train=1.000, test=0.960), total=   0.0s\n",
            "[CV] n_neighbors=1, p=1 ..............................................\n",
            "[CV]  n_neighbors=1, p=1, score=(train=1.000, test=1.000), total=   0.0s\n",
            "[CV] n_neighbors=1, p=1 ..............................................\n",
            "[CV]  n_neighbors=1, p=1, score=(train=1.000, test=0.960), total=   0.0s\n",
            "[CV] n_neighbors=1, p=1 ..............................................\n",
            "[CV]  n_neighbors=1, p=1, score=(train=1.000, test=1.000), total=   0.0s\n",
            "[CV] n_neighbors=1, p=2 ..............................................\n",
            "[CV]  n_neighbors=1, p=2, score=(train=1.000, test=0.960), total=   0.0s\n",
            "[CV] n_neighbors=1, p=2 ..............................................\n",
            "[CV]  n_neighbors=1, p=2, score=(train=1.000, test=1.000), total=   0.0s\n",
            "[CV] n_neighbors=1, p=2 ..............................................\n",
            "[CV]  n_neighbors=1, p=2, score=(train=1.000, test=1.000), total=   0.0s\n",
            "[CV] n_neighbors=1, p=2 ..............................................\n",
            "[CV]  n_neighbors=1, p=2, score=(train=1.000, test=0.960), total=   0.0s\n",
            "[CV] n_neighbors=1, p=2 ..............................................\n",
            "[CV]  n_neighbors=1, p=2, score=(train=1.000, test=0.958), total=   0.0s\n",
            "[CV] n_neighbors=1, p=2 ..............................................\n",
            "[CV]  n_neighbors=1, p=2, score=(train=1.000, test=1.000), total=   0.0s\n",
            "[CV] n_neighbors=1, p=2 ..............................................\n",
            "[CV]  n_neighbors=1, p=2, score=(train=1.000, test=1.000), total=   0.0s\n",
            "[CV] n_neighbors=1, p=2 ..............................................\n",
            "[CV]  n_neighbors=1, p=2, score=(train=1.000, test=0.920), total=   0.0s\n",
            "[CV] n_neighbors=1, p=2 ..............................................\n",
            "[CV]  n_neighbors=1, p=2, score=(train=1.000, test=1.000), total=   0.0s\n",
            "[CV] n_neighbors=1, p=2 ..............................................\n",
            "[CV]  n_neighbors=1, p=2, score=(train=1.000, test=0.917), total=   0.0s\n",
            "[CV] n_neighbors=1, p=2 ..............................................\n",
            "[CV]  n_neighbors=1, p=2, score=(train=1.000, test=0.960), total=   0.0s\n",
            "[CV] n_neighbors=1, p=2 ..............................................\n",
            "[CV]  n_neighbors=1, p=2, score=(train=1.000, test=0.960), total=   0.0s\n",
            "[CV] n_neighbors=1, p=2 ..............................................\n",
            "[CV]  n_neighbors=1, p=2, score=(train=1.000, test=1.000), total=   0.0s\n",
            "[CV] n_neighbors=1, p=2 ..............................................\n",
            "[CV]  n_neighbors=1, p=2, score=(train=1.000, test=1.000), total=   0.0s\n",
            "[CV] n_neighbors=1, p=2 ..............................................\n",
            "[CV]  n_neighbors=1, p=2, score=(train=1.000, test=0.958), total=   0.0s\n",
            "[CV] n_neighbors=1, p=5 ..............................................\n"
          ],
          "name": "stdout"
        },
        {
          "output_type": "stream",
          "text": [
            "[Parallel(n_jobs=1)]: Using backend SequentialBackend with 1 concurrent workers.\n",
            "[Parallel(n_jobs=1)]: Done   1 out of   1 | elapsed:    0.0s remaining:    0.0s\n",
            "[Parallel(n_jobs=1)]: Done   2 out of   2 | elapsed:    0.0s remaining:    0.0s\n",
            "[Parallel(n_jobs=1)]: Done   3 out of   3 | elapsed:    0.0s remaining:    0.0s\n",
            "[Parallel(n_jobs=1)]: Done   4 out of   4 | elapsed:    0.0s remaining:    0.0s\n",
            "[Parallel(n_jobs=1)]: Done   5 out of   5 | elapsed:    0.0s remaining:    0.0s\n",
            "[Parallel(n_jobs=1)]: Done   6 out of   6 | elapsed:    0.0s remaining:    0.0s\n",
            "[Parallel(n_jobs=1)]: Done   7 out of   7 | elapsed:    0.1s remaining:    0.0s\n",
            "[Parallel(n_jobs=1)]: Done   8 out of   8 | elapsed:    0.1s remaining:    0.0s\n",
            "[Parallel(n_jobs=1)]: Done   9 out of   9 | elapsed:    0.1s remaining:    0.0s\n"
          ],
          "name": "stderr"
        },
        {
          "output_type": "stream",
          "text": [
            "[CV]  n_neighbors=1, p=5, score=(train=1.000, test=1.000), total=   0.0s\n",
            "[CV] n_neighbors=1, p=5 ..............................................\n",
            "[CV]  n_neighbors=1, p=5, score=(train=1.000, test=1.000), total=   0.0s\n",
            "[CV] n_neighbors=1, p=5 ..............................................\n",
            "[CV]  n_neighbors=1, p=5, score=(train=1.000, test=1.000), total=   0.0s\n",
            "[CV] n_neighbors=1, p=5 ..............................................\n",
            "[CV]  n_neighbors=1, p=5, score=(train=1.000, test=0.960), total=   0.0s\n",
            "[CV] n_neighbors=1, p=5 ..............................................\n",
            "[CV]  n_neighbors=1, p=5, score=(train=1.000, test=0.917), total=   0.0s\n",
            "[CV] n_neighbors=1, p=5 ..............................................\n",
            "[CV]  n_neighbors=1, p=5, score=(train=1.000, test=1.000), total=   0.0s\n",
            "[CV] n_neighbors=1, p=5 ..............................................\n",
            "[CV]  n_neighbors=1, p=5, score=(train=1.000, test=1.000), total=   0.0s\n",
            "[CV] n_neighbors=1, p=5 ..............................................\n",
            "[CV]  n_neighbors=1, p=5, score=(train=1.000, test=0.920), total=   0.0s\n",
            "[CV] n_neighbors=1, p=5 ..............................................\n",
            "[CV]  n_neighbors=1, p=5, score=(train=1.000, test=1.000), total=   0.0s\n",
            "[CV] n_neighbors=1, p=5 ..............................................\n",
            "[CV]  n_neighbors=1, p=5, score=(train=1.000, test=0.875), total=   0.0s\n",
            "[CV] n_neighbors=1, p=5 ..............................................\n",
            "[CV]  n_neighbors=1, p=5, score=(train=1.000, test=0.920), total=   0.0s\n",
            "[CV] n_neighbors=1, p=5 ..............................................\n",
            "[CV]  n_neighbors=1, p=5, score=(train=1.000, test=0.960), total=   0.0s\n",
            "[CV] n_neighbors=1, p=5 ..............................................\n",
            "[CV]  n_neighbors=1, p=5, score=(train=1.000, test=1.000), total=   0.0s\n",
            "[CV] n_neighbors=1, p=5 ..............................................\n",
            "[CV]  n_neighbors=1, p=5, score=(train=1.000, test=1.000), total=   0.0s\n",
            "[CV] n_neighbors=1, p=5 ..............................................\n",
            "[CV]  n_neighbors=1, p=5, score=(train=1.000, test=0.958), total=   0.0s\n",
            "[CV] n_neighbors=2, p=1 ..............................................\n",
            "[CV]  n_neighbors=2, p=1, score=(train=0.990, test=0.960), total=   0.0s\n",
            "[CV] n_neighbors=2, p=1 ..............................................\n",
            "[CV]  n_neighbors=2, p=1, score=(train=0.990, test=0.960), total=   0.0s\n",
            "[CV] n_neighbors=2, p=1 ..............................................\n",
            "[CV]  n_neighbors=2, p=1, score=(train=0.980, test=0.960), total=   0.0s\n",
            "[CV] n_neighbors=2, p=1 ..............................................\n",
            "[CV]  n_neighbors=2, p=1, score=(train=0.980, test=0.960), total=   0.0s\n",
            "[CV] n_neighbors=2, p=1 ..............................................\n",
            "[CV]  n_neighbors=2, p=1, score=(train=0.990, test=1.000), total=   0.0s\n",
            "[CV] n_neighbors=2, p=1 ..............................................\n",
            "[CV]  n_neighbors=2, p=1, score=(train=0.980, test=0.960), total=   0.0s\n",
            "[CV] n_neighbors=2, p=1 ..............................................\n",
            "[CV]  n_neighbors=2, p=1, score=(train=0.970, test=1.000), total=   0.0s\n",
            "[CV] n_neighbors=2, p=1 ..............................................\n",
            "[CV]  n_neighbors=2, p=1, score=(train=0.990, test=0.920), total=   0.0s\n",
            "[CV] n_neighbors=2, p=1 ..............................................\n",
            "[CV]  n_neighbors=2, p=1, score=(train=0.980, test=1.000), total=   0.0s\n",
            "[CV] n_neighbors=2, p=1 ..............................................\n",
            "[CV]  n_neighbors=2, p=1, score=(train=1.000, test=0.917), total=   0.0s\n",
            "[CV] n_neighbors=2, p=1 ..............................................\n",
            "[CV]  n_neighbors=2, p=1, score=(train=0.990, test=0.920), total=   0.0s\n",
            "[CV] n_neighbors=2, p=1 ..............................................\n",
            "[CV]  n_neighbors=2, p=1, score=(train=0.980, test=0.960), total=   0.0s\n",
            "[CV] n_neighbors=2, p=1 ..............................................\n",
            "[CV]  n_neighbors=2, p=1, score=(train=0.980, test=1.000), total=   0.0s\n",
            "[CV] n_neighbors=2, p=1 ..............................................\n",
            "[CV]  n_neighbors=2, p=1, score=(train=0.990, test=0.920), total=   0.0s\n",
            "[CV] n_neighbors=2, p=1 ..............................................\n",
            "[CV]  n_neighbors=2, p=1, score=(train=0.980, test=1.000), total=   0.0s\n",
            "[CV] n_neighbors=2, p=2 ..............................................\n",
            "[CV]  n_neighbors=2, p=2, score=(train=0.990, test=0.960), total=   0.0s\n",
            "[CV] n_neighbors=2, p=2 ..............................................\n",
            "[CV]  n_neighbors=2, p=2, score=(train=0.990, test=0.960), total=   0.0s\n",
            "[CV] n_neighbors=2, p=2 ..............................................\n",
            "[CV]  n_neighbors=2, p=2, score=(train=0.990, test=0.960), total=   0.0s\n",
            "[CV] n_neighbors=2, p=2 ..............................................\n",
            "[CV]  n_neighbors=2, p=2, score=(train=0.990, test=0.920), total=   0.0s\n",
            "[CV] n_neighbors=2, p=2 ..............................................\n",
            "[CV]  n_neighbors=2, p=2, score=(train=1.000, test=0.958), total=   0.0s\n",
            "[CV] n_neighbors=2, p=2 ..............................................\n",
            "[CV]  n_neighbors=2, p=2, score=(train=0.990, test=0.960), total=   0.0s\n",
            "[CV] n_neighbors=2, p=2 ..............................................\n",
            "[CV]  n_neighbors=2, p=2, score=(train=0.990, test=0.960), total=   0.0s\n",
            "[CV] n_neighbors=2, p=2 ..............................................\n",
            "[CV]  n_neighbors=2, p=2, score=(train=0.990, test=0.920), total=   0.0s\n",
            "[CV] n_neighbors=2, p=2 ..............................................\n",
            "[CV]  n_neighbors=2, p=2, score=(train=0.990, test=1.000), total=   0.0s\n",
            "[CV] n_neighbors=2, p=2 ..............................................\n",
            "[CV]  n_neighbors=2, p=2, score=(train=1.000, test=0.792), total=   0.0s\n",
            "[CV] n_neighbors=2, p=2 ..............................................\n",
            "[CV]  n_neighbors=2, p=2, score=(train=0.990, test=0.920), total=   0.0s\n",
            "[CV] n_neighbors=2, p=2 ..............................................\n",
            "[CV]  n_neighbors=2, p=2, score=(train=0.990, test=0.960), total=   0.0s\n",
            "[CV] n_neighbors=2, p=2 ..............................................\n",
            "[CV]  n_neighbors=2, p=2, score=(train=0.990, test=0.960), total=   0.0s\n",
            "[CV] n_neighbors=2, p=2 ..............................................\n",
            "[CV]  n_neighbors=2, p=2, score=(train=0.990, test=0.960), total=   0.0s\n",
            "[CV] n_neighbors=2, p=2 ..............................................\n",
            "[CV]  n_neighbors=2, p=2, score=(train=0.990, test=0.958), total=   0.0s\n",
            "[CV] n_neighbors=2, p=5 ..............................................\n",
            "[CV]  n_neighbors=2, p=5, score=(train=0.990, test=0.960), total=   0.0s\n",
            "[CV] n_neighbors=2, p=5 ..............................................\n",
            "[CV]  n_neighbors=2, p=5, score=(train=1.000, test=0.920), total=   0.0s\n",
            "[CV] n_neighbors=2, p=5 ..............................................\n",
            "[CV]  n_neighbors=2, p=5, score=(train=0.990, test=0.960), total=   0.0s\n",
            "[CV] n_neighbors=2, p=5 ..............................................\n",
            "[CV]  n_neighbors=2, p=5, score=(train=0.990, test=0.920), total=   0.0s\n",
            "[CV] n_neighbors=2, p=5 ..............................................\n",
            "[CV]  n_neighbors=2, p=5, score=(train=0.980, test=0.958), total=   0.0s\n",
            "[CV] n_neighbors=2, p=5 ..............................................\n",
            "[CV]  n_neighbors=2, p=5, score=(train=0.990, test=0.960), total=   0.0s\n",
            "[CV] n_neighbors=2, p=5 ..............................................\n",
            "[CV]  n_neighbors=2, p=5, score=(train=0.990, test=0.960), total=   0.0s\n",
            "[CV] n_neighbors=2, p=5 ..............................................\n",
            "[CV]  n_neighbors=2, p=5, score=(train=0.990, test=0.880), total=   0.0s\n",
            "[CV] n_neighbors=2, p=5 ..............................................\n",
            "[CV]  n_neighbors=2, p=5, score=(train=0.990, test=1.000), total=   0.0s\n",
            "[CV] n_neighbors=2, p=5 ..............................................\n",
            "[CV]  n_neighbors=2, p=5, score=(train=1.000, test=0.833), total=   0.0s\n",
            "[CV] n_neighbors=2, p=5 ..............................................\n",
            "[CV]  n_neighbors=2, p=5, score=(train=0.980, test=0.920), total=   0.0s\n",
            "[CV] n_neighbors=2, p=5 ..............................................\n",
            "[CV]  n_neighbors=2, p=5, score=(train=0.990, test=0.920), total=   0.0s\n",
            "[CV] n_neighbors=2, p=5 ..............................................\n",
            "[CV]  n_neighbors=2, p=5, score=(train=1.000, test=0.960), total=   0.0s\n",
            "[CV] n_neighbors=2, p=5 ..............................................\n",
            "[CV]  n_neighbors=2, p=5, score=(train=0.990, test=0.920), total=   0.0s\n",
            "[CV] n_neighbors=2, p=5 ..............................................\n",
            "[CV]  n_neighbors=2, p=5, score=(train=1.000, test=0.917), total=   0.0s\n",
            "[CV] n_neighbors=3, p=1 ..............................................\n",
            "[CV]  n_neighbors=3, p=1, score=(train=0.980, test=1.000), total=   0.0s\n",
            "[CV] n_neighbors=3, p=1 ..............................................\n",
            "[CV]  n_neighbors=3, p=1, score=(train=0.980, test=1.000), total=   0.0s\n",
            "[CV] n_neighbors=3, p=1 ..............................................\n",
            "[CV]  n_neighbors=3, p=1, score=(train=1.000, test=1.000), total=   0.0s\n",
            "[CV] n_neighbors=3, p=1 ..............................................\n",
            "[CV]  n_neighbors=3, p=1, score=(train=0.990, test=0.960), total=   0.0s\n",
            "[CV] n_neighbors=3, p=1 ..............................................\n",
            "[CV]  n_neighbors=3, p=1, score=(train=0.990, test=1.000), total=   0.0s\n",
            "[CV] n_neighbors=3, p=1 ..............................................\n",
            "[CV]  n_neighbors=3, p=1, score=(train=0.990, test=1.000), total=   0.0s\n",
            "[CV] n_neighbors=3, p=1 ..............................................\n",
            "[CV]  n_neighbors=3, p=1, score=(train=0.980, test=1.000), total=   0.0s\n",
            "[CV] n_neighbors=3, p=1 ..............................................\n",
            "[CV]  n_neighbors=3, p=1, score=(train=1.000, test=0.920), total=   0.0s\n",
            "[CV] n_neighbors=3, p=1 ..............................................\n",
            "[CV]  n_neighbors=3, p=1, score=(train=0.990, test=1.000), total=   0.0s\n",
            "[CV] n_neighbors=3, p=1 ..............................................\n",
            "[CV]  n_neighbors=3, p=1, score=(train=0.980, test=0.958), total=   0.0s\n",
            "[CV] n_neighbors=3, p=1 ..............................................\n",
            "[CV]  n_neighbors=3, p=1, score=(train=0.980, test=0.960), total=   0.0s\n",
            "[CV] n_neighbors=3, p=1 ..............................................\n",
            "[CV]  n_neighbors=3, p=1, score=(train=0.990, test=0.960), total=   0.0s\n",
            "[CV] n_neighbors=3, p=1 ..............................................\n",
            "[CV]  n_neighbors=3, p=1, score=(train=0.980, test=1.000), total=   0.0s\n",
            "[CV] n_neighbors=3, p=1 ..............................................\n",
            "[CV]  n_neighbors=3, p=1, score=(train=0.990, test=1.000), total=   0.0s\n",
            "[CV] n_neighbors=3, p=1 ..............................................\n",
            "[CV]  n_neighbors=3, p=1, score=(train=0.980, test=1.000), total=   0.0s\n",
            "[CV] n_neighbors=3, p=2 ..............................................\n",
            "[CV]  n_neighbors=3, p=2, score=(train=0.970, test=1.000), total=   0.0s\n",
            "[CV] n_neighbors=3, p=2 ..............................................\n",
            "[CV]  n_neighbors=3, p=2, score=(train=0.980, test=1.000), total=   0.0s\n",
            "[CV] n_neighbors=3, p=2 ..............................................\n",
            "[CV]  n_neighbors=3, p=2, score=(train=0.980, test=0.960), total=   0.0s\n",
            "[CV] n_neighbors=3, p=2 ..............................................\n",
            "[CV]  n_neighbors=3, p=2, score=(train=0.990, test=0.960), total=   0.0s\n",
            "[CV] n_neighbors=3, p=2 ..............................................\n",
            "[CV]  n_neighbors=3, p=2, score=(train=0.990, test=0.958), total=   0.0s\n",
            "[CV] n_neighbors=3, p=2 ..............................................\n",
            "[CV]  n_neighbors=3, p=2, score=(train=0.990, test=1.000), total=   0.0s\n",
            "[CV] n_neighbors=3, p=2 ..............................................\n",
            "[CV]  n_neighbors=3, p=2, score=(train=0.980, test=1.000), total=   0.0s\n",
            "[CV] n_neighbors=3, p=2 ..............................................\n",
            "[CV]  n_neighbors=3, p=2, score=(train=0.990, test=0.920), total=   0.0s\n",
            "[CV] n_neighbors=3, p=2 ..............................................\n",
            "[CV]  n_neighbors=3, p=2, score=(train=0.970, test=1.000), total=   0.0s\n",
            "[CV] n_neighbors=3, p=2 ..............................................\n",
            "[CV]  n_neighbors=3, p=2, score=(train=0.980, test=0.958), total=   0.0s\n",
            "[CV] n_neighbors=3, p=2 ..............................................\n",
            "[CV]  n_neighbors=3, p=2, score=(train=0.990, test=0.960), total=   0.0s\n",
            "[CV] n_neighbors=3, p=2 ..............................................\n",
            "[CV]  n_neighbors=3, p=2, score=(train=0.990, test=0.960), total=   0.0s\n",
            "[CV] n_neighbors=3, p=2 ..............................................\n",
            "[CV]  n_neighbors=3, p=2, score=(train=0.980, test=1.000), total=   0.0s\n",
            "[CV] n_neighbors=3, p=2 ..............................................\n",
            "[CV]  n_neighbors=3, p=2, score=(train=0.980, test=0.960), total=   0.0s\n",
            "[CV] n_neighbors=3, p=2 ..............................................\n",
            "[CV]  n_neighbors=3, p=2, score=(train=0.980, test=0.958), total=   0.0s\n",
            "[CV] n_neighbors=3, p=5 ..............................................\n",
            "[CV]  n_neighbors=3, p=5, score=(train=0.960, test=1.000), total=   0.0s\n",
            "[CV] n_neighbors=3, p=5 ..............................................\n",
            "[CV]  n_neighbors=3, p=5, score=(train=0.970, test=0.960), total=   0.0s\n",
            "[CV] n_neighbors=3, p=5 ..............................................\n",
            "[CV]  n_neighbors=3, p=5, score=(train=0.980, test=0.960), total=   0.0s\n",
            "[CV] n_neighbors=3, p=5 ..............................................\n",
            "[CV]  n_neighbors=3, p=5, score=(train=0.990, test=0.920), total=   0.0s\n",
            "[CV] n_neighbors=3, p=5 ..............................................\n",
            "[CV]  n_neighbors=3, p=5, score=(train=0.970, test=0.958), total=   0.0s\n",
            "[CV] n_neighbors=3, p=5 ..............................................\n",
            "[CV]  n_neighbors=3, p=5, score=(train=0.980, test=0.960), total=   0.0s\n",
            "[CV] n_neighbors=3, p=5 ..............................................\n",
            "[CV]  n_neighbors=3, p=5, score=(train=0.980, test=1.000), total=   0.0s\n",
            "[CV] n_neighbors=3, p=5 ..............................................\n",
            "[CV]  n_neighbors=3, p=5, score=(train=0.980, test=0.920), total=   0.0s\n",
            "[CV] n_neighbors=3, p=5 ..............................................\n",
            "[CV]  n_neighbors=3, p=5, score=(train=0.960, test=1.000), total=   0.0s\n",
            "[CV] n_neighbors=3, p=5 ..............................................\n",
            "[CV]  n_neighbors=3, p=5, score=(train=0.980, test=0.917), total=   0.0s\n",
            "[CV] n_neighbors=3, p=5 ..............................................\n",
            "[CV]  n_neighbors=3, p=5, score=(train=0.990, test=0.960), total=   0.0s\n",
            "[CV] n_neighbors=3, p=5 ..............................................\n",
            "[CV]  n_neighbors=3, p=5, score=(train=0.970, test=0.960), total=   0.0s\n",
            "[CV] n_neighbors=3, p=5 ..............................................\n",
            "[CV]  n_neighbors=3, p=5, score=(train=0.980, test=0.960), total=   0.0s\n",
            "[CV] n_neighbors=3, p=5 ..............................................\n",
            "[CV]  n_neighbors=3, p=5, score=(train=0.970, test=0.920), total=   0.0s\n",
            "[CV] n_neighbors=3, p=5 ..............................................\n",
            "[CV]  n_neighbors=3, p=5, score=(train=0.980, test=0.958), total=   0.0s\n",
            "[CV] n_neighbors=4, p=1 ..............................................\n",
            "[CV]  n_neighbors=4, p=1, score=(train=0.970, test=0.960), total=   0.0s\n",
            "[CV] n_neighbors=4, p=1 ..............................................\n",
            "[CV]  n_neighbors=4, p=1, score=(train=1.000, test=0.920), total=   0.0s\n",
            "[CV] n_neighbors=4, p=1 ..............................................\n",
            "[CV]  n_neighbors=4, p=1, score=(train=1.000, test=1.000), total=   0.0s\n",
            "[CV] n_neighbors=4, p=1 ..............................................\n",
            "[CV]  n_neighbors=4, p=1, score=(train=1.000, test=0.960), total=   0.0s\n",
            "[CV] n_neighbors=4, p=1 ..............................................\n",
            "[CV]  n_neighbors=4, p=1, score=(train=0.980, test=1.000), total=   0.0s\n",
            "[CV] n_neighbors=4, p=1 ..............................................\n",
            "[CV]  n_neighbors=4, p=1, score=(train=1.000, test=1.000), total=   0.0s\n",
            "[CV] n_neighbors=4, p=1 ..............................................\n",
            "[CV]  n_neighbors=4, p=1, score=(train=0.970, test=1.000), total=   0.0s\n",
            "[CV] n_neighbors=4, p=1 ..............................................\n",
            "[CV]  n_neighbors=4, p=1, score=(train=0.990, test=0.920), total=   0.0s\n",
            "[CV] n_neighbors=4, p=1 ..............................................\n",
            "[CV]  n_neighbors=4, p=1, score=(train=0.990, test=1.000), total=   0.0s\n",
            "[CV] n_neighbors=4, p=1 ..............................................\n",
            "[CV]  n_neighbors=4, p=1, score=(train=0.990, test=0.875), total=   0.0s\n",
            "[CV] n_neighbors=4, p=1 ..............................................\n",
            "[CV]  n_neighbors=4, p=1, score=(train=0.990, test=0.960), total=   0.0s\n",
            "[CV] n_neighbors=4, p=1 ..............................................\n",
            "[CV]  n_neighbors=4, p=1, score=(train=0.980, test=1.000), total=   0.0s\n",
            "[CV] n_neighbors=4, p=1 ..............................................\n",
            "[CV]  n_neighbors=4, p=1, score=(train=0.990, test=1.000), total=   0.0s\n",
            "[CV] n_neighbors=4, p=1 ..............................................\n",
            "[CV]  n_neighbors=4, p=1, score=(train=0.990, test=0.920), total=   0.0s\n",
            "[CV] n_neighbors=4, p=1 ..............................................\n",
            "[CV]  n_neighbors=4, p=1, score=(train=1.000, test=1.000), total=   0.0s\n",
            "[CV] n_neighbors=4, p=2 ..............................................\n",
            "[CV]  n_neighbors=4, p=2, score=(train=0.960, test=0.960), total=   0.0s\n",
            "[CV] n_neighbors=4, p=2 ..............................................\n",
            "[CV]  n_neighbors=4, p=2, score=(train=0.980, test=0.920), total=   0.0s\n",
            "[CV] n_neighbors=4, p=2 ..............................................\n",
            "[CV]  n_neighbors=4, p=2, score=(train=0.970, test=0.960), total=   0.0s\n",
            "[CV] n_neighbors=4, p=2 ..............................................\n",
            "[CV]  n_neighbors=4, p=2, score=(train=0.980, test=0.960), total=   0.0s\n",
            "[CV] n_neighbors=4, p=2 ..............................................\n",
            "[CV]  n_neighbors=4, p=2, score=(train=0.970, test=0.958), total=   0.0s\n",
            "[CV] n_neighbors=4, p=2 ..............................................\n",
            "[CV]  n_neighbors=4, p=2, score=(train=0.980, test=1.000), total=   0.0s\n",
            "[CV] n_neighbors=4, p=2 ..............................................\n",
            "[CV]  n_neighbors=4, p=2, score=(train=0.970, test=1.000), total=   0.0s\n",
            "[CV] n_neighbors=4, p=2 ..............................................\n",
            "[CV]  n_neighbors=4, p=2, score=(train=0.990, test=0.920), total=   0.0s\n",
            "[CV] n_neighbors=4, p=2 ..............................................\n",
            "[CV]  n_neighbors=4, p=2, score=(train=0.970, test=1.000), total=   0.0s\n",
            "[CV] n_neighbors=4, p=2 ..............................................\n",
            "[CV]  n_neighbors=4, p=2, score=(train=0.980, test=0.875), total=   0.0s\n",
            "[CV] n_neighbors=4, p=2 ..............................................\n",
            "[CV]  n_neighbors=4, p=2, score=(train=0.980, test=0.960), total=   0.0s\n",
            "[CV] n_neighbors=4, p=2 ..............................................\n",
            "[CV]  n_neighbors=4, p=2, score=(train=0.980, test=0.960), total=   0.0s\n",
            "[CV] n_neighbors=4, p=2 ..............................................\n",
            "[CV]  n_neighbors=4, p=2, score=(train=0.970, test=1.000), total=   0.0s\n",
            "[CV] n_neighbors=4, p=2 ..............................................\n",
            "[CV]  n_neighbors=4, p=2, score=(train=0.970, test=0.920), total=   0.0s\n",
            "[CV] n_neighbors=4, p=2 ..............................................\n",
            "[CV]  n_neighbors=4, p=2, score=(train=0.980, test=0.958), total=   0.0s\n",
            "[CV] n_neighbors=4, p=5 ..............................................\n",
            "[CV]  n_neighbors=4, p=5, score=(train=0.960, test=0.960), total=   0.0s\n",
            "[CV] n_neighbors=4, p=5 ..............................................\n",
            "[CV]  n_neighbors=4, p=5, score=(train=0.980, test=0.920), total=   0.0s\n",
            "[CV] n_neighbors=4, p=5 ..............................................\n",
            "[CV]  n_neighbors=4, p=5, score=(train=0.960, test=0.960), total=   0.0s\n",
            "[CV] n_neighbors=4, p=5 ..............................................\n",
            "[CV]  n_neighbors=4, p=5, score=(train=0.970, test=0.920), total=   0.0s\n",
            "[CV] n_neighbors=4, p=5 ..............................................\n",
            "[CV]  n_neighbors=4, p=5, score=(train=0.980, test=0.958), total=   0.0s\n",
            "[CV] n_neighbors=4, p=5 ..............................................\n",
            "[CV]  n_neighbors=4, p=5, score=(train=0.970, test=0.960), total=   0.0s\n",
            "[CV] n_neighbors=4, p=5 ..............................................\n",
            "[CV]  n_neighbors=4, p=5, score=(train=0.970, test=1.000), total=   0.0s\n",
            "[CV] n_neighbors=4, p=5 ..............................................\n",
            "[CV]  n_neighbors=4, p=5, score=(train=0.980, test=0.920), total=   0.0s\n",
            "[CV] n_neighbors=4, p=5 ..............................................\n",
            "[CV]  n_neighbors=4, p=5, score=(train=0.949, test=1.000), total=   0.0s\n",
            "[CV] n_neighbors=4, p=5 ..............................................\n",
            "[CV]  n_neighbors=4, p=5, score=(train=0.980, test=0.875), total=   0.0s\n",
            "[CV] n_neighbors=4, p=5 ..............................................\n",
            "[CV]  n_neighbors=4, p=5, score=(train=0.960, test=1.000), total=   0.0s\n",
            "[CV] n_neighbors=4, p=5 ..............................................\n",
            "[CV]  n_neighbors=4, p=5, score=(train=0.949, test=0.960), total=   0.0s\n",
            "[CV] n_neighbors=4, p=5 ..............................................\n",
            "[CV]  n_neighbors=4, p=5, score=(train=0.960, test=1.000), total=   0.0s\n",
            "[CV] n_neighbors=4, p=5 ..............................................\n",
            "[CV]  n_neighbors=4, p=5, score=(train=0.980, test=0.920), total=   0.0s\n",
            "[CV] n_neighbors=4, p=5 ..............................................\n",
            "[CV]  n_neighbors=4, p=5, score=(train=0.970, test=0.958), total=   0.0s\n",
            "[CV] n_neighbors=5, p=1 ..............................................\n",
            "[CV]  n_neighbors=5, p=1, score=(train=0.980, test=0.960), total=   0.0s\n",
            "[CV] n_neighbors=5, p=1 ..............................................\n",
            "[CV]  n_neighbors=5, p=1, score=(train=0.990, test=0.920), total=   0.0s\n",
            "[CV] n_neighbors=5, p=1 ..............................................\n",
            "[CV]  n_neighbors=5, p=1, score=(train=0.990, test=1.000), total=   0.0s\n",
            "[CV] n_neighbors=5, p=1 ..............................................\n",
            "[CV]  n_neighbors=5, p=1, score=(train=1.000, test=0.960), total=   0.0s\n",
            "[CV] n_neighbors=5, p=1 ..............................................\n",
            "[CV]  n_neighbors=5, p=1, score=(train=0.980, test=0.958), total=   0.0s\n",
            "[CV] n_neighbors=5, p=1 ..............................................\n",
            "[CV]  n_neighbors=5, p=1, score=(train=0.990, test=1.000), total=   0.0s\n",
            "[CV] n_neighbors=5, p=1 ..............................................\n",
            "[CV]  n_neighbors=5, p=1, score=(train=0.980, test=1.000), total=   0.0s\n",
            "[CV] n_neighbors=5, p=1 ..............................................\n",
            "[CV]  n_neighbors=5, p=1, score=(train=0.990, test=0.920), total=   0.0s\n",
            "[CV] n_neighbors=5, p=1 ..............................................\n",
            "[CV]  n_neighbors=5, p=1, score=(train=1.000, test=1.000), total=   0.0s\n",
            "[CV] n_neighbors=5, p=1 ..............................................\n",
            "[CV]  n_neighbors=5, p=1, score=(train=0.990, test=0.917), total=   0.0s\n",
            "[CV] n_neighbors=5, p=1 ..............................................\n",
            "[CV]  n_neighbors=5, p=1, score=(train=0.990, test=0.960), total=   0.0s\n",
            "[CV] n_neighbors=5, p=1 ..............................................\n",
            "[CV]  n_neighbors=5, p=1, score=(train=0.990, test=0.960), total=   0.0s\n",
            "[CV] n_neighbors=5, p=1 ..............................................\n",
            "[CV]  n_neighbors=5, p=1, score=(train=0.980, test=1.000), total=   0.0s\n",
            "[CV] n_neighbors=5, p=1 ..............................................\n",
            "[CV]  n_neighbors=5, p=1, score=(train=0.990, test=0.960), total=   0.0s\n",
            "[CV] n_neighbors=5, p=1 ..............................................\n",
            "[CV]  n_neighbors=5, p=1, score=(train=1.000, test=1.000), total=   0.0s\n",
            "[CV] n_neighbors=5, p=2 ..............................................\n",
            "[CV]  n_neighbors=5, p=2, score=(train=0.960, test=0.960), total=   0.0s\n",
            "[CV] n_neighbors=5, p=2 ..............................................\n",
            "[CV]  n_neighbors=5, p=2, score=(train=0.990, test=0.920), total=   0.0s\n",
            "[CV] n_neighbors=5, p=2 ..............................................\n",
            "[CV]  n_neighbors=5, p=2, score=(train=0.980, test=1.000), total=   0.0s\n",
            "[CV] n_neighbors=5, p=2 ..............................................\n",
            "[CV]  n_neighbors=5, p=2, score=(train=0.990, test=0.960), total=   0.0s\n",
            "[CV] n_neighbors=5, p=2 ..............................................\n",
            "[CV]  n_neighbors=5, p=2, score=(train=0.980, test=0.958), total=   0.0s\n",
            "[CV] n_neighbors=5, p=2 ..............................................\n",
            "[CV]  n_neighbors=5, p=2, score=(train=0.980, test=1.000), total=   0.0s\n",
            "[CV] n_neighbors=5, p=2 ..............................................\n",
            "[CV]  n_neighbors=5, p=2, score=(train=0.970, test=1.000), total=   0.0s\n",
            "[CV] n_neighbors=5, p=2 ..............................................\n",
            "[CV]  n_neighbors=5, p=2, score=(train=0.990, test=0.920), total=   0.0s\n",
            "[CV] n_neighbors=5, p=2 ..............................................\n",
            "[CV]  n_neighbors=5, p=2, score=(train=0.970, test=1.000), total=   0.0s\n",
            "[CV] n_neighbors=5, p=2 ..............................................\n",
            "[CV]  n_neighbors=5, p=2, score=(train=0.980, test=0.917), total=   0.0s\n",
            "[CV] n_neighbors=5, p=2 ..............................................\n",
            "[CV]  n_neighbors=5, p=2, score=(train=0.980, test=0.960), total=   0.0s\n",
            "[CV] n_neighbors=5, p=2 ..............................................\n",
            "[CV]  n_neighbors=5, p=2, score=(train=0.980, test=0.960), total=   0.0s\n",
            "[CV] n_neighbors=5, p=2 ..............................................\n",
            "[CV]  n_neighbors=5, p=2, score=(train=0.990, test=1.000), total=   0.0s\n",
            "[CV] n_neighbors=5, p=2 ..............................................\n",
            "[CV]  n_neighbors=5, p=2, score=(train=0.970, test=0.920), total=   0.0s\n",
            "[CV] n_neighbors=5, p=2 ..............................................\n",
            "[CV]  n_neighbors=5, p=2, score=(train=0.990, test=0.958), total=   0.0s\n",
            "[CV] n_neighbors=5, p=5 ..............................................\n",
            "[CV]  n_neighbors=5, p=5, score=(train=0.970, test=1.000), total=   0.0s\n",
            "[CV] n_neighbors=5, p=5 ..............................................\n",
            "[CV]  n_neighbors=5, p=5, score=(train=0.990, test=0.960), total=   0.0s\n",
            "[CV] n_neighbors=5, p=5 ..............................................\n",
            "[CV]  n_neighbors=5, p=5, score=(train=0.960, test=0.960), total=   0.0s\n",
            "[CV] n_neighbors=5, p=5 ..............................................\n",
            "[CV]  n_neighbors=5, p=5, score=(train=0.980, test=0.920), total=   0.0s\n",
            "[CV] n_neighbors=5, p=5 ..............................................\n",
            "[CV]  n_neighbors=5, p=5, score=(train=0.980, test=0.958), total=   0.0s\n",
            "[CV] n_neighbors=5, p=5 ..............................................\n",
            "[CV]  n_neighbors=5, p=5, score=(train=0.990, test=1.000), total=   0.0s\n",
            "[CV] n_neighbors=5, p=5 ..............................................\n",
            "[CV]  n_neighbors=5, p=5, score=(train=0.970, test=1.000), total=   0.0s\n",
            "[CV] n_neighbors=5, p=5 ..............................................\n",
            "[CV]  n_neighbors=5, p=5, score=(train=0.980, test=0.920), total=   0.0s\n",
            "[CV] n_neighbors=5, p=5 ..............................................\n",
            "[CV]  n_neighbors=5, p=5, score=(train=0.939, test=1.000), total=   0.0s\n",
            "[CV] n_neighbors=5, p=5 ..............................................\n",
            "[CV]  n_neighbors=5, p=5, score=(train=0.980, test=0.917), total=   0.0s\n",
            "[CV] n_neighbors=5, p=5 ..............................................\n",
            "[CV]  n_neighbors=5, p=5, score=(train=0.980, test=1.000), total=   0.0s\n",
            "[CV] n_neighbors=5, p=5 ..............................................\n",
            "[CV]  n_neighbors=5, p=5, score=(train=0.980, test=0.960), total=   0.0s\n",
            "[CV] n_neighbors=5, p=5 ..............................................\n",
            "[CV]  n_neighbors=5, p=5, score=(train=0.990, test=1.000), total=   0.0s\n",
            "[CV] n_neighbors=5, p=5 ..............................................\n",
            "[CV]  n_neighbors=5, p=5, score=(train=0.970, test=0.920), total=   0.0s\n",
            "[CV] n_neighbors=5, p=5 ..............................................\n",
            "[CV]  n_neighbors=5, p=5, score=(train=0.980, test=0.958), total=   0.0s\n",
            "[CV] n_neighbors=6, p=1 ..............................................\n",
            "[CV]  n_neighbors=6, p=1, score=(train=0.980, test=0.960), total=   0.0s\n",
            "[CV] n_neighbors=6, p=1 ..............................................\n",
            "[CV]  n_neighbors=6, p=1, score=(train=0.990, test=0.920), total=   0.0s\n",
            "[CV] n_neighbors=6, p=1 ..............................................\n",
            "[CV]  n_neighbors=6, p=1, score=(train=0.970, test=1.000), total=   0.0s\n",
            "[CV] n_neighbors=6, p=1 ..............................................\n",
            "[CV]  n_neighbors=6, p=1, score=(train=0.990, test=0.960), total=   0.0s\n",
            "[CV] n_neighbors=6, p=1 ..............................................\n",
            "[CV]  n_neighbors=6, p=1, score=(train=0.990, test=0.958), total=   0.0s\n",
            "[CV] n_neighbors=6, p=1 ..............................................\n",
            "[CV]  n_neighbors=6, p=1, score=(train=0.980, test=1.000), total=   0.0s\n",
            "[CV] n_neighbors=6, p=1 ..............................................\n",
            "[CV]  n_neighbors=6, p=1, score=(train=0.970, test=1.000), total=   0.0s\n",
            "[CV] n_neighbors=6, p=1 ..............................................\n",
            "[CV]  n_neighbors=6, p=1, score=(train=0.990, test=0.920), total=   0.0s\n",
            "[CV] n_neighbors=6, p=1 ..............................................\n",
            "[CV]  n_neighbors=6, p=1, score=(train=0.980, test=1.000), total=   0.0s\n",
            "[CV] n_neighbors=6, p=1 ..............................................\n",
            "[CV]  n_neighbors=6, p=1, score=(train=1.000, test=0.917), total=   0.0s\n",
            "[CV] n_neighbors=6, p=1 ..............................................\n",
            "[CV]  n_neighbors=6, p=1, score=(train=0.980, test=0.960), total=   0.0s\n",
            "[CV] n_neighbors=6, p=1 ..............................................\n",
            "[CV]  n_neighbors=6, p=1, score=(train=0.980, test=0.960), total=   0.0s\n",
            "[CV] n_neighbors=6, p=1 ..............................................\n",
            "[CV]  n_neighbors=6, p=1, score=(train=0.980, test=1.000), total=   0.0s\n",
            "[CV] n_neighbors=6, p=1 ..............................................\n",
            "[CV]  n_neighbors=6, p=1, score=(train=0.990, test=0.960), total=   0.0s\n",
            "[CV] n_neighbors=6, p=1 ..............................................\n",
            "[CV]  n_neighbors=6, p=1, score=(train=0.990, test=1.000), total=   0.0s\n",
            "[CV] n_neighbors=6, p=2 ..............................................\n",
            "[CV]  n_neighbors=6, p=2, score=(train=0.970, test=0.960), total=   0.0s\n",
            "[CV] n_neighbors=6, p=2 ..............................................\n",
            "[CV]  n_neighbors=6, p=2, score=(train=0.990, test=0.920), total=   0.0s\n",
            "[CV] n_neighbors=6, p=2 ..............................................\n",
            "[CV]  n_neighbors=6, p=2, score=(train=0.960, test=0.960), total=   0.0s\n",
            "[CV] n_neighbors=6, p=2 ..............................................\n",
            "[CV]  n_neighbors=6, p=2, score=(train=0.970, test=1.000), total=   0.0s\n",
            "[CV] n_neighbors=6, p=2 ..............................................\n",
            "[CV]  n_neighbors=6, p=2, score=(train=0.990, test=0.958), total=   0.0s\n",
            "[CV] n_neighbors=6, p=2 ..............................................\n",
            "[CV]  n_neighbors=6, p=2, score=(train=0.970, test=1.000), total=   0.0s\n",
            "[CV] n_neighbors=6, p=2 ..............................................\n",
            "[CV]  n_neighbors=6, p=2, score=(train=0.970, test=1.000), total=   0.0s\n",
            "[CV] n_neighbors=6, p=2 ..............................................\n",
            "[CV]  n_neighbors=6, p=2, score=(train=0.980, test=0.960), total=   0.0s\n",
            "[CV] n_neighbors=6, p=2 ..............................................\n",
            "[CV]  n_neighbors=6, p=2, score=(train=0.949, test=1.000), total=   0.0s\n",
            "[CV] n_neighbors=6, p=2 ..............................................\n",
            "[CV]  n_neighbors=6, p=2, score=(train=0.990, test=0.833), total=   0.0s\n",
            "[CV] n_neighbors=6, p=2 ..............................................\n",
            "[CV]  n_neighbors=6, p=2, score=(train=0.970, test=0.960), total=   0.0s\n",
            "[CV] n_neighbors=6, p=2 ..............................................\n",
            "[CV]  n_neighbors=6, p=2, score=(train=0.980, test=0.960), total=   0.0s\n",
            "[CV] n_neighbors=6, p=2 ..............................................\n",
            "[CV]  n_neighbors=6, p=2, score=(train=0.970, test=1.000), total=   0.0s\n",
            "[CV] n_neighbors=6, p=2 ..............................................\n",
            "[CV]  n_neighbors=6, p=2, score=(train=0.970, test=0.920), total=   0.0s\n",
            "[CV] n_neighbors=6, p=2 ..............................................\n",
            "[CV]  n_neighbors=6, p=2, score=(train=0.970, test=1.000), total=   0.0s\n",
            "[CV] n_neighbors=6, p=5 ..............................................\n",
            "[CV]  n_neighbors=6, p=5, score=(train=0.960, test=0.960), total=   0.0s\n",
            "[CV] n_neighbors=6, p=5 ..............................................\n",
            "[CV]  n_neighbors=6, p=5, score=(train=0.990, test=0.960), total=   0.0s\n",
            "[CV] n_neighbors=6, p=5 ..............................................\n",
            "[CV]  n_neighbors=6, p=5, score=(train=0.949, test=0.960), total=   0.0s\n",
            "[CV] n_neighbors=6, p=5 ..............................................\n",
            "[CV]  n_neighbors=6, p=5, score=(train=0.970, test=0.960), total=   0.0s\n",
            "[CV] n_neighbors=6, p=5 ..............................................\n",
            "[CV]  n_neighbors=6, p=5, score=(train=0.980, test=0.958), total=   0.0s\n",
            "[CV] n_neighbors=6, p=5 ..............................................\n",
            "[CV]  n_neighbors=6, p=5, score=(train=0.980, test=1.000), total=   0.0s\n",
            "[CV] n_neighbors=6, p=5 ..............................................\n",
            "[CV]  n_neighbors=6, p=5, score=(train=0.970, test=1.000), total=   0.0s\n",
            "[CV] n_neighbors=6, p=5 ..............................................\n",
            "[CV]  n_neighbors=6, p=5, score=(train=0.960, test=0.960), total=   0.0s\n",
            "[CV] n_neighbors=6, p=5 ..............................................\n",
            "[CV]  n_neighbors=6, p=5, score=(train=0.939, test=1.000), total=   0.0s\n",
            "[CV] n_neighbors=6, p=5 ..............................................\n",
            "[CV]  n_neighbors=6, p=5, score=(train=0.980, test=0.875), total=   0.0s\n",
            "[CV] n_neighbors=6, p=5 ..............................................\n",
            "[CV]  n_neighbors=6, p=5, score=(train=0.949, test=1.000), total=   0.0s\n",
            "[CV] n_neighbors=6, p=5 ..............................................\n",
            "[CV]  n_neighbors=6, p=5, score=(train=0.970, test=0.960), total=   0.0s\n",
            "[CV] n_neighbors=6, p=5 ..............................................\n",
            "[CV]  n_neighbors=6, p=5, score=(train=0.970, test=1.000), total=   0.0s\n",
            "[CV] n_neighbors=6, p=5 ..............................................\n",
            "[CV]  n_neighbors=6, p=5, score=(train=0.960, test=0.920), total=   0.0s\n",
            "[CV] n_neighbors=6, p=5 ..............................................\n",
            "[CV]  n_neighbors=6, p=5, score=(train=0.970, test=0.917), total=   0.0s\n",
            "[CV] n_neighbors=7, p=1 ..............................................\n",
            "[CV]  n_neighbors=7, p=1, score=(train=0.980, test=0.960), total=   0.0s\n",
            "[CV] n_neighbors=7, p=1 ..............................................\n",
            "[CV]  n_neighbors=7, p=1, score=(train=0.990, test=0.960), total=   0.0s\n",
            "[CV] n_neighbors=7, p=1 ..............................................\n",
            "[CV]  n_neighbors=7, p=1, score=(train=0.980, test=1.000), total=   0.0s\n",
            "[CV] n_neighbors=7, p=1 ..............................................\n",
            "[CV]  n_neighbors=7, p=1, score=(train=0.980, test=0.960), total=   0.0s\n",
            "[CV] n_neighbors=7, p=1 ..............................................\n",
            "[CV]  n_neighbors=7, p=1, score=(train=0.990, test=0.958), total=   0.0s\n",
            "[CV] n_neighbors=7, p=1 ..............................................\n",
            "[CV]  n_neighbors=7, p=1, score=(train=0.970, test=1.000), total=   0.0s\n",
            "[CV] n_neighbors=7, p=1 ..............................................\n",
            "[CV]  n_neighbors=7, p=1, score=(train=0.970, test=1.000), total=   0.0s\n",
            "[CV] n_neighbors=7, p=1 ..............................................\n",
            "[CV]  n_neighbors=7, p=1, score=(train=0.990, test=0.920), total=   0.0s\n",
            "[CV] n_neighbors=7, p=1 ..............................................\n",
            "[CV]  n_neighbors=7, p=1, score=(train=0.990, test=1.000), total=   0.0s\n",
            "[CV] n_neighbors=7, p=1 ..............................................\n",
            "[CV]  n_neighbors=7, p=1, score=(train=0.980, test=0.917), total=   0.0s\n",
            "[CV] n_neighbors=7, p=1 ..............................................\n",
            "[CV]  n_neighbors=7, p=1, score=(train=0.970, test=0.960), total=   0.0s\n",
            "[CV] n_neighbors=7, p=1 ..............................................\n",
            "[CV]  n_neighbors=7, p=1, score=(train=0.980, test=0.960), total=   0.0s\n",
            "[CV] n_neighbors=7, p=1 ..............................................\n",
            "[CV]  n_neighbors=7, p=1, score=(train=0.980, test=1.000), total=   0.0s\n",
            "[CV] n_neighbors=7, p=1 ..............................................\n",
            "[CV]  n_neighbors=7, p=1, score=(train=0.990, test=0.960), total=   0.0s\n",
            "[CV] n_neighbors=7, p=1 ..............................................\n",
            "[CV]  n_neighbors=7, p=1, score=(train=0.970, test=1.000), total=   0.0s\n",
            "[CV] n_neighbors=7, p=2 ..............................................\n",
            "[CV]  n_neighbors=7, p=2, score=(train=0.980, test=0.960), total=   0.0s\n",
            "[CV] n_neighbors=7, p=2 ..............................................\n",
            "[CV]  n_neighbors=7, p=2, score=(train=0.980, test=0.960), total=   0.0s\n",
            "[CV] n_neighbors=7, p=2 ..............................................\n",
            "[CV]  n_neighbors=7, p=2, score=(train=0.970, test=1.000), total=   0.0s\n",
            "[CV] n_neighbors=7, p=2 ..............................................\n",
            "[CV]  n_neighbors=7, p=2, score=(train=0.970, test=0.960), total=   0.0s\n",
            "[CV] n_neighbors=7, p=2 ..............................................\n",
            "[CV]  n_neighbors=7, p=2, score=(train=0.990, test=0.958), total=   0.0s\n",
            "[CV] n_neighbors=7, p=2 ..............................................\n",
            "[CV]  n_neighbors=7, p=2, score=(train=0.970, test=1.000), total=   0.0s\n",
            "[CV] n_neighbors=7, p=2 ..............................................\n",
            "[CV]  n_neighbors=7, p=2, score=(train=0.980, test=1.000), total=   0.0s\n",
            "[CV] n_neighbors=7, p=2 ..............................................\n",
            "[CV]  n_neighbors=7, p=2, score=(train=0.990, test=0.920), total=   0.0s\n",
            "[CV] n_neighbors=7, p=2 ..............................................\n",
            "[CV]  n_neighbors=7, p=2, score=(train=0.960, test=1.000), total=   0.0s\n",
            "[CV] n_neighbors=7, p=2 ..............................................\n",
            "[CV]  n_neighbors=7, p=2, score=(train=0.990, test=0.917), total=   0.0s\n",
            "[CV] n_neighbors=7, p=2 ..............................................\n",
            "[CV]  n_neighbors=7, p=2, score=(train=0.980, test=0.960), total=   0.0s\n",
            "[CV] n_neighbors=7, p=2 ..............................................\n",
            "[CV]  n_neighbors=7, p=2, score=(train=0.990, test=0.960), total=   0.0s\n",
            "[CV] n_neighbors=7, p=2 ..............................................\n",
            "[CV]  n_neighbors=7, p=2, score=(train=0.970, test=1.000), total=   0.0s\n",
            "[CV] n_neighbors=7, p=2 ..............................................\n",
            "[CV]  n_neighbors=7, p=2, score=(train=0.980, test=0.920), total=   0.0s\n",
            "[CV] n_neighbors=7, p=2 ..............................................\n",
            "[CV]  n_neighbors=7, p=2, score=(train=0.960, test=1.000), total=   0.0s\n",
            "[CV] n_neighbors=7, p=5 ..............................................\n",
            "[CV]  n_neighbors=7, p=5, score=(train=0.980, test=1.000), total=   0.0s\n",
            "[CV] n_neighbors=7, p=5 ..............................................\n",
            "[CV]  n_neighbors=7, p=5, score=(train=0.980, test=0.960), total=   0.0s\n",
            "[CV] n_neighbors=7, p=5 ..............................................\n",
            "[CV]  n_neighbors=7, p=5, score=(train=0.970, test=1.000), total=   0.0s\n",
            "[CV] n_neighbors=7, p=5 ..............................................\n",
            "[CV]  n_neighbors=7, p=5, score=(train=0.980, test=0.960), total=   0.0s\n",
            "[CV] n_neighbors=7, p=5 ..............................................\n",
            "[CV]  n_neighbors=7, p=5, score=(train=0.990, test=0.958), total=   0.0s\n",
            "[CV] n_neighbors=7, p=5 ..............................................\n",
            "[CV]  n_neighbors=7, p=5, score=(train=0.980, test=1.000), total=   0.0s\n",
            "[CV] n_neighbors=7, p=5 ..............................................\n",
            "[CV]  n_neighbors=7, p=5, score=(train=0.980, test=1.000), total=   0.0s\n",
            "[CV] n_neighbors=7, p=5 ..............................................\n",
            "[CV]  n_neighbors=7, p=5, score=(train=0.970, test=0.960), total=   0.0s\n",
            "[CV] n_neighbors=7, p=5 ..............................................\n",
            "[CV]  n_neighbors=7, p=5, score=(train=0.939, test=1.000), total=   0.0s\n",
            "[CV] n_neighbors=7, p=5 ..............................................\n",
            "[CV]  n_neighbors=7, p=5, score=(train=0.990, test=0.875), total=   0.0s\n",
            "[CV] n_neighbors=7, p=5 ..............................................\n",
            "[CV]  n_neighbors=7, p=5, score=(train=0.980, test=1.000), total=   0.0s\n",
            "[CV] n_neighbors=7, p=5 ..............................................\n",
            "[CV]  n_neighbors=7, p=5, score=(train=0.970, test=0.960), total=   0.0s\n",
            "[CV] n_neighbors=7, p=5 ..............................................\n",
            "[CV]  n_neighbors=7, p=5, score=(train=0.980, test=0.920), total=   0.0s\n",
            "[CV] n_neighbors=7, p=5 ..............................................\n",
            "[CV]  n_neighbors=7, p=5, score=(train=0.970, test=0.960), total=   0.0s\n",
            "[CV] n_neighbors=7, p=5 ..............................................\n",
            "[CV]  n_neighbors=7, p=5, score=(train=0.980, test=0.958), total=   0.0s\n"
          ],
          "name": "stdout"
        },
        {
          "output_type": "stream",
          "text": [
            "[Parallel(n_jobs=1)]: Done 315 out of 315 | elapsed:    2.9s finished\n"
          ],
          "name": "stderr"
        }
      ]
    },
    {
      "cell_type": "code",
      "metadata": {
        "id": "t_LP-b6paBqm",
        "colab_type": "code",
        "colab": {}
      },
      "source": [
        "t_pred = gs_KNN.predict(D_test)\n"
      ],
      "execution_count": 0,
      "outputs": []
    },
    {
      "cell_type": "code",
      "metadata": {
        "id": "oxxZagYRaGHs",
        "colab_type": "code",
        "outputId": "b394d159-74c7-4a41-e527-17892d774cfb",
        "colab": {
          "base_uri": "https://localhost:8080/",
          "height": 35
        }
      },
      "source": [
        "from sklearn import metrics\n",
        "metrics.accuracy_score(t_test, t_pred)\n"
      ],
      "execution_count": 63,
      "outputs": [
        {
          "output_type": "execute_result",
          "data": {
            "text/plain": [
              "0.9259259259259259"
            ]
          },
          "metadata": {
            "tags": []
          },
          "execution_count": 63
        }
      ]
    },
    {
      "cell_type": "code",
      "metadata": {
        "id": "9jrax9MlbZ1V",
        "colab_type": "code",
        "outputId": "f90bd20c-2b9a-484d-8727-8eea02ed1751",
        "colab": {
          "base_uri": "https://localhost:8080/",
          "height": 71
        }
      },
      "source": [
        "metrics.confusion_matrix(t_test, t_pred)\n"
      ],
      "execution_count": 64,
      "outputs": [
        {
          "output_type": "execute_result",
          "data": {
            "text/plain": [
              "array([[19,  0,  0],\n",
              "       [ 2, 21,  2],\n",
              "       [ 0,  0, 10]])"
            ]
          },
          "metadata": {
            "tags": []
          },
          "execution_count": 64
        }
      ]
    },
    {
      "cell_type": "code",
      "metadata": {
        "id": "WfAgznC2aIne",
        "colab_type": "code",
        "outputId": "2d3e3d85-7f19-443e-af38-fe070eccc6b2",
        "colab": {
          "base_uri": "https://localhost:8080/",
          "height": 197
        }
      },
      "source": [
        "print(metrics.classification_report(t_test, t_pred))\n"
      ],
      "execution_count": 65,
      "outputs": [
        {
          "output_type": "stream",
          "text": [
            "              precision    recall  f1-score   support\n",
            "\n",
            "           0       0.90      1.00      0.95        19\n",
            "           1       1.00      0.84      0.91        25\n",
            "           2       0.83      1.00      0.91        10\n",
            "\n",
            "    accuracy                           0.93        54\n",
            "   macro avg       0.91      0.95      0.92        54\n",
            "weighted avg       0.94      0.93      0.93        54\n",
            "\n"
          ],
          "name": "stdout"
        }
      ]
    },
    {
      "cell_type": "code",
      "metadata": {
        "id": "YFlDx_lR6UOI",
        "colab_type": "code",
        "colab": {
          "base_uri": "https://localhost:8080/",
          "height": 71
        },
        "outputId": "47293e60-754d-4cd0-d3c8-c6780a55a6f8"
      },
      "source": [
        "## ROC curve 를 통한 AUC score 구하기\n",
        "from sklearn.metrics import roc_curve\n",
        "from sklearn.metrics import roc_auc_score\n",
        "from sklearn import preprocessing\n",
        "\n",
        "def multiclass_roc_auc_score(y_test, y_pred, average=\"macro\"):\n",
        "  lb = preprocessing.LabelBinarizer()\n",
        "  lb.fit(y_test)\n",
        "  y_test = lb.transform(y_test)\n",
        "  y_pred = lb.transform(y_pred)\n",
        "  return roc_auc_score(y_test, y_pred, average=average)\n",
        "\n",
        "b1=multiclass_roc_auc_score(t_test,t_pred)\n",
        "b2=(0.95+0.91+0.91)/3\n",
        "b3=accuracy_score(t_test, t_pred)\n",
        "\n",
        "## KNN model의 accuracy, f1- score, auc score 나타낸 결과\n",
        "print('KNN model roc curve score :' ,b1)\n",
        "print('KNN model f1-score :' ,b2)\n",
        "print('KNN model accuracy :' ,b3)\n"
      ],
      "execution_count": 131,
      "outputs": [
        {
          "output_type": "stream",
          "text": [
            "KNN model roc curve score : 0.9562337662337663\n",
            "KNN model f1-score : 0.9233333333333333\n",
            "KNN model accuracy : 0.9259259259259259\n"
          ],
          "name": "stdout"
        }
      ]
    },
    {
      "cell_type": "markdown",
      "metadata": {
        "id": "HtG6MDFDxtAg",
        "colab_type": "text"
      },
      "source": [
        "\n",
        "이웃의 수를 증가시켜도 예측 정확도는 많이 늘어나지는 않는다.\n",
        "\n",
        "따라서 이 데이터에는 k-NN 최근접 algorithm이 적합하지 않음을 알 수 있다."
      ]
    },
    {
      "cell_type": "markdown",
      "metadata": {
        "id": "nLSRzj64eW7W",
        "colab_type": "text"
      },
      "source": [
        "##3. Decision Tree"
      ]
    },
    {
      "cell_type": "code",
      "metadata": {
        "id": "8gkBa2AUcgu_",
        "colab_type": "code",
        "colab": {}
      },
      "source": [
        "import numpy as np\n",
        "import pandas as pd \n",
        "import matplotlib.pyplot as plt\n",
        "from matplotlib.colors import ListedColormap\n",
        "\n",
        "from sklearn.datasets import load_wine\n",
        "from sklearn.ensemble import RandomForestClassifier\n",
        "from sklearn.feature_selection import SelectFromModel\n",
        "from sklearn.metrics import accuracy_score\n",
        "from sklearn.model_selection import train_test_split\n",
        "from sklearn.tree import DecisionTreeClassifier, export_graphviz"
      ],
      "execution_count": 0,
      "outputs": []
    },
    {
      "cell_type": "code",
      "metadata": {
        "id": "17tv4AG8gH3D",
        "colab_type": "code",
        "outputId": "67b791cc-360a-4ca2-b544-b8a8b585d0a9",
        "colab": {
          "base_uri": "https://localhost:8080/",
          "height": 1000
        }
      },
      "source": [
        "wine_df= load_wine()\n",
        "print(wine.DESCR)"
      ],
      "execution_count": 139,
      "outputs": [
        {
          "output_type": "stream",
          "text": [
            ".. _wine_dataset:\n",
            "\n",
            "Wine recognition dataset\n",
            "------------------------\n",
            "\n",
            "**Data Set Characteristics:**\n",
            "\n",
            "    :Number of Instances: 178 (50 in each of three classes)\n",
            "    :Number of Attributes: 13 numeric, predictive attributes and the class\n",
            "    :Attribute Information:\n",
            " \t\t- Alcohol\n",
            " \t\t- Malic acid\n",
            " \t\t- Ash\n",
            "\t\t- Alcalinity of ash  \n",
            " \t\t- Magnesium\n",
            "\t\t- Total phenols\n",
            " \t\t- Flavanoids\n",
            " \t\t- Nonflavanoid phenols\n",
            " \t\t- Proanthocyanins\n",
            "\t\t- Color intensity\n",
            " \t\t- Hue\n",
            " \t\t- OD280/OD315 of diluted wines\n",
            " \t\t- Proline\n",
            "\n",
            "    - class:\n",
            "            - class_0\n",
            "            - class_1\n",
            "            - class_2\n",
            "\t\t\n",
            "    :Summary Statistics:\n",
            "    \n",
            "    ============================= ==== ===== ======= =====\n",
            "                                   Min   Max   Mean     SD\n",
            "    ============================= ==== ===== ======= =====\n",
            "    Alcohol:                      11.0  14.8    13.0   0.8\n",
            "    Malic Acid:                   0.74  5.80    2.34  1.12\n",
            "    Ash:                          1.36  3.23    2.36  0.27\n",
            "    Alcalinity of Ash:            10.6  30.0    19.5   3.3\n",
            "    Magnesium:                    70.0 162.0    99.7  14.3\n",
            "    Total Phenols:                0.98  3.88    2.29  0.63\n",
            "    Flavanoids:                   0.34  5.08    2.03  1.00\n",
            "    Nonflavanoid Phenols:         0.13  0.66    0.36  0.12\n",
            "    Proanthocyanins:              0.41  3.58    1.59  0.57\n",
            "    Colour Intensity:              1.3  13.0     5.1   2.3\n",
            "    Hue:                          0.48  1.71    0.96  0.23\n",
            "    OD280/OD315 of diluted wines: 1.27  4.00    2.61  0.71\n",
            "    Proline:                       278  1680     746   315\n",
            "    ============================= ==== ===== ======= =====\n",
            "\n",
            "    :Missing Attribute Values: None\n",
            "    :Class Distribution: class_0 (59), class_1 (71), class_2 (48)\n",
            "    :Creator: R.A. Fisher\n",
            "    :Donor: Michael Marshall (MARSHALL%PLU@io.arc.nasa.gov)\n",
            "    :Date: July, 1988\n",
            "\n",
            "This is a copy of UCI ML Wine recognition datasets.\n",
            "https://archive.ics.uci.edu/ml/machine-learning-databases/wine/wine.data\n",
            "\n",
            "The data is the results of a chemical analysis of wines grown in the same\n",
            "region in Italy by three different cultivators. There are thirteen different\n",
            "measurements taken for different constituents found in the three types of\n",
            "wine.\n",
            "\n",
            "Original Owners: \n",
            "\n",
            "Forina, M. et al, PARVUS - \n",
            "An Extendible Package for Data Exploration, Classification and Correlation. \n",
            "Institute of Pharmaceutical and Food Analysis and Technologies,\n",
            "Via Brigata Salerno, 16147 Genoa, Italy.\n",
            "\n",
            "Citation:\n",
            "\n",
            "Lichman, M. (2013). UCI Machine Learning Repository\n",
            "[https://archive.ics.uci.edu/ml]. Irvine, CA: University of California,\n",
            "School of Information and Computer Science. \n",
            "\n",
            ".. topic:: References\n",
            "\n",
            "  (1) S. Aeberhard, D. Coomans and O. de Vel, \n",
            "  Comparison of Classifiers in High Dimensional Settings, \n",
            "  Tech. Rep. no. 92-02, (1992), Dept. of Computer Science and Dept. of  \n",
            "  Mathematics and Statistics, James Cook University of North Queensland. \n",
            "  (Also submitted to Technometrics). \n",
            "\n",
            "  The data was used with many others for comparing various \n",
            "  classifiers. The classes are separable, though only RDA \n",
            "  has achieved 100% correct classification. \n",
            "  (RDA : 100%, QDA 99.4%, LDA 98.9%, 1NN 96.1% (z-transformed data)) \n",
            "  (All results using the leave-one-out technique) \n",
            "\n",
            "  (2) S. Aeberhard, D. Coomans and O. de Vel, \n",
            "  \"THE CLASSIFICATION PERFORMANCE OF RDA\" \n",
            "  Tech. Rep. no. 92-01, (1992), Dept. of Computer Science and Dept. of \n",
            "  Mathematics and Statistics, James Cook University of North Queensland. \n",
            "  (Also submitted to Journal of Chemometrics).\n",
            "\n"
          ],
          "name": "stdout"
        }
      ]
    },
    {
      "cell_type": "code",
      "metadata": {
        "id": "dBjr1xg-gMRM",
        "colab_type": "code",
        "outputId": "bf7d1a94-1950-47b3-b6fd-3c30bbcca6dd",
        "colab": {
          "base_uri": "https://localhost:8080/",
          "height": 258
        }
      },
      "source": [
        "from sklearn.preprocessing import StandardScaler\n",
        "from sklearn import metrics\n",
        "\n",
        "df = pd.read_csv('http://mlr.cs.umass.edu/ml/machine-learning-databases/wine/wine.data', header=None)\n",
        "\n",
        "df.columns = ['Class label', 'Alcohol', 'Malic acid', 'Ash',\n",
        "              'Alcalinity of ash', 'Magnesium', 'Total phenols',\n",
        "              'Flavanoids', 'Nonflavanoid phenols', 'Proanthocyanins', \n",
        "              'Color intensity', 'Hue', 'OD280/OD315 of diluted wines', 'Proline']\n",
        "\n",
        "display(df.head())\n",
        "\n",
        "X = df.drop('Class label', 1)\n",
        "y = df['Class label']\n",
        "\n",
        "X_train, X_test, y_train, y_test = train_test_split(X, y, test_size=0.3)\n",
        "\n",
        "#전처리\n",
        "sc = StandardScaler()\n",
        "sc.fit(X_train)\n",
        "\n",
        "# 표준화된 데이터셋\n",
        "X_train_std = sc.transform(X_train)\n",
        "X_test_std = sc.transform(X_test)\n",
        "\n",
        "print('#Training data points: %d' % X_train.shape[0])\n",
        "print('#Testing data points: %d' % X_test.shape[0])\n",
        "print('Class labels:', np.unique(y))"
      ],
      "execution_count": 140,
      "outputs": [
        {
          "output_type": "display_data",
          "data": {
            "text/html": [
              "<div>\n",
              "<style scoped>\n",
              "    .dataframe tbody tr th:only-of-type {\n",
              "        vertical-align: middle;\n",
              "    }\n",
              "\n",
              "    .dataframe tbody tr th {\n",
              "        vertical-align: top;\n",
              "    }\n",
              "\n",
              "    .dataframe thead th {\n",
              "        text-align: right;\n",
              "    }\n",
              "</style>\n",
              "<table border=\"1\" class=\"dataframe\">\n",
              "  <thead>\n",
              "    <tr style=\"text-align: right;\">\n",
              "      <th></th>\n",
              "      <th>Class label</th>\n",
              "      <th>Alcohol</th>\n",
              "      <th>Malic acid</th>\n",
              "      <th>Ash</th>\n",
              "      <th>Alcalinity of ash</th>\n",
              "      <th>Magnesium</th>\n",
              "      <th>Total phenols</th>\n",
              "      <th>Flavanoids</th>\n",
              "      <th>Nonflavanoid phenols</th>\n",
              "      <th>Proanthocyanins</th>\n",
              "      <th>Color intensity</th>\n",
              "      <th>Hue</th>\n",
              "      <th>OD280/OD315 of diluted wines</th>\n",
              "      <th>Proline</th>\n",
              "    </tr>\n",
              "  </thead>\n",
              "  <tbody>\n",
              "    <tr>\n",
              "      <th>0</th>\n",
              "      <td>1</td>\n",
              "      <td>14.23</td>\n",
              "      <td>1.71</td>\n",
              "      <td>2.43</td>\n",
              "      <td>15.6</td>\n",
              "      <td>127</td>\n",
              "      <td>2.80</td>\n",
              "      <td>3.06</td>\n",
              "      <td>0.28</td>\n",
              "      <td>2.29</td>\n",
              "      <td>5.64</td>\n",
              "      <td>1.04</td>\n",
              "      <td>3.92</td>\n",
              "      <td>1065</td>\n",
              "    </tr>\n",
              "    <tr>\n",
              "      <th>1</th>\n",
              "      <td>1</td>\n",
              "      <td>13.20</td>\n",
              "      <td>1.78</td>\n",
              "      <td>2.14</td>\n",
              "      <td>11.2</td>\n",
              "      <td>100</td>\n",
              "      <td>2.65</td>\n",
              "      <td>2.76</td>\n",
              "      <td>0.26</td>\n",
              "      <td>1.28</td>\n",
              "      <td>4.38</td>\n",
              "      <td>1.05</td>\n",
              "      <td>3.40</td>\n",
              "      <td>1050</td>\n",
              "    </tr>\n",
              "    <tr>\n",
              "      <th>2</th>\n",
              "      <td>1</td>\n",
              "      <td>13.16</td>\n",
              "      <td>2.36</td>\n",
              "      <td>2.67</td>\n",
              "      <td>18.6</td>\n",
              "      <td>101</td>\n",
              "      <td>2.80</td>\n",
              "      <td>3.24</td>\n",
              "      <td>0.30</td>\n",
              "      <td>2.81</td>\n",
              "      <td>5.68</td>\n",
              "      <td>1.03</td>\n",
              "      <td>3.17</td>\n",
              "      <td>1185</td>\n",
              "    </tr>\n",
              "    <tr>\n",
              "      <th>3</th>\n",
              "      <td>1</td>\n",
              "      <td>14.37</td>\n",
              "      <td>1.95</td>\n",
              "      <td>2.50</td>\n",
              "      <td>16.8</td>\n",
              "      <td>113</td>\n",
              "      <td>3.85</td>\n",
              "      <td>3.49</td>\n",
              "      <td>0.24</td>\n",
              "      <td>2.18</td>\n",
              "      <td>7.80</td>\n",
              "      <td>0.86</td>\n",
              "      <td>3.45</td>\n",
              "      <td>1480</td>\n",
              "    </tr>\n",
              "    <tr>\n",
              "      <th>4</th>\n",
              "      <td>1</td>\n",
              "      <td>13.24</td>\n",
              "      <td>2.59</td>\n",
              "      <td>2.87</td>\n",
              "      <td>21.0</td>\n",
              "      <td>118</td>\n",
              "      <td>2.80</td>\n",
              "      <td>2.69</td>\n",
              "      <td>0.39</td>\n",
              "      <td>1.82</td>\n",
              "      <td>4.32</td>\n",
              "      <td>1.04</td>\n",
              "      <td>2.93</td>\n",
              "      <td>735</td>\n",
              "    </tr>\n",
              "  </tbody>\n",
              "</table>\n",
              "</div>"
            ],
            "text/plain": [
              "   Class label  Alcohol  ...  OD280/OD315 of diluted wines  Proline\n",
              "0            1    14.23  ...                          3.92     1065\n",
              "1            1    13.20  ...                          3.40     1050\n",
              "2            1    13.16  ...                          3.17     1185\n",
              "3            1    14.37  ...                          3.45     1480\n",
              "4            1    13.24  ...                          2.93      735\n",
              "\n",
              "[5 rows x 14 columns]"
            ]
          },
          "metadata": {
            "tags": []
          }
        },
        {
          "output_type": "stream",
          "text": [
            "#Training data points: 124\n",
            "#Testing data points: 54\n",
            "Class labels: [1 2 3]\n"
          ],
          "name": "stdout"
        }
      ]
    },
    {
      "cell_type": "code",
      "metadata": {
        "id": "clYO6ry_p997",
        "colab_type": "code",
        "outputId": "dc6e1c7d-547d-41e3-abd6-11e8ab8de51e",
        "colab": {
          "base_uri": "https://localhost:8080/",
          "height": 35
        }
      },
      "source": [
        "## Hyper-parameter인 optimal depth 찾아내기\n",
        "\n",
        "import numpy as np\n",
        "import pandas as pd\n",
        "from sklearn import tree\n",
        "from sklearn.model_selection import cross_val_score\n",
        "from pprint import pprint\n",
        "\n",
        "\n",
        "\n",
        "parameters = {'max_depth':range(2,20)}\n",
        "clf = GridSearchCV(tree.DecisionTreeClassifier(), parameters, n_jobs=-1)\n",
        "clf.fit(X=X_train, y=y_train)\n",
        "tree_model = clf.best_estimator_\n",
        "print (clf.best_score_, clf.best_params_) "
      ],
      "execution_count": 141,
      "outputs": [
        {
          "output_type": "stream",
          "text": [
            "0.9356666666666665 {'max_depth': 7}\n"
          ],
          "name": "stdout"
        }
      ]
    },
    {
      "cell_type": "markdown",
      "metadata": {
        "id": "rXtZdCu5wkn-",
        "colab_type": "text"
      },
      "source": [
        "train_set의 score가 낮아진 것으로 보아 overfitting은 감소한 것처럼 보이지만, test set의 score또한 낮아졌으므로 이 데이터셋에 tree model은 적합하지 않음을 알 수 있습니다.\n",
        "\n"
      ]
    },
    {
      "cell_type": "code",
      "metadata": {
        "id": "Utc42D-xhlMd",
        "colab_type": "code",
        "outputId": "a7f12e91-a176-4659-9810-fc8514bc2735",
        "colab": {
          "base_uri": "https://localhost:8080/",
          "height": 251
        }
      },
      "source": [
        "y_pred = clf.predict(X_test)\n",
        "print(classification_report(y_test, y_pred))\n",
        "print(confusion_matrix(y_test, y_pred))"
      ],
      "execution_count": 142,
      "outputs": [
        {
          "output_type": "stream",
          "text": [
            "              precision    recall  f1-score   support\n",
            "\n",
            "           1       0.95      0.95      0.95        20\n",
            "           2       0.90      0.95      0.92        19\n",
            "           3       1.00      0.93      0.97        15\n",
            "\n",
            "    accuracy                           0.94        54\n",
            "   macro avg       0.95      0.94      0.95        54\n",
            "weighted avg       0.95      0.94      0.94        54\n",
            "\n",
            "[[19  1  0]\n",
            " [ 1 18  0]\n",
            " [ 0  1 14]]\n"
          ],
          "name": "stdout"
        }
      ]
    },
    {
      "cell_type": "code",
      "metadata": {
        "id": "HP7zHyzJIYir",
        "colab_type": "code",
        "colab": {
          "base_uri": "https://localhost:8080/",
          "height": 71
        },
        "outputId": "01b96538-2d2d-4239-96a8-c68c3a1e816b"
      },
      "source": [
        "## ROC curve 를 통한 AUC score 구하기\n",
        "from sklearn.metrics import roc_curve\n",
        "from sklearn.metrics import roc_auc_score\n",
        "from sklearn import preprocessing\n",
        "\n",
        "def multiclass_roc_auc_score(y_test, y_pred, average=\"macro\"):\n",
        "  lb = preprocessing.LabelBinarizer()\n",
        "  lb.fit(y_test)\n",
        "  y_test = lb.transform(y_test)\n",
        "  y_pred = lb.transform(y_pred)\n",
        "  return roc_auc_score(y_test, y_pred, average=average)\n",
        "\n",
        "c1=multiclass_roc_auc_score(y_test,y_pred)\n",
        "c2=(0.95+0.92+0.97)/3\n",
        "c3=accuracy_score(y_test, y_pred)\n",
        "\n",
        "## Decision Tree model의 accuracy, f1- score, auc score 나타낸 결과\n",
        "print('Decision Tree model roc curve score :' ,c1)\n",
        "print('Decision Tree model f1-score :' ,c2)\n",
        "print('Decision Tree model accuracy :' ,c3)\n"
      ],
      "execution_count": 144,
      "outputs": [
        {
          "output_type": "stream",
          "text": [
            "Decision Tree model roc curve score : 0.9573578554228709\n",
            "Decision Tree model f1-score : 0.9466666666666667\n",
            "Decision Tree model accuracy : 0.9444444444444444\n"
          ],
          "name": "stdout"
        }
      ]
    },
    {
      "cell_type": "markdown",
      "metadata": {
        "id": "GsR11-Eqr1gO",
        "colab_type": "text"
      },
      "source": [
        "##4. Random Forest"
      ]
    },
    {
      "cell_type": "markdown",
      "metadata": {
        "id": "KwWDlCB93u28",
        "colab_type": "text"
      },
      "source": [
        "decision tree처럼 random foreset도 feature importances를 제공한다.\n",
        "\n",
        "일반적으로 random forest의 feature importances가 하나의 tree에서 제공하는 것보다 더 신뢰할 만하다."
      ]
    },
    {
      "cell_type": "code",
      "metadata": {
        "id": "5FfCUsM6h9bJ",
        "colab_type": "code",
        "colab": {}
      },
      "source": [
        "from sklearn.ensemble import RandomForestClassifier\n",
        "from sklearn.model_selection import train_test_split \n",
        "from sklearn.datasets import load_wine \n",
        "from sklearn.model_selection import GridSearchCV\n",
        "\n",
        "from sklearn.metrics import accuracy_score, confusion_matrix  \n",
        "from sklearn.metrics import classification_report "
      ],
      "execution_count": 0,
      "outputs": []
    },
    {
      "cell_type": "code",
      "metadata": {
        "id": "W7rz7ZVvJXBO",
        "colab_type": "code",
        "colab": {
          "base_uri": "https://localhost:8080/",
          "height": 1000
        },
        "outputId": "916765be-4c3e-4d28-b883-b1571142bd12"
      },
      "source": [
        "wine = load_wine()\n",
        "print(wine.DESCR)"
      ],
      "execution_count": 120,
      "outputs": [
        {
          "output_type": "stream",
          "text": [
            ".. _wine_dataset:\n",
            "\n",
            "Wine recognition dataset\n",
            "------------------------\n",
            "\n",
            "**Data Set Characteristics:**\n",
            "\n",
            "    :Number of Instances: 178 (50 in each of three classes)\n",
            "    :Number of Attributes: 13 numeric, predictive attributes and the class\n",
            "    :Attribute Information:\n",
            " \t\t- Alcohol\n",
            " \t\t- Malic acid\n",
            " \t\t- Ash\n",
            "\t\t- Alcalinity of ash  \n",
            " \t\t- Magnesium\n",
            "\t\t- Total phenols\n",
            " \t\t- Flavanoids\n",
            " \t\t- Nonflavanoid phenols\n",
            " \t\t- Proanthocyanins\n",
            "\t\t- Color intensity\n",
            " \t\t- Hue\n",
            " \t\t- OD280/OD315 of diluted wines\n",
            " \t\t- Proline\n",
            "\n",
            "    - class:\n",
            "            - class_0\n",
            "            - class_1\n",
            "            - class_2\n",
            "\t\t\n",
            "    :Summary Statistics:\n",
            "    \n",
            "    ============================= ==== ===== ======= =====\n",
            "                                   Min   Max   Mean     SD\n",
            "    ============================= ==== ===== ======= =====\n",
            "    Alcohol:                      11.0  14.8    13.0   0.8\n",
            "    Malic Acid:                   0.74  5.80    2.34  1.12\n",
            "    Ash:                          1.36  3.23    2.36  0.27\n",
            "    Alcalinity of Ash:            10.6  30.0    19.5   3.3\n",
            "    Magnesium:                    70.0 162.0    99.7  14.3\n",
            "    Total Phenols:                0.98  3.88    2.29  0.63\n",
            "    Flavanoids:                   0.34  5.08    2.03  1.00\n",
            "    Nonflavanoid Phenols:         0.13  0.66    0.36  0.12\n",
            "    Proanthocyanins:              0.41  3.58    1.59  0.57\n",
            "    Colour Intensity:              1.3  13.0     5.1   2.3\n",
            "    Hue:                          0.48  1.71    0.96  0.23\n",
            "    OD280/OD315 of diluted wines: 1.27  4.00    2.61  0.71\n",
            "    Proline:                       278  1680     746   315\n",
            "    ============================= ==== ===== ======= =====\n",
            "\n",
            "    :Missing Attribute Values: None\n",
            "    :Class Distribution: class_0 (59), class_1 (71), class_2 (48)\n",
            "    :Creator: R.A. Fisher\n",
            "    :Donor: Michael Marshall (MARSHALL%PLU@io.arc.nasa.gov)\n",
            "    :Date: July, 1988\n",
            "\n",
            "This is a copy of UCI ML Wine recognition datasets.\n",
            "https://archive.ics.uci.edu/ml/machine-learning-databases/wine/wine.data\n",
            "\n",
            "The data is the results of a chemical analysis of wines grown in the same\n",
            "region in Italy by three different cultivators. There are thirteen different\n",
            "measurements taken for different constituents found in the three types of\n",
            "wine.\n",
            "\n",
            "Original Owners: \n",
            "\n",
            "Forina, M. et al, PARVUS - \n",
            "An Extendible Package for Data Exploration, Classification and Correlation. \n",
            "Institute of Pharmaceutical and Food Analysis and Technologies,\n",
            "Via Brigata Salerno, 16147 Genoa, Italy.\n",
            "\n",
            "Citation:\n",
            "\n",
            "Lichman, M. (2013). UCI Machine Learning Repository\n",
            "[https://archive.ics.uci.edu/ml]. Irvine, CA: University of California,\n",
            "School of Information and Computer Science. \n",
            "\n",
            ".. topic:: References\n",
            "\n",
            "  (1) S. Aeberhard, D. Coomans and O. de Vel, \n",
            "  Comparison of Classifiers in High Dimensional Settings, \n",
            "  Tech. Rep. no. 92-02, (1992), Dept. of Computer Science and Dept. of  \n",
            "  Mathematics and Statistics, James Cook University of North Queensland. \n",
            "  (Also submitted to Technometrics). \n",
            "\n",
            "  The data was used with many others for comparing various \n",
            "  classifiers. The classes are separable, though only RDA \n",
            "  has achieved 100% correct classification. \n",
            "  (RDA : 100%, QDA 99.4%, LDA 98.9%, 1NN 96.1% (z-transformed data)) \n",
            "  (All results using the leave-one-out technique) \n",
            "\n",
            "  (2) S. Aeberhard, D. Coomans and O. de Vel, \n",
            "  \"THE CLASSIFICATION PERFORMANCE OF RDA\" \n",
            "  Tech. Rep. no. 92-01, (1992), Dept. of Computer Science and Dept. of \n",
            "  Mathematics and Statistics, James Cook University of North Queensland. \n",
            "  (Also submitted to Journal of Chemometrics).\n",
            "\n"
          ],
          "name": "stdout"
        }
      ]
    },
    {
      "cell_type": "markdown",
      "metadata": {
        "id": "RG_P7FNMKGIP",
        "colab_type": "text"
      },
      "source": [
        "## 초기 데이터 Model에 적용"
      ]
    },
    {
      "cell_type": "code",
      "metadata": {
        "id": "nuMDdYD-J897",
        "colab_type": "code",
        "colab": {
          "base_uri": "https://localhost:8080/",
          "height": 35
        },
        "outputId": "6c6cac0a-3127-469b-d57a-70440678164c"
      },
      "source": [
        "R_train, R_test, y_train, y_test = train_test_split(wine.data, wine.target, test_size=0.3)\n",
        "model = RandomForestClassifier(random_state=0) # 분류 트리(default) 객체 생성\n",
        "model.fit(X=R_train, y=y_train)\n",
        "score_r = model.score(R_test,y_test)\n",
        "\n",
        "print(\"Random Forest:{}\".format(score_r))"
      ],
      "execution_count": 118,
      "outputs": [
        {
          "output_type": "stream",
          "text": [
            "Random Forest:0.9444444444444444\n"
          ],
          "name": "stdout"
        }
      ]
    },
    {
      "cell_type": "markdown",
      "metadata": {
        "id": "EKBCeESQKTo_",
        "colab_type": "text"
      },
      "source": [
        "## 전처리와 optimal parameter 적용 후 model 성능"
      ]
    },
    {
      "cell_type": "code",
      "metadata": {
        "id": "Tnlu5d5D2c6b",
        "colab_type": "code",
        "outputId": "f53a2273-5db2-49d3-cf53-64521991be34",
        "colab": {
          "base_uri": "https://localhost:8080/",
          "height": 179
        }
      },
      "source": [
        "#데이터 전 처리\n",
        "X, y = load_wine(return_X_y = True)\n",
        "X.shape # (178, 13)\n",
        "y.shape # (178,)\n",
        "y"
      ],
      "execution_count": 121,
      "outputs": [
        {
          "output_type": "execute_result",
          "data": {
            "text/plain": [
              "array([0, 0, 0, 0, 0, 0, 0, 0, 0, 0, 0, 0, 0, 0, 0, 0, 0, 0, 0, 0, 0, 0,\n",
              "       0, 0, 0, 0, 0, 0, 0, 0, 0, 0, 0, 0, 0, 0, 0, 0, 0, 0, 0, 0, 0, 0,\n",
              "       0, 0, 0, 0, 0, 0, 0, 0, 0, 0, 0, 0, 0, 0, 0, 1, 1, 1, 1, 1, 1, 1,\n",
              "       1, 1, 1, 1, 1, 1, 1, 1, 1, 1, 1, 1, 1, 1, 1, 1, 1, 1, 1, 1, 1, 1,\n",
              "       1, 1, 1, 1, 1, 1, 1, 1, 1, 1, 1, 1, 1, 1, 1, 1, 1, 1, 1, 1, 1, 1,\n",
              "       1, 1, 1, 1, 1, 1, 1, 1, 1, 1, 1, 1, 1, 1, 1, 1, 1, 1, 1, 1, 2, 2,\n",
              "       2, 2, 2, 2, 2, 2, 2, 2, 2, 2, 2, 2, 2, 2, 2, 2, 2, 2, 2, 2, 2, 2,\n",
              "       2, 2, 2, 2, 2, 2, 2, 2, 2, 2, 2, 2, 2, 2, 2, 2, 2, 2, 2, 2, 2, 2,\n",
              "       2, 2])"
            ]
          },
          "metadata": {
            "tags": []
          },
          "execution_count": 121
        }
      ]
    },
    {
      "cell_type": "code",
      "metadata": {
        "id": "swQC3Gup2g4l",
        "colab_type": "code",
        "colab": {}
      },
      "source": [
        "R_train, R_test, y_train, y_test = train_test_split(X, y, test_size=0.3)\n"
      ],
      "execution_count": 0,
      "outputs": []
    },
    {
      "cell_type": "code",
      "metadata": {
        "id": "7rITJIad-Jru",
        "colab_type": "code",
        "outputId": "91acc338-a68e-4108-806e-c47323369d9e",
        "colab": {
          "base_uri": "https://localhost:8080/",
          "height": 301
        }
      },
      "source": [
        "from sklearn.datasets import load_wine\n",
        "\n",
        "\n",
        "\n",
        "wine = load_wine()\n",
        "\n",
        "\n",
        "\n",
        "#x_train, x_test, y_train, y_test = train_test_split(wine.data, wine.target, test_size=0.1, random_state=0)\n",
        "\n",
        "\n",
        "\n",
        "n_feature = wine.data.shape[1]\n",
        "\n",
        "\n",
        "\n",
        "score_n_tr_est = []\n",
        "\n",
        "score_n_te_est = []\n",
        "\n",
        "score_m_tr_mft = []\n",
        "\n",
        "score_m_te_mft = []\n",
        "\n",
        "\n",
        "\n",
        "for i in np.arange(1, n_feature+1): # n_estimators와 mat_features는 모두 0보다 큰 정수여야 하므로 1부터 시작합니다.\n",
        "\n",
        "    params_n = {'n_estimators':i, 'max_features':'auto', 'n_jobs':-1} # **kwargs parameter\n",
        "\n",
        "    params_m = {'n_estimators':10, 'max_features':i, 'n_jobs':-1}\n",
        "\n",
        "\n",
        "\n",
        "    forest_n = RandomForestClassifier(**params_n).fit(R_train, y_train)\n",
        "\n",
        "    forest_m = RandomForestClassifier(**params_m).fit(R_train, y_train)\n",
        "\n",
        "    \n",
        "\n",
        "    score_n_tr = forest_n.score(R_train, y_train)\n",
        "\n",
        "    score_n_te = forest_n.score(R_test, y_test)\n",
        "\n",
        "    score_m_tr = forest_m.score(R_train, y_train)\n",
        "\n",
        "    score_m_te = forest_m.score(R_test, y_test)\n",
        "\n",
        "\n",
        "\n",
        "    score_n_tr_est.append(score_n_tr)\n",
        "\n",
        "    score_n_te_est.append(score_n_te)\n",
        "\n",
        "    score_m_tr_mft.append(score_m_tr)\n",
        "\n",
        "    score_m_te_mft.append(score_m_te)\n",
        "\n",
        "\n",
        "\n",
        "index = np.arange(len(score_n_tr_est))\n",
        "\n",
        "plt.plot(index, score_n_tr_est, label='n_estimators train score', color='lightblue', ls='--') # ls: linestyle\n",
        "\n",
        "plt.plot(index, score_m_tr_mft, label='max_features train score', color='orange', ls='--')\n",
        "\n",
        "plt.plot(index, score_n_te_est, label='n_estimators test score', color='lightblue')\n",
        "\n",
        "plt.plot(index, score_m_te_mft, label='max_features test score', color='orange')\n",
        "\n",
        "plt.legend(loc='upper center', bbox_to_anchor=(0.5, 1.1),\n",
        "\n",
        "           ncol=2, fancybox=True, shadow=False) # fancybox: 박스모양, shadow: 그림자\n",
        "\n",
        "plt.xlabel('number of parameter', size=15)\n",
        "\n",
        "plt.ylabel('score', size=15)\n",
        "\n",
        "plt.show()"
      ],
      "execution_count": 123,
      "outputs": [
        {
          "output_type": "display_data",
          "data": {
            "image/png": "[encoded data removed]",
            "text/plain": [
              "<Figure size 432x288 with 1 Axes>"
            ]
          },
          "metadata": {
            "tags": [],
            "needs_background": "light"
          }
        }
      ]
    },
    {
      "cell_type": "markdown",
      "metadata": {
        "id": "pFiFdr3j_EMM",
        "colab_type": "text"
      },
      "source": [
        "parameter의 갯수가 6~8개 일 때 성능이 더 좋아 보인다.\n",
        "\n"
      ]
    },
    {
      "cell_type": "markdown",
      "metadata": {
        "id": "K7D0L5nL5YlA",
        "colab_type": "text"
      },
      "source": [
        "## optimal parameter를 구하고 적용하기\n",
        "\n",
        "\n"
      ]
    },
    {
      "cell_type": "code",
      "metadata": {
        "id": "CK70hIFf2zd4",
        "colab_type": "code",
        "outputId": "14b577d3-d55c-4724-95cf-ce1b4ba269cf",
        "colab": {
          "base_uri": "https://localhost:8080/",
          "height": 35
        }
      },
      "source": [
        "from sklearn.model_selection import cross_val_score\n",
        "from sklearn import tree\n",
        "\n",
        "\n",
        "parameters = {'n_estimators':range(3,51)}\n",
        "clf = GridSearchCV(RandomForestClassifier(), parameters, n_jobs=-1)\n",
        "clf.fit(X=R_train, y=y_train)\n",
        "tree_model = clf.best_estimator_\n",
        "print (clf.best_score_, clf.best_params_) "
      ],
      "execution_count": 124,
      "outputs": [
        {
          "output_type": "stream",
          "text": [
            "0.9836666666666666 {'n_estimators': 25}\n"
          ],
          "name": "stdout"
        }
      ]
    },
    {
      "cell_type": "code",
      "metadata": {
        "id": "YKKSqnV_mNX2",
        "colab_type": "code",
        "outputId": "f2222bc2-a6f0-44a8-ec92-b6ce03d94b66",
        "colab": {
          "base_uri": "https://localhost:8080/",
          "height": 284
        }
      },
      "source": [
        "## Random Forest를 통한 feature importance한 feature 찾기\n",
        "import numpy as np\n",
        "import matplotlib.pyplot as plt\n",
        "\n",
        "n_feature = wine.data.shape[1]\n",
        "\n",
        "index = np.arange(n_feature)\n",
        "\n",
        "\n",
        "plt.barh(index, clf.best_estimator_.feature_importances_, align='center')\n",
        "\n",
        "plt.yticks(index, wine.feature_names)\n",
        "\n",
        "plt.ylim(-1, n_feature)\n",
        "\n",
        "plt.xlabel('feature importance', size=15)\n",
        "\n",
        "plt.ylabel('feature', size=15)\n",
        "\n",
        "plt.show()"
      ],
      "execution_count": 125,
      "outputs": [
        {
          "output_type": "display_data",
          "data": {
            "image/png": "[encoded data removed]",
            "text/plain": [
              "<Figure size 432x288 with 1 Axes>"
            ]
          },
          "metadata": {
            "tags": [],
            "needs_background": "light"
          }
        }
      ]
    },
    {
      "cell_type": "markdown",
      "metadata": {
        "id": "36NHSSt7mYSC",
        "colab_type": "text"
      },
      "source": [
        " random forest에서는 'color_intensity'를 가장 중요한 요소로 판단"
      ]
    },
    {
      "cell_type": "code",
      "metadata": {
        "id": "eiVy5jqpEb82",
        "colab_type": "code",
        "outputId": "cfc13f30-e1ae-448d-a9ef-164f098a5094",
        "colab": {
          "base_uri": "https://localhost:8080/",
          "height": 35
        }
      },
      "source": [
        "from sklearn.metrics import accuracy_score\n",
        "from sklearn.ensemble import RandomForestClassifier\n",
        "\n",
        "\n",
        "predicted = clf.predict(R_test)\n",
        "accuracy = accuracy_score(y_test, predicted)\n",
        "\n",
        "print(f'Mean accuracy score: {accuracy:.3}')"
      ],
      "execution_count": 126,
      "outputs": [
        {
          "output_type": "stream",
          "text": [
            "Mean accuracy score: 0.981\n"
          ],
          "name": "stdout"
        }
      ]
    },
    {
      "cell_type": "code",
      "metadata": {
        "id": "iXH-YTfXEe7z",
        "colab_type": "code",
        "outputId": "c33ea62f-49f0-4f81-a068-c81eaf52c22b",
        "colab": {
          "base_uri": "https://localhost:8080/",
          "height": 251
        }
      },
      "source": [
        "print(classification_report(y_test, predicted))\n",
        "print(confusion_matrix(y_test, predicted))\n"
      ],
      "execution_count": 127,
      "outputs": [
        {
          "output_type": "stream",
          "text": [
            "              precision    recall  f1-score   support\n",
            "\n",
            "           0       1.00      0.95      0.98        22\n",
            "           1       0.95      1.00      0.97        18\n",
            "           2       1.00      1.00      1.00        14\n",
            "\n",
            "    accuracy                           0.98        54\n",
            "   macro avg       0.98      0.98      0.98        54\n",
            "weighted avg       0.98      0.98      0.98        54\n",
            "\n",
            "[[21  1  0]\n",
            " [ 0 18  0]\n",
            " [ 0  0 14]]\n"
          ],
          "name": "stdout"
        }
      ]
    },
    {
      "cell_type": "code",
      "metadata": {
        "id": "Aq-8y1IwLaqr",
        "colab_type": "code",
        "colab": {
          "base_uri": "https://localhost:8080/",
          "height": 71
        },
        "outputId": "a6676e1d-2a9a-4d44-d8b5-5c0b0162558e"
      },
      "source": [
        "## ROC curve 를 통한 AUC score 구하기\n",
        "from sklearn.metrics import roc_curve\n",
        "from sklearn.metrics import roc_auc_score\n",
        "from sklearn import preprocessing\n",
        "\n",
        "def multiclass_roc_auc_score(y_test, y_pred, average=\"macro\"):\n",
        "  lb = preprocessing.LabelBinarizer()\n",
        "  lb.fit(y_test)\n",
        "  y_test = lb.transform(y_test)\n",
        "  y_pred = lb.transform(y_pred)\n",
        "  return roc_auc_score(y_test, y_pred, average=average)\n",
        "\n",
        "d1=multiclass_roc_auc_score(y_test,predicted)\n",
        "d2=(0.98+0.97+1.0)/3\n",
        "d3=accuracy_score(y_test, predicted)\n",
        "\n",
        "## Random Forest의 accuracy, f1- score, auc score 나타낸 결과\n",
        "print('Random Forest model roc curve score :' ,d1)\n",
        "print('Random Forest model f1-score :' ,d2)\n",
        "print('Random Forest model accuracy :' ,d3)\n"
      ],
      "execution_count": 130,
      "outputs": [
        {
          "output_type": "stream",
          "text": [
            "Random Forest model roc curve score : 0.9877946127946128\n",
            "Random Forest model f1-score : 0.9833333333333334\n",
            "Random Forest model accuracy : 0.9814814814814815\n"
          ],
          "name": "stdout"
        }
      ]
    },
    {
      "cell_type": "code",
      "metadata": {
        "id": "fSq12nsIFERj",
        "colab_type": "code",
        "outputId": "1495846a-c80d-48c7-934c-26e414adc4d4",
        "colab": {
          "base_uri": "https://localhost:8080/",
          "height": 449
        }
      },
      "source": [
        "!pip install mglearn"
      ],
      "execution_count": 7,
      "outputs": [
        {
          "output_type": "stream",
          "text": [
            "Collecting mglearn\n",
            "\u001b[?25l  Downloading https://files.pythonhosted.org/packages/fb/01/8d3630ecc767c9de96a9c46e055f2a3a5f9e14a47d3d0348a36a5005fe67/mglearn-0.1.7.tar.gz (540kB)\n",
            "\r\u001b[K     |▋                               | 10kB 4.2MB/s eta 0:00:01\r\u001b[K     |█▏                              | 20kB 1.3MB/s eta 0:00:01\r\u001b[K     |█▉                              | 30kB 1.8MB/s eta 0:00:01\r\u001b[K     |██▍                             | 40kB 1.5MB/s eta 0:00:01\r\u001b[K     |███                             | 51kB 1.8MB/s eta 0:00:01\r\u001b[K     |███▋                            | 61kB 2.0MB/s eta 0:00:01\r\u001b[K     |████▎                           | 71kB 2.2MB/s eta 0:00:01\r\u001b[K     |████▉                           | 81kB 2.4MB/s eta 0:00:01\r\u001b[K     |█████▌                          | 92kB 2.6MB/s eta 0:00:01\r\u001b[K     |██████                          | 102kB 2.5MB/s eta 0:00:01\r\u001b[K     |██████▋                         | 112kB 2.5MB/s eta 0:00:01\r\u001b[K     |███████▎                        | 122kB 2.5MB/s eta 0:00:01\r\u001b[K     |███████▉                        | 133kB 2.5MB/s eta 0:00:01\r\u001b[K     |████████▌                       | 143kB 2.5MB/s eta 0:00:01\r\u001b[K     |█████████                       | 153kB 2.5MB/s eta 0:00:01\r\u001b[K     |█████████▊                      | 163kB 2.5MB/s eta 0:00:01\r\u001b[K     |██████████▎                     | 174kB 2.5MB/s eta 0:00:01\r\u001b[K     |███████████                     | 184kB 2.5MB/s eta 0:00:01\r\u001b[K     |███████████▌                    | 194kB 2.5MB/s eta 0:00:01\r\u001b[K     |████████████▏                   | 204kB 2.5MB/s eta 0:00:01\r\u001b[K     |████████████▊                   | 215kB 2.5MB/s eta 0:00:01\r\u001b[K     |█████████████▎                  | 225kB 2.5MB/s eta 0:00:01\r\u001b[K     |██████████████                  | 235kB 2.5MB/s eta 0:00:01\r\u001b[K     |██████████████▌                 | 245kB 2.5MB/s eta 0:00:01\r\u001b[K     |███████████████▏                | 256kB 2.5MB/s eta 0:00:01\r\u001b[K     |███████████████▊                | 266kB 2.5MB/s eta 0:00:01\r\u001b[K     |████████████████▍               | 276kB 2.5MB/s eta 0:00:01\r\u001b[K     |█████████████████               | 286kB 2.5MB/s eta 0:00:01\r\u001b[K     |█████████████████▋              | 296kB 2.5MB/s eta 0:00:01\r\u001b[K     |██████████████████▏             | 307kB 2.5MB/s eta 0:00:01\r\u001b[K     |██████████████████▊             | 317kB 2.5MB/s eta 0:00:01\r\u001b[K     |███████████████████▍            | 327kB 2.5MB/s eta 0:00:01\r\u001b[K     |████████████████████            | 337kB 2.5MB/s eta 0:00:01\r\u001b[K     |████████████████████▋           | 348kB 2.5MB/s eta 0:00:01\r\u001b[K     |█████████████████████▏          | 358kB 2.5MB/s eta 0:00:01\r\u001b[K     |█████████████████████▉          | 368kB 2.5MB/s eta 0:00:01\r\u001b[K     |██████████████████████▍         | 378kB 2.5MB/s eta 0:00:01\r\u001b[K     |███████████████████████         | 389kB 2.5MB/s eta 0:00:01\r\u001b[K     |███████████████████████▋        | 399kB 2.5MB/s eta 0:00:01\r\u001b[K     |████████████████████████▎       | 409kB 2.5MB/s eta 0:00:01\r\u001b[K     |████████████████████████▉       | 419kB 2.5MB/s eta 0:00:01\r\u001b[K     |█████████████████████████▍      | 430kB 2.5MB/s eta 0:00:01\r\u001b[K     |██████████████████████████      | 440kB 2.5MB/s eta 0:00:01\r\u001b[K     |██████████████████████████▋     | 450kB 2.5MB/s eta 0:00:01\r\u001b[K     |███████████████████████████▎    | 460kB 2.5MB/s eta 0:00:01\r\u001b[K     |███████████████████████████▉    | 471kB 2.5MB/s eta 0:00:01\r\u001b[K     |████████████████████████████▌   | 481kB 2.5MB/s eta 0:00:01\r\u001b[K     |█████████████████████████████   | 491kB 2.5MB/s eta 0:00:01\r\u001b[K     |█████████████████████████████▊  | 501kB 2.5MB/s eta 0:00:01\r\u001b[K     |██████████████████████████████▎ | 512kB 2.5MB/s eta 0:00:01\r\u001b[K     |███████████████████████████████ | 522kB 2.5MB/s eta 0:00:01\r\u001b[K     |███████████████████████████████▌| 532kB 2.5MB/s eta 0:00:01\r\u001b[K     |████████████████████████████████| 542kB 2.5MB/s \n",
            "\u001b[?25hRequirement already satisfied: numpy in /usr/local/lib/python3.6/dist-packages (from mglearn) (1.18.2)\n",
            "Requirement already satisfied: matplotlib in /usr/local/lib/python3.6/dist-packages (from mglearn) (3.2.1)\n",
            "Requirement already satisfied: scikit-learn in /usr/local/lib/python3.6/dist-packages (from mglearn) (0.22.2.post1)\n",
            "Requirement already satisfied: pandas in /usr/local/lib/python3.6/dist-packages (from mglearn) (1.0.3)\n",
            "Requirement already satisfied: pillow in /usr/local/lib/python3.6/dist-packages (from mglearn) (7.0.0)\n",
            "Requirement already satisfied: cycler in /usr/local/lib/python3.6/dist-packages (from mglearn) (0.10.0)\n",
            "Requirement already satisfied: imageio in /usr/local/lib/python3.6/dist-packages (from mglearn) (2.4.1)\n",
            "Requirement already satisfied: pyparsing!=2.0.4,!=2.1.2,!=2.1.6,>=2.0.1 in /usr/local/lib/python3.6/dist-packages (from matplotlib->mglearn) (2.4.7)\n",
            "Requirement already satisfied: kiwisolver>=1.0.1 in /usr/local/lib/python3.6/dist-packages (from matplotlib->mglearn) (1.2.0)\n",
            "Requirement already satisfied: python-dateutil>=2.1 in /usr/local/lib/python3.6/dist-packages (from matplotlib->mglearn) (2.8.1)\n",
            "Requirement already satisfied: joblib>=0.11 in /usr/local/lib/python3.6/dist-packages (from scikit-learn->mglearn) (0.14.1)\n",
            "Requirement already satisfied: scipy>=0.17.0 in /usr/local/lib/python3.6/dist-packages (from scikit-learn->mglearn) (1.4.1)\n",
            "Requirement already satisfied: pytz>=2017.2 in /usr/local/lib/python3.6/dist-packages (from pandas->mglearn) (2018.9)\n",
            "Requirement already satisfied: six in /usr/local/lib/python3.6/dist-packages (from cycler->mglearn) (1.12.0)\n",
            "Building wheels for collected packages: mglearn\n",
            "  Building wheel for mglearn (setup.py) ... \u001b[?25l\u001b[?25hdone\n",
            "  Created wheel for mglearn: filename=mglearn-0.1.7-py2.py3-none-any.whl size=582705 sha256=3e89bf365ad617a03666dc011474804c544694def2c4e5a8d715ecf18b7fd315\n",
            "  Stored in directory: /root/.cache/pip/wheels/74/cf/8d/04f4932d15854a36726c6210763c7127e62de28f5c8ddfcf3b\n",
            "Successfully built mglearn\n",
            "Installing collected packages: mglearn\n",
            "Successfully installed mglearn-0.1.7\n"
          ],
          "name": "stdout"
        }
      ]
    },
    {
      "cell_type": "markdown",
      "metadata": {
        "id": "MtVayt80PQek",
        "colab_type": "text"
      },
      "source": [
        "Wine data는 SVM model이 제일 적합함을 알 수 있다."
      ]
    },
    {
      "cell_type": "code",
      "metadata": {
        "id": "SXGB1fO2xVvw",
        "colab_type": "code",
        "colab": {
          "base_uri": "https://localhost:8080/",
          "height": 269
        },
        "outputId": "0827fb06-b09f-4062-eab9-9ac9052af40a"
      },
      "source": [
        "print('SVM model roc curve score :' ,a1)\n",
        "print('KNN model roc curve score :' ,b1)\n",
        "print('Decision Tree model roc curve score :' ,c1)\n",
        "print('Random Forest model roc curve score : ' ,d1)\n",
        "\n",
        "\n",
        "print('\\nSVM model f1-score :' ,a2)\n",
        "print('KNN model f1-score :' ,b2)\n",
        "print('Decision Tree model f1-score :' ,c2)\n",
        "print('Random Forest model f1-score :' ,d2)\n",
        "\n",
        "print('\\nSVM model accuracy :' ,a3)\n",
        "print('KNN model accuracy :' ,b3)\n",
        "print('Decision Tree model accuracy :' ,c3)\n",
        "print('Random Forest model accuracy :' ,d3)"
      ],
      "execution_count": 145,
      "outputs": [
        {
          "output_type": "stream",
          "text": [
            "SVM model roc curve score : 0.9877946127946128\n",
            "KNN model roc curve score : 0.9562337662337663\n",
            "Decision Tree model roc curve score : 0.9573578554228709\n",
            "Random Forest model roc curve score :  0.9877946127946128\n",
            "\n",
            "SVM model f1-score : 0.9833333333333334\n",
            "KNN model f1-score : 0.9233333333333333\n",
            "Decision Tree model f1-score : 0.9466666666666667\n",
            "Random Forest model f1-score : 0.9833333333333334\n",
            "\n",
            "SVM model accuracy : 0.9814814814814815\n",
            "KNN model accuracy : 0.9259259259259259\n",
            "Decision Tree model accuracy : 0.9444444444444444\n",
            "Random Forest model accuracy : 0.9814814814814815\n"
          ],
          "name": "stdout"
        }
      ]
    },
    {
      "cell_type": "code",
      "metadata": {
        "id": "X7n19vooNx4E",
        "colab_type": "code",
        "colab": {}
      },
      "source": [
        ""
      ],
      "execution_count": 0,
      "outputs": []
    }
  ]
}