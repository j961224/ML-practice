{
  "nbformat": 4,
  "nbformat_minor": 0,
  "metadata": {
    "hide_input": false,
    "kernelspec": {
      "display_name": "Python 3",
      "language": "python",
      "name": "python3"
    },
    "language_info": {
      "codemirror_mode": {
        "name": "ipython",
        "version": 3
      },
      "file_extension": ".py",
      "mimetype": "text/x-python",
      "name": "python",
      "nbconvert_exporter": "python",
      "pygments_lexer": "ipython3",
      "version": "3.6.10"
    },
    "toc": {
      "base_numbering": 1,
      "nav_menu": {},
      "number_sections": true,
      "sideBar": true,
      "skip_h1_title": false,
      "title_cell": "Table of Contents",
      "title_sidebar": "Contents",
      "toc_cell": false,
      "toc_position": {},
      "toc_section_display": true,
      "toc_window_display": false
    },
    "varInspector": {
      "cols": {
        "lenName": 16,
        "lenType": 16,
        "lenVar": 40
      },
      "kernels_config": {
        "python": {
          "delete_cmd_postfix": "",
          "delete_cmd_prefix": "del ",
          "library": "var_list.py",
          "varRefreshCmd": "print(var_dic_list())"
        },
        "r": {
          "delete_cmd_postfix": ") ",
          "delete_cmd_prefix": "rm(",
          "library": "var_list.r",
          "varRefreshCmd": "cat(var_dic_list()) "
        }
      },
      "types_to_exclude": [
        "module",
        "function",
        "builtin_function_or_method",
        "instance",
        "_Feature"
      ],
      "window_display": false
    },
    "colab": {
      "name": "HW10_2020_201521149_수학과_정유석.ipynb",
      "provenance": [],
      "collapsed_sections": []
    }
  },
  "cells": [
    {
      "cell_type": "code",
      "metadata": {
        "ExecuteTime": {
          "end_time": "2020-06-07T06:54:48.508891Z",
          "start_time": "2020-06-07T06:54:48.247497Z"
        },
        "id": "Z_KnszVKUfsi"
      },
      "source": [
        "import numpy as np\n",
        "import matplotlib.pylab as plt\n",
        "\n",
        "from sklearn.datasets import fetch_openml\n",
        "from sklearn.model_selection import train_test_split\n",
        "from collections import OrderedDict\n"
      ],
      "execution_count": null,
      "outputs": []
    },
    {
      "cell_type": "code",
      "metadata": {
        "id": "ggFZa2obBDWc",
        "colab": {
          "base_uri": "https://localhost:8080/",
          "height": 270
        },
        "outputId": "9f97e2f6-946e-498a-f78b-613561e26cea"
      },
      "source": [
        "!pip install watermark"
      ],
      "execution_count": null,
      "outputs": [
        {
          "output_type": "stream",
          "text": [
            "Requirement already satisfied: watermark in /usr/local/lib/python3.6/dist-packages (2.0.2)\n",
            "Requirement already satisfied: ipython in /usr/local/lib/python3.6/dist-packages (from watermark) (5.5.0)\n",
            "Requirement already satisfied: traitlets>=4.2 in /usr/local/lib/python3.6/dist-packages (from ipython->watermark) (4.3.3)\n",
            "Requirement already satisfied: decorator in /usr/local/lib/python3.6/dist-packages (from ipython->watermark) (4.4.2)\n",
            "Requirement already satisfied: pygments in /usr/local/lib/python3.6/dist-packages (from ipython->watermark) (2.1.3)\n",
            "Requirement already satisfied: simplegeneric>0.8 in /usr/local/lib/python3.6/dist-packages (from ipython->watermark) (0.8.1)\n",
            "Requirement already satisfied: pickleshare in /usr/local/lib/python3.6/dist-packages (from ipython->watermark) (0.7.5)\n",
            "Requirement already satisfied: pexpect; sys_platform != \"win32\" in /usr/local/lib/python3.6/dist-packages (from ipython->watermark) (4.8.0)\n",
            "Requirement already satisfied: prompt-toolkit<2.0.0,>=1.0.4 in /usr/local/lib/python3.6/dist-packages (from ipython->watermark) (1.0.18)\n",
            "Requirement already satisfied: setuptools>=18.5 in /usr/local/lib/python3.6/dist-packages (from ipython->watermark) (47.1.1)\n",
            "Requirement already satisfied: six in /usr/local/lib/python3.6/dist-packages (from traitlets>=4.2->ipython->watermark) (1.12.0)\n",
            "Requirement already satisfied: ipython-genutils in /usr/local/lib/python3.6/dist-packages (from traitlets>=4.2->ipython->watermark) (0.2.0)\n",
            "Requirement already satisfied: ptyprocess>=0.5 in /usr/local/lib/python3.6/dist-packages (from pexpect; sys_platform != \"win32\"->ipython->watermark) (0.6.0)\n",
            "Requirement already satisfied: wcwidth in /usr/local/lib/python3.6/dist-packages (from prompt-toolkit<2.0.0,>=1.0.4->ipython->watermark) (0.2.4)\n"
          ],
          "name": "stdout"
        }
      ]
    },
    {
      "cell_type": "markdown",
      "metadata": {
        "id": "CcXgCfEEUfsv"
      },
      "source": [
        "**NOTE** 코딩해야할 부분을 제외하고는 수정하지 마세요."
      ]
    },
    {
      "cell_type": "markdown",
      "metadata": {
        "id": "7h6cnf77Ufsw"
      },
      "source": [
        "# DATA LOAD"
      ]
    },
    {
      "cell_type": "code",
      "metadata": {
        "ExecuteTime": {
          "end_time": "2020-06-07T06:55:03.109724Z",
          "start_time": "2020-06-07T06:54:49.615474Z"
        },
        "id": "FGIU9RI8Ufsw"
      },
      "source": [
        "mnist_sci = fetch_openml('mnist_784')"
      ],
      "execution_count": null,
      "outputs": []
    },
    {
      "cell_type": "code",
      "metadata": {
        "ExecuteTime": {
          "end_time": "2020-06-07T06:55:03.494027Z",
          "start_time": "2020-06-07T06:55:03.117550Z"
        },
        "id": "m0Pb-BemUfs1"
      },
      "source": [
        "x_train, x_test, y_train_, y_test_ = train_test_split(mnist_sci.data, mnist_sci.target, \n",
        "                                                    test_size = 0.1,\n",
        "                                                   shuffle = True)\n",
        "x_train /= 255.0\n",
        "x_test /= 255.0\n",
        "x_train = x_train.reshape(-1,1,28,28)\n",
        "x_test = x_test.reshape(-1,1,28,28)\n",
        "\n",
        "def one_hoy_label(X):\n",
        "    T = np.zeros((X.size, 10))    \n",
        "    for idx, row in enumerate(T):\n",
        "        row[int(X[idx])] = 1\n",
        "        \n",
        "    return T\n",
        "\n",
        "y_train = one_hoy_label(y_train_)\n",
        "y_test = one_hoy_label(y_test_)"
      ],
      "execution_count": null,
      "outputs": []
    },
    {
      "cell_type": "code",
      "metadata": {
        "id": "HdWF8ilDUfs6"
      },
      "source": [
        "class Softmax_CE:\n",
        "    \"\"\"\n",
        "    편의를 위해서 softmax와 crossenropy를 결합한 것입니다.\n",
        "    \"\"\"\n",
        "    def __init__(self):\n",
        "        self.loss = None # 손실함수\n",
        "        self.y = None    # softmax의 출력\n",
        "        self.t = None    # 정답 레이블(원-핫 인코딩 형태)\n",
        "        \n",
        "    def forward(self, x, t):\n",
        "        self.t = t\n",
        "        self.y = softmax(x)\n",
        "        self.loss = CE_loss(self.y, self.t)\n",
        "        \n",
        "        return self.loss\n",
        "\n",
        "    def backward(self, dout=1):\n",
        "        batch_size = self.t.shape[0]\n",
        "        dx = (self.y - self.t) / batch_size\n",
        "\n",
        "        return dx"
      ],
      "execution_count": null,
      "outputs": []
    },
    {
      "cell_type": "code",
      "metadata": {
        "id": "siqQoJDud8Jv"
      },
      "source": [
        "def CE_loss(y, t):\n",
        "    \n",
        "    ######################################################################\n",
        "    #  cross entropy 함수를 구현.                               \n",
        "    # y 값의 경우 예측한 값, t값의 경우 true label 값입니다.    \n",
        "    # batch 로 데이터가 들어온다는 것을 유의 하세요.\n",
        "    ######################################################################\n",
        "    if y.ndim == 1:\n",
        "        t = t.reshape(1, t.size)\n",
        "        y = y.reshape(1, y.size)\n",
        "\n",
        "    # 훈련 데이터가 one-hot이라면 정답 레이블의 인덱스로 반환\n",
        "    if t.size == y.size:\n",
        "        t = t.argmax(axis=1)\n",
        "\n",
        "    batch_size = y.shape[0]\n",
        "    return -np.sum(np.log(y[np.arange(batch_size), t] + 1e-7)) / batch_size\n",
        "\n",
        "\n",
        "\n",
        "    ######################################################################\n",
        "    #                          END OF YOUR CODE                          #\n",
        "    ######################################################################"
      ],
      "execution_count": null,
      "outputs": []
    },
    {
      "cell_type": "code",
      "metadata": {
        "id": "-A2X_uYucq1h"
      },
      "source": [
        "def softmax(x):\n",
        "    \n",
        "    \n",
        "    if x.ndim == 2:\n",
        "      x = x.T\n",
        "      x = x - np.max(x, axis=0) # 오버플로 대책\n",
        "      y = np.exp(x) / np.sum(np.exp(x), axis=0) #전체 exponential 합에 해당 exponential 나누기\n",
        "      return y.T \n",
        "\n",
        "    ######################################################################\n",
        "    #                          END OF YOUR CODE                          #\n",
        "    ######################################################################"
      ],
      "execution_count": null,
      "outputs": []
    },
    {
      "cell_type": "code",
      "metadata": {
        "id": "wp3UdqPpdK-e"
      },
      "source": [
        "class FClayer:\n",
        "\n",
        "    def __init__(self, W, b):\n",
        "        \n",
        "        self.W = W\n",
        "        self.b = b\n",
        "        \n",
        "        self.x = None\n",
        "        \n",
        "        # backward 를 위해서 shape을 변경할 수가 있어서 원래의 shape 저장\n",
        "        self.original_x_shape = None\n",
        "        \n",
        "        # 가중치와 편향 매개변수의 미분\n",
        "        self.dW = None\n",
        "        self.db = None\n",
        "\n",
        "    def forward(self, x):\n",
        "        # 본인이 구현한 입력 이미지의 shape 에 따라서 조정을 해줄수도 있습니다. \n",
        "        # reshape으로 모양 재조정\n",
        "        self.original_x_shape=x.shape\n",
        "        x=x.reshape(x.shape[0],-1)\n",
        "        self.x=x\n",
        "        out=np.dot(self.x,self.W)+self.b\n",
        "\n",
        "        return out\n",
        "    \n",
        "    # 1차원 함수의 곱셈에 대해서 생각해보고 그것을 확장하세요 \n",
        "    # 항상 데이터의 shape에 주의 하세요\n",
        "    def backward(self, dout):\n",
        "      dx = np.dot(dout, self.W.T) \n",
        "      self.dW = np.dot(self.x.T, dout) \n",
        "      self.db = np.sum(dout, axis=0) \n",
        "      dx = dx.reshape(*self.original_x_shape)  # 입력 데이터 모양 변경\n",
        "      return dx\n",
        "    \n",
        "    ######################################################################\n",
        "    #                          END OF YOUR CODE                          #\n",
        "    ######################################################################"
      ],
      "execution_count": null,
      "outputs": []
    },
    {
      "cell_type": "code",
      "metadata": {
        "id": "X2Edwq02dtsJ"
      },
      "source": [
        "class Relu:\n",
        "    \n",
        "    # masking을 해보세요\n",
        "    def __init__(self):\n",
        "        self.mask = None\n",
        "\n",
        "    def forward(self, x):\n",
        "      # 0보다 작은 것은 0\n",
        "      self.mask = (x <= 0)\n",
        "      out = x.copy()\n",
        "      out[self.mask] = 0\n",
        "      return out\n",
        "\n",
        "  \n",
        "    \n",
        "    # 항등함수의 미분은 자기 자신입니다. \n",
        "    def backward(self, dout):\n",
        "      #0이상은 자기자신을 준다.\n",
        "      dout[self.mask] = 0\n",
        "      dx = dout\n",
        "      return dx\n",
        "\n",
        "    \n",
        "    ######################################################################\n",
        "    #                          END OF YOUR CODE                          #\n",
        "    ######################################################################"
      ],
      "execution_count": null,
      "outputs": []
    },
    {
      "cell_type": "markdown",
      "metadata": {
        "id": "JmAfUxr7Ufs-"
      },
      "source": [
        "## 문제 1 에서 구현한 것을 바탕으로 CNN도 적용됩니다."
      ]
    },
    {
      "cell_type": "code",
      "metadata": {
        "id": "5qke-AQxUfs_"
      },
      "source": [
        "#class Relu:\n",
        "#class FClayer:\n",
        "#def softmax(x):\n",
        "#def CE_loss(y, t):"
      ],
      "execution_count": null,
      "outputs": []
    },
    {
      "cell_type": "markdown",
      "metadata": {
        "id": "2rl8jqkWUftD"
      },
      "source": [
        "---"
      ]
    },
    {
      "cell_type": "code",
      "metadata": {
        "id": "K580zBjwUftF"
      },
      "source": [
        "class Conv():\n",
        "    def __init__(self, W, b, stride=1, pad=0):\n",
        "        super().__init__()\n",
        "        \n",
        "        self.W = W\n",
        "        self.b = b\n",
        "        self.stride = stride\n",
        "        self.pad = pad\n",
        "        \n",
        "        self.x = None   \n",
        "        \n",
        "        # 가중치와 편향 매개변수의 기울기\n",
        "        self.dW = None\n",
        "        self.db = None\n",
        "        \n",
        "        self.out_h = None\n",
        "        self.out_w = None\n",
        "        \n",
        "    \n",
        "    def forward(self, x):\n",
        "        # backward 의 shape 확인을 위해서 저장\n",
        "        self.x = x[:]        \n",
        "        \n",
        "        FN, C_, FH, FW = self.W.shape\n",
        "        N, C, H, W = x.shape\n",
        "        \n",
        "        # output 출력 shape \n",
        "        self.out_h = 1 + int((H + 2*self.pad - FH) / self.stride)\n",
        "        self.out_w = 1 + int((W + 2*self.pad - FW) / self.stride)\n",
        "        out_h = self.out_h\n",
        "        out_w = self.out_w        \n",
        "        \n",
        "        # padding\n",
        "        pad_x = np.pad(\n",
        "            x, \n",
        "            ((0, 0), (0, 0), (self.pad, self.pad), (self.pad, self.pad)), \n",
        "            \"constant\", constant_values=0\n",
        "        )\n",
        "        \n",
        "\n",
        "        out = np.zeros((N, FN, out_h, out_w))        \n",
        "        for n in range(N):\n",
        "            for f in range(FN):\n",
        "                for j in range(out_h):\n",
        "                    for i in range(out_w):\n",
        "              \n",
        "                        out[n, f, j, i] = np.sum(pad_x[n, :, j*self.stride : FH+j*self.stride, i*self.stride : FW+i*self.stride]*self.W[f])+self.b[f]\n",
        "                        \n",
        "\n",
        "       \n",
        "                        \n",
        "\n",
        "        return out\n",
        "\n",
        "    def backward(self, dout):\n",
        "        \n",
        "        FN, C, FH, FW = self.W.shape\n",
        "        N, C, H, W = self.x.shape\n",
        "        \n",
        "        out_h = self.out_h\n",
        "        out_w = self.out_w\n",
        "        \n",
        "        # padding\n",
        "        pad_x = np.pad(\n",
        "            self.x, \n",
        "            ((0, 0), (0, 0), (self.pad, self.pad), (self.pad, self.pad)), \n",
        "            \"constant\", constant_values=0\n",
        "        )\n",
        "        \n",
        "        dx = np.zeros(pad_x.shape)\n",
        "        dw = np.zeros(self.W.shape)\n",
        "        db = np.zeros(self.b.shape)\n",
        "        \n",
        "    \n",
        "        for n in range(N):\n",
        "            for f in range(FN):\n",
        "                for j in range(out_h):\n",
        "                    for i in range(out_w):\n",
        "                        \n",
        "                        window = pad_x[n, :, j*self.stride :FH+j*self.stride , i*self.stride:FW+i*self.stride]\n",
        "                        db[f] += dout[n, f, j, i]                \n",
        "                        dw[f] += window * dout[n, f, j, i]                \n",
        "                        dx[n, :, j*self.stride :FH+j*self.stride , i*self.stride:FW+i*self.stride] += self.W[f] * dout[n, f, j, i]\n",
        "\n",
        "                        \n",
        "                        \n",
        "        # remove padding\n",
        "        dx = dx[:, :, self.pad:dx.shape[2]-self.pad, self.pad:dx.shape[3]-self.pad]\n",
        "        \n",
        "        self.db = db\n",
        "        self.dW = dw\n",
        "        \n",
        "        return dx"
      ],
      "execution_count": null,
      "outputs": []
    },
    {
      "cell_type": "code",
      "metadata": {
        "id": "zhoX9IWFUftL"
      },
      "source": [
        "class MaxPooling:\n",
        "    def __init__(self, pool_h, pool_w, stride=1, pad=0):\n",
        "        self.pool_h = pool_h\n",
        "        self.pool_w = pool_w\n",
        "        self.stride = stride\n",
        "        self.pad = pad\n",
        "        \n",
        "        self.x = None\n",
        "\n",
        "    def forward(self, x):\n",
        "        self.x = x[:]\n",
        "        N, C, H, W = x.shape\n",
        "        \n",
        "        out_h = int(1 + (H - self.pool_h) / self.stride)\n",
        "        out_w = int(1 + (W - self.pool_w) / self.stride)\n",
        "        \n",
        "        \n",
        "        out = np.zeros((N, C, out_h, out_w))\n",
        "        for j in range(out_h):\n",
        "            for i in range(out_w):\n",
        "\n",
        "                x_masked = self.x[:,:,j*self.stride : j*self.stride+self.pool_h, i*self.stride : i*self.stride+self.pool_w]\n",
        "                out[:,:,j,i] = np.max(x_masked, axis=(2,3)) \n",
        "\n",
        "        return out\n",
        "\n",
        "    def backward(self, dout):\n",
        "        \n",
        "        N, C, H, W = self.x.shape\n",
        "        out_h = (H-self.pool_h) // self.stride + 1\n",
        "        out_w = (W-self.pool_w) // self.stride + 1\n",
        "\n",
        "        dx = np.zeros(self.x.shape)\n",
        "        for n in range(N):\n",
        "            for c in range(C):\n",
        "                for j in range(out_h):\n",
        "                    for i in range(out_w):\n",
        "                        window = self.x[n, c, j*self.stride : self.pool_h+j*self.stride, i*self.stride : self.pool_w+i*self.stride]                \n",
        "                        m = np.max(window)               \n",
        "                        dx[n, c, j*self.stride : self.pool_h+j*self.stride, i*self.stride : self.pool_w+i*self.stride] = (window == m) * dout[n, c, j, i]\n",
        "       \n",
        "        return dx"
      ],
      "execution_count": null,
      "outputs": []
    },
    {
      "cell_type": "code",
      "metadata": {
        "ExecuteTime": {
          "end_time": "2020-06-07T06:55:19.163192Z",
          "start_time": "2020-06-07T06:55:19.146865Z"
        },
        "id": "G6hWfWxrUftP"
      },
      "source": [
        "class SimpleConvNet:\n",
        "    def __init__(self, input_dim=(1, 28, 28), \n",
        "                 conv_param={'filter_num':30, 'filter_size':5, 'pad':0, 'stride':1},\n",
        "                 hidden_size=100, output_size=10):\n",
        "        filter_num = conv_param['filter_num']\n",
        "        filter_size = conv_param['filter_size']\n",
        "        filter_pad = conv_param['pad']\n",
        "        filter_stride = conv_param['stride']\n",
        "        input_size = input_dim[1]\n",
        "        conv_output_size = (input_size - filter_size + 2*filter_pad) / filter_stride + 1\n",
        "        pool_output_size = int(filter_num * (conv_output_size/2) * (conv_output_size/2))\n",
        "\n",
        "        # 가중치 초기화\n",
        "        self.params = {}\n",
        "        weight_init_std = 0.01\n",
        "        self.params['W1'] = weight_init_std * \\\n",
        "                            np.random.randn(filter_num, input_dim[0], filter_size, filter_size)\n",
        "        self.params['b1'] = np.zeros(filter_num)\n",
        "        \n",
        "        self.params['W2'] = weight_init_std * \\\n",
        "                            np.random.randn(pool_output_size, hidden_size)\n",
        "        self.params['b2'] = np.zeros(hidden_size)\n",
        "        \n",
        "        self.params['W3'] = weight_init_std * \\\n",
        "                            np.random.randn(hidden_size, output_size)\n",
        "        self.params['b3'] = np.zeros(output_size)\n",
        "        \n",
        "\n",
        "        # 계층 생성\n",
        "        self.layers = OrderedDict()\n",
        "        self.layers['Conv1'] = Conv(self.params['W1'], self.params['b1'],\n",
        "                                           conv_param['stride'], conv_param['pad'])\n",
        "        self.layers['Relu1'] = Relu()\n",
        "        self.layers['Pool1'] = MaxPooling(pool_h=2, pool_w=2, stride=2)\n",
        "        self.layers['FClayer1'] = FClayer(self.params['W2'], self.params['b2'])\n",
        "        self.layers['Relu2'] = Relu()\n",
        "        self.layers['FClayer2'] = FClayer(self.params['W3'], self.params['b3'])\n",
        "\n",
        "        self.last_layer = Softmax_CE()\n",
        "\n",
        "    def predict(self, x):\n",
        "        for layer in self.layers.values():\n",
        "            x = layer.forward(x)\n",
        "        return x\n",
        "\n",
        "    def loss(self, x, t):\n",
        "        y = self.predict(x)\n",
        "        return self.last_layer.forward(y, t)\n",
        "\n",
        "    def accuracy(self, x, t, batch_size=100):\n",
        "        if t.ndim != 1 : t = np.argmax(t, axis=1)\n",
        "        \n",
        "        acc = 0.0\n",
        "        \n",
        "        for i in range(int(x.shape[0] / batch_size)):\n",
        "            tx = x[i*batch_size:(i+1)*batch_size]\n",
        "            tt = t[i*batch_size:(i+1)*batch_size]\n",
        "            y = self.predict(tx)\n",
        "            y = np.argmax(y, axis=1)\n",
        "            acc += np.sum(y == tt) \n",
        "        \n",
        "        return acc / x.shape[0]\n",
        "\n",
        "    def gradient(self, x, t):\n",
        "\n",
        "        # forward\n",
        "        self.loss(x, t)\n",
        "\n",
        "        # backward\n",
        "        dout = 1\n",
        "        dout = self.last_layer.backward(dout) \n",
        "        # 위에서부터 forward와 backward가 반복\n",
        "\n",
        "        layers = list(self.layers.values())  #self.layers.values를 list형태로 변환\n",
        "        layers.reverse() #list의 요소를 뒤집어줌\n",
        "        for layer in layers:\n",
        "            dout = layer.backward(dout)\n",
        "            #layer에 backward 반복\n",
        "\n",
        "        # 결과 저장\n",
        "        grads = {} # 각 layer에서 얻어진 가중치 업데이트\n",
        "        grads['W1'], grads['b1'] = self.layers['Conv1'].dW, self.layers['Conv1'].db\n",
        "        grads['W2'], grads['b2'] = self.layers['FClayer1'].dW, self.layers['FClayer1'].db\n",
        "        grads['W3'], grads['b3'] = self.layers['FClayer2'].dW, self.layers['FClayer2'].db\n",
        "\n",
        "        return grads"
      ],
      "execution_count": null,
      "outputs": []
    },
    {
      "cell_type": "code",
      "metadata": {
        "ExecuteTime": {
          "end_time": "2020-06-07T06:55:20.334140Z",
          "start_time": "2020-06-07T06:55:20.301677Z"
        },
        "id": "QM8zfY6QUftT"
      },
      "source": [
        "network = SimpleConvNet(input_dim=(1,28,28), \n",
        "                        conv_param = {'filter_num': 3, 'filter_size': 3, 'pad': 0, 'stride': 1},\n",
        "                        hidden_size=16, output_size=10)"
      ],
      "execution_count": null,
      "outputs": []
    },
    {
      "cell_type": "code",
      "metadata": {
        "id": "6FUNTGpUUftX"
      },
      "source": [
        "def filter_show(filters, nx=8, margin=3, scale=10):\n",
        "    FN, C, FH, FW = filters.shape\n",
        "    ny = int(np.ceil(FN / nx))\n",
        "\n",
        "    fig = plt.figure()\n",
        "    fig.subplots_adjust(left=0, right=1, bottom=0, top=1, hspace=0.05, wspace=0.05)\n",
        "\n",
        "    for i in range(FN):\n",
        "        ax = fig.add_subplot(ny, nx, i+1, xticks=[], yticks=[])\n",
        "        ax.imshow(filters[i, 0], cmap=plt.cm.gray_r, interpolation='nearest')\n",
        "    plt.show()"
      ],
      "execution_count": null,
      "outputs": []
    },
    {
      "cell_type": "markdown",
      "metadata": {
        "id": "hQ3z_6jyUftd"
      },
      "source": [
        "## 학습이 되기전 conv layer 의 파라미터값"
      ]
    },
    {
      "cell_type": "code",
      "metadata": {
        "id": "C8pqxzVmUftf",
        "colab": {
          "base_uri": "https://localhost:8080/",
          "height": 86
        },
        "outputId": "9f45ec43-ee7a-4481-97ec-5c46e2af8679"
      },
      "source": [
        "filter_show(network.params['W1'])"
      ],
      "execution_count": null,
      "outputs": [
        {
          "output_type": "display_data",
          "data": {
            "image/png": "[encoded data removed]",
            "text/plain": [
              "<Figure size 432x288 with 3 Axes>"
            ]
          },
          "metadata": {
            "tags": []
          }
        }
      ]
    },
    {
      "cell_type": "code",
      "metadata": {
        "id": "PZrTAfgFUftl",
        "colab": {
          "base_uri": "https://localhost:8080/",
          "height": 71
        },
        "outputId": "c0a9c850-7a5f-4032-e296-e74b377269aa"
      },
      "source": [
        "train_size = x_train.shape[0]\n",
        "batch_size = 100   # 미니배치 크기\n",
        "learning_rate = 0.1\n",
        "\n",
        "test_acc_list = []\n",
        "epochs = 3\n",
        "step = int(train_size / batch_size)\n",
        "\n",
        "for epoch in range(epochs):\n",
        "    for batch_idx in range(step):\n",
        "        x_batch = x_train[batch_idx*batch_size:batch_idx*batch_size+batch_size]\n",
        "        y_batch = y_train[batch_idx*batch_size:batch_idx*batch_size+batch_size]\n",
        "        grad = network.gradient(x_batch, y_batch)\n",
        "\n",
        "\n",
        "        # 매개변수 갱신\n",
        "        for key in network.params.keys():\n",
        "            network.params[key] -= learning_rate * grad[key]\n",
        "\n",
        "        # 학습 경과 기록\n",
        "        loss = network.loss(x_batch, y_batch)\n",
        "\n",
        "    test_acc = network.accuracy(x_test, y_test)\n",
        "    print(\" test acc | \" + str(test_acc))"
      ],
      "execution_count": null,
      "outputs": [
        {
          "output_type": "stream",
          "text": [
            " test acc | 0.8765714285714286\n",
            " test acc | 0.9162857142857143\n",
            " test acc | 0.9247142857142857\n"
          ],
          "name": "stdout"
        }
      ]
    },
    {
      "cell_type": "code",
      "metadata": {
        "id": "GpYgZGytNW85"
      },
      "source": [
        ""
      ],
      "execution_count": null,
      "outputs": []
    },
    {
      "cell_type": "markdown",
      "metadata": {
        "id": "zKfLekHqUftp"
      },
      "source": [
        "## 학습 후 파라미터 값"
      ]
    },
    {
      "cell_type": "code",
      "metadata": {
        "id": "2Juih7keUftq",
        "colab": {
          "base_uri": "https://localhost:8080/",
          "height": 86
        },
        "outputId": "c80753e3-e6e5-49ab-9c00-b5c2bcdbab22"
      },
      "source": [
        "######################################################################\n",
        "# 학습된 필터                                      #\n",
        "######################################################################\n",
        "filter_show(network.params['W1'])"
      ],
      "execution_count": null,
      "outputs": [
        {
          "output_type": "display_data",
          "data": {
            "image/png": "[encoded data removed]",
            "text/plain": [
              "<Figure size 432x288 with 3 Axes>"
            ]
          },
          "metadata": {
            "tags": []
          }
        }
      ]
    },
    {
      "cell_type": "code",
      "metadata": {
        "id": "5zij-Prx5ASn"
      },
      "source": [
        ""
      ],
      "execution_count": null,
      "outputs": []
    }
  ]
}